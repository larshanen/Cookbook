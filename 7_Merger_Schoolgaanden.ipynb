{
 "cells": [
  {
   "cell_type": "markdown",
   "metadata": {},
   "source": [
    "### 1. Import modules"
   ]
  },
  {
   "cell_type": "code",
   "execution_count": 1,
   "metadata": {},
   "outputs": [],
   "source": [
    "import warnings\n",
    "warnings.filterwarnings('ignore')\n",
    "\n",
    "import pyodbc\n",
    "import pandas as pd\n",
    "import numpy as np\n",
    "from sklearn.preprocessing import LabelEncoder, StandardScaler"
   ]
  },
  {
   "cell_type": "markdown",
   "metadata": {},
   "source": [
    "### 2. Merge .pkl's"
   ]
  },
  {
   "cell_type": "code",
   "execution_count": 2,
   "metadata": {},
   "outputs": [],
   "source": [
    "# schoolgaanden\n",
    "schoolgaanden_observaties = pd.read_pickle('4_Data\\Pickles\\schoolgaanden_observaties.pkl')\n",
    "schoolgaanden_relaties = pd.read_pickle('4_Data\\Pickles\\schoolgaanden_relaties.pkl')\n",
    "schoolgaanden_toestemmingen = pd.read_pickle('4_Data\\Pickles\\schoolgaanden_toestemmingen.pkl')\n",
    "schoolgaanden_cbs_pc4 = pd.read_pickle('4_Data\\Pickles\\schoolgaanden_cbs4.pkl')\n",
    "schoolgaanden_cbs_buurt = pd.read_pickle('4_Data\\Pickles\\schoolgaanden_buurt.pkl')\n",
    "schoolgaanden_coronit = pd.read_pickle('4_Data\\Pickles\\schoolgaanden_coronit.pkl')"
   ]
  },
  {
   "cell_type": "code",
   "execution_count": 3,
   "metadata": {},
   "outputs": [],
   "source": [
    "# Merge schoolgaanden_observaties, schoolgaanden_PC6 and schoolgaanden_relaties on 'Clientnummer'\n",
    "schoolgaanden = (schoolgaanden_observaties\n",
    "                 .merge(schoolgaanden_toestemmingen, on='Clientnummer', how='left')\n",
    "                 .merge(schoolgaanden_cbs_pc4, on='Clientnummer', how='left')\n",
    "                 .merge(schoolgaanden_cbs_buurt, on='Clientnummer', how='left')\n",
    "                 .merge(schoolgaanden_relaties, on='Clientnummer', how='left'))"
   ]
  },
  {
   "cell_type": "code",
   "execution_count": 4,
   "metadata": {},
   "outputs": [
    {
     "data": {
      "text/plain": [
       "14047"
      ]
     },
     "execution_count": 4,
     "metadata": {},
     "output_type": "execute_result"
    }
   ],
   "source": [
    "len(schoolgaanden)"
   ]
  },
  {
   "cell_type": "markdown",
   "metadata": {},
   "source": [
    "#### 2.1 Parent 1"
   ]
  },
  {
   "cell_type": "code",
   "execution_count": 5,
   "metadata": {},
   "outputs": [],
   "source": [
    "# Change the dtype of schoolgaanden['Huisnummer'] to int64\n",
    "schoolgaanden['Huisnummer'] = schoolgaanden['Huisnummer'].astype('int64')"
   ]
  },
  {
   "cell_type": "markdown",
   "metadata": {},
   "source": [
    "##### 2.1.1 Merge CoronIT on all four characteristics"
   ]
  },
  {
   "cell_type": "code",
   "execution_count": 6,
   "metadata": {},
   "outputs": [],
   "source": [
    "# Merge schoolgaanden with df_coronit\n",
    "schoolgaanden_coronit = schoolgaanden_coronit.rename(columns={'postcode': 'Postcode',\n",
    "                                                              'huisnummer': 'Huisnummer',\n",
    "                                                              'geboortedatum_ym': 'Geboortejaarmaand_relatie_ouder1',\n",
    "                                                              'geslacht': 'Geslacht_relatie_ouder1',\n",
    "                                                              'gevaccineerd': 'Gevaccineerd_ouder1'})\n",
    "schoolgaanden = schoolgaanden.merge(schoolgaanden_coronit, on=['Postcode', 'Huisnummer', 'Geslacht_relatie_ouder1', 'Geboortejaarmaand_relatie_ouder1'], how='left')"
   ]
  },
  {
   "cell_type": "code",
   "execution_count": 7,
   "metadata": {},
   "outputs": [
    {
     "data": {
      "text/plain": [
       "0.31138321349754394"
      ]
     },
     "execution_count": 7,
     "metadata": {},
     "output_type": "execute_result"
    }
   ],
   "source": [
    "# Print the missingness percentage of Gevaccineerd_ouder1\n",
    "schoolgaanden['Gevaccineerd_ouder1'].isnull().mean()"
   ]
  },
  {
   "cell_type": "markdown",
   "metadata": {},
   "source": [
    "##### 2.1.2 Merge CoronIT after discarding sex (only for NA's after 2.1)"
   ]
  },
  {
   "cell_type": "code",
   "execution_count": 8,
   "metadata": {},
   "outputs": [],
   "source": [
    "# Get the subset of schoolgaanden where Gevaccineerd_ouder1 is missing\n",
    "missing_gevaccineerd = schoolgaanden[schoolgaanden['Gevaccineerd_ouder1'].isnull()]\n",
    "\n",
    "# From schoolgaanden_coronit, remove columns 'Geslacht_relatie_ouder1'\n",
    "schoolgaanden_coronit = schoolgaanden_coronit.drop(columns='Geslacht_relatie_ouder1')\n",
    "\n",
    "# Merge again, but without Geslacht_relatie_ouder1\n",
    "updated_missing = missing_gevaccineerd.merge(schoolgaanden_coronit, on=['Postcode', 'Huisnummer', 'Geboortejaarmaand_relatie_ouder1'], how='left')\n",
    "\n",
    "# From updated_missing, remove columns 'Gevaccineerd_ouder1_x'\n",
    "updated_missing = updated_missing.drop(columns='Gevaccineerd_ouder1_x')\n",
    "\n",
    "# Concatenate the updated subset back with the non-missing part\n",
    "non_missing = schoolgaanden[~schoolgaanden['Gevaccineerd_ouder1'].isnull()]\n",
    "schoolgaanden = pd.concat([non_missing, updated_missing], ignore_index=True)\n",
    "\n",
    "# Use combine_first to combine Gevaccineerd_ouder1 and Gevaccineerd_ouder1_y\n",
    "schoolgaanden['Gevaccineerd_ouder1'] = schoolgaanden['Gevaccineerd_ouder1'].combine_first(schoolgaanden['Gevaccineerd_ouder1_y'])\n",
    "\n",
    "# Drop Gevaccineerd_ouder1_y\n",
    "schoolgaanden = schoolgaanden.drop('Gevaccineerd_ouder1_y', axis=1)"
   ]
  },
  {
   "cell_type": "code",
   "execution_count": 9,
   "metadata": {},
   "outputs": [
    {
     "data": {
      "text/plain": [
       "0.039581405282266675"
      ]
     },
     "execution_count": 9,
     "metadata": {},
     "output_type": "execute_result"
    }
   ],
   "source": [
    "# Print the missingness percentage of Gevaccineerd_ouder1\n",
    "schoolgaanden['Gevaccineerd_ouder1'].isnull().mean()"
   ]
  },
  {
   "cell_type": "code",
   "execution_count": 10,
   "metadata": {},
   "outputs": [
    {
     "data": {
      "text/plain": [
       "Gevaccineerd_ouder1\n",
       "True     0.660663\n",
       "False    0.339337\n",
       "Name: proportion, dtype: float64"
      ]
     },
     "execution_count": 10,
     "metadata": {},
     "output_type": "execute_result"
    }
   ],
   "source": [
    "schoolgaanden['Gevaccineerd_ouder1'].value_counts(normalize=True)"
   ]
  },
  {
   "cell_type": "markdown",
   "metadata": {},
   "source": [
    "#### 2.2 Parent 2"
   ]
  },
  {
   "cell_type": "code",
   "execution_count": 11,
   "metadata": {},
   "outputs": [],
   "source": [
    "schoolgaanden_coronit = pd.read_pickle('4_Data\\Pickles\\schoolgaanden_coronit.pkl')"
   ]
  },
  {
   "cell_type": "markdown",
   "metadata": {},
   "source": [
    "##### 2.2.1 Merge CoronIT on all four characteristics"
   ]
  },
  {
   "cell_type": "code",
   "execution_count": 12,
   "metadata": {},
   "outputs": [],
   "source": [
    "# Merge schoolgaanden with df_coronit\n",
    "schoolgaanden_coronit = schoolgaanden_coronit.rename(columns={'postcode': 'Postcode',\n",
    "                                                              'huisnummer': 'Huisnummer',\n",
    "                                                              'geboortedatum_ym': 'Geboortejaarmaand_relatie_ouder2',\n",
    "                                                              'geslacht': 'Geslacht_relatie_ouder2',\n",
    "                                                              'gevaccineerd': 'Gevaccineerd_ouder2'})\n",
    "schoolgaanden = schoolgaanden.merge(schoolgaanden_coronit, on=['Postcode', 'Huisnummer', 'Geslacht_relatie_ouder2', 'Geboortejaarmaand_relatie_ouder2'], how='left')"
   ]
  },
  {
   "cell_type": "code",
   "execution_count": 13,
   "metadata": {},
   "outputs": [
    {
     "data": {
      "text/plain": [
       "0.32362782088702213"
      ]
     },
     "execution_count": 13,
     "metadata": {},
     "output_type": "execute_result"
    }
   ],
   "source": [
    "# Print the missingness percentage of Gevaccineerd_ouder1\n",
    "schoolgaanden['Gevaccineerd_ouder2'].isnull().mean()"
   ]
  },
  {
   "cell_type": "markdown",
   "metadata": {},
   "source": [
    "##### 2.2.2 Merge CoronIT after discarding sex (only for NA's after 2.1)"
   ]
  },
  {
   "cell_type": "code",
   "execution_count": 14,
   "metadata": {},
   "outputs": [],
   "source": [
    "# Get the subset of schoolgaanden where Gevaccineerd_ouder1 is missing\n",
    "missing_gevaccineerd = schoolgaanden[schoolgaanden['Gevaccineerd_ouder2'].isnull()]\n",
    "\n",
    "# From schoolgaanden_coronit, remove columns 'Geslacht_relatie_ouder1'\n",
    "schoolgaanden_coronit = schoolgaanden_coronit.drop(columns='Geslacht_relatie_ouder2')\n",
    "\n",
    "# Merge again, but without Geslacht_relatie_ouder1\n",
    "updated_missing = missing_gevaccineerd.merge(schoolgaanden_coronit, on=['Postcode', 'Huisnummer', 'Geboortejaarmaand_relatie_ouder2'], how='left')\n",
    "\n",
    "# From updated_missing, remove columns 'Gevaccineerd_ouder1_x'\n",
    "updated_missing = updated_missing.drop(columns='Gevaccineerd_ouder2_x')\n",
    "\n",
    "# Concatenate the updated subset back with the non-missing part\n",
    "non_missing = schoolgaanden[~schoolgaanden['Gevaccineerd_ouder2'].isnull()]\n",
    "schoolgaanden = pd.concat([non_missing, updated_missing], ignore_index=True)\n",
    "\n",
    "# Use combine_first to combine Gevaccineerd_ouder1 and Gevaccineerd_ouder1_y\n",
    "schoolgaanden['Gevaccineerd_ouder2'] = schoolgaanden['Gevaccineerd_ouder2'].combine_first(schoolgaanden['Gevaccineerd_ouder2_y'])\n",
    "\n",
    "# Drop Gevaccineerd_ouder1_y\n",
    "schoolgaanden = schoolgaanden.drop('Gevaccineerd_ouder2_y', axis=1)"
   ]
  },
  {
   "cell_type": "code",
   "execution_count": 15,
   "metadata": {},
   "outputs": [
    {
     "data": {
      "text/plain": [
       "0.05759236847725493"
      ]
     },
     "execution_count": 15,
     "metadata": {},
     "output_type": "execute_result"
    }
   ],
   "source": [
    "# Print the missingness percentage of Gevaccineerd_ouder1\n",
    "schoolgaanden['Gevaccineerd_ouder2'].isnull().mean()"
   ]
  },
  {
   "cell_type": "code",
   "execution_count": 16,
   "metadata": {},
   "outputs": [
    {
     "data": {
      "text/plain": [
       "Gevaccineerd_ouder2\n",
       "True     0.620335\n",
       "False    0.379665\n",
       "Name: proportion, dtype: float64"
      ]
     },
     "execution_count": 16,
     "metadata": {},
     "output_type": "execute_result"
    }
   ],
   "source": [
    "schoolgaanden['Gevaccineerd_ouder2'].value_counts(normalize=True)"
   ]
  },
  {
   "cell_type": "markdown",
   "metadata": {},
   "source": [
    "### 3. Apply transformations"
   ]
  },
  {
   "cell_type": "markdown",
   "metadata": {},
   "source": [
    "#### 3.1 Parent matching"
   ]
  },
  {
   "cell_type": "code",
   "execution_count": 17,
   "metadata": {},
   "outputs": [],
   "source": [
    "# If both Geboortejaarmaand_relatie_ouder1 and GeboortejaarmaandBiologischeMoeder are not null and not equal, switch the columns\n",
    "mask = ((schoolgaanden['Geboortejaarmaand_relatie_ouder1'].notnull()) &\n",
    "        (schoolgaanden['GeboortejaarmaandBiologischeMoeder'].notnull()) &\n",
    "        (schoolgaanden['Geboortejaarmaand_relatie_ouder1'] != schoolgaanden['GeboortejaarmaandBiologischeMoeder']) &\n",
    "        (schoolgaanden['Geboortejaarmaand_relatie_ouder2'] == schoolgaanden['GeboortejaarmaandBiologischeMoeder']))\n",
    "\n",
    "# Switch\n",
    "schoolgaanden.loc[mask, ['Geboortejaarmaand_relatie_ouder1',\n",
    "                       'Geboorteland_relatie_ouder1',\n",
    "                       'Geslacht_relatie_ouder1',\n",
    "                       'Geboortejaarmaand_relatie_ouder2',\n",
    "                       'Geboorteland_relatie_ouder2',\n",
    "                       'Geslacht_relatie_ouder2']] = schoolgaanden.loc[mask, ['Geboortejaarmaand_relatie_ouder2',\n",
    "                                                                            'Geboorteland_relatie_ouder2',\n",
    "                                                                            'Geslacht_relatie_ouder2',\n",
    "                                                                            'Geboortejaarmaand_relatie_ouder1',\n",
    "                                                                            'Geboorteland_relatie_ouder1',\n",
    "                                                                            'Geslacht_relatie_ouder1']].values"
   ]
  },
  {
   "cell_type": "code",
   "execution_count": 18,
   "metadata": {},
   "outputs": [
    {
     "name": "stdout",
     "output_type": "stream",
     "text": [
      "The amount of relations in the df_observaties_relaties is: 14047, the amount of unique client ID's is: 14047\n"
     ]
    }
   ],
   "source": [
    "print(f'The amount of relations in the df_observaties_relaties is: {len(schoolgaanden)}, the amount of unique client ID\\'s is: {len(schoolgaanden['Clientnummer'].unique())}')"
   ]
  },
  {
   "cell_type": "code",
   "execution_count": 19,
   "metadata": {},
   "outputs": [
    {
     "name": "stdout",
     "output_type": "stream",
     "text": [
      "The amount of rows where both Geboortejaarmaand_relatie_ouder1 and GeboortejaarmaandBiologischeMoeder are empty: 217\n",
      "The amount of rows where Geboortejaarmaand_relatie_ouder1 is empty and GeboortejaarmaandBiologischeMoeder is not: 136\n",
      "The amount of rows where Geboortejaarmaand_relatie_ouder1 is not empty and GeboortejaarmaandBiologischeMoeder is empty: 4274\n",
      "The amount of rows where Geboortejaarmaand_relatie_ouder1 is not empty and GeboortejaarmaandBiologischeMoeder is not empty and they are not equal: 9420\n",
      "The amount of rows where Geboortejaarmaand_relatie_ouder1 and GeboortejaarmaandBiologischeMoeder are equal: 0\n"
     ]
    }
   ],
   "source": [
    "# Set all 'onbekend' values in schoolgaanden['Geboortejaarmaand_relatie_ouder1'] to np.nan\n",
    "schoolgaanden = schoolgaanden.replace('onbekend', np.nan)\n",
    "\n",
    "# Print matches of parents\n",
    "print(f'The amount of rows where both Geboortejaarmaand_relatie_ouder1 and GeboortejaarmaandBiologischeMoeder are empty: {len(schoolgaanden[(schoolgaanden['Geboortejaarmaand_relatie_ouder1'].isnull()) & (schoolgaanden['GeboortejaarmaandBiologischeMoeder'].isnull())])}')\n",
    "print(f'The amount of rows where Geboortejaarmaand_relatie_ouder1 is empty and GeboortejaarmaandBiologischeMoeder is not: {len(schoolgaanden[(schoolgaanden['Geboortejaarmaand_relatie_ouder1'].isnull()) & (schoolgaanden['GeboortejaarmaandBiologischeMoeder'].notnull())])}')\n",
    "print(f'The amount of rows where Geboortejaarmaand_relatie_ouder1 is not empty and GeboortejaarmaandBiologischeMoeder is empty: {len(schoolgaanden[(schoolgaanden['Geboortejaarmaand_relatie_ouder1'].notnull()) & (schoolgaanden['GeboortejaarmaandBiologischeMoeder'].isnull())])}')\n",
    "print(f'The amount of rows where Geboortejaarmaand_relatie_ouder1 is not empty and GeboortejaarmaandBiologischeMoeder is not empty and they are not equal: {len(schoolgaanden[(schoolgaanden['Geboortejaarmaand_relatie_ouder1'].notnull()) & (schoolgaanden['GeboortejaarmaandBiologischeMoeder'].notnull()) & (schoolgaanden['Geboortejaarmaand_relatie_ouder1'] != schoolgaanden['GeboortejaarmaandBiologischeMoeder'])])}')\n",
    "print(f'The amount of rows where Geboortejaarmaand_relatie_ouder1 and GeboortejaarmaandBiologischeMoeder are equal: {len(schoolgaanden[(schoolgaanden['Geboortejaarmaand_relatie_ouder1'].notnull()) & (schoolgaanden['GeboortejaarmaandBiologischeMoeder'].notnull()) & (schoolgaanden['Geboortejaarmaand_relatie_ouder1'] == schoolgaanden['GeboortejaarmaandBiologischeMoeder'])])}')"
   ]
  },
  {
   "cell_type": "code",
   "execution_count": 20,
   "metadata": {},
   "outputs": [],
   "source": [
    "# Merge Geboortejaarmaand_relatie_ouder1 and GeboortejaarmaandBiologischeMoeder\n",
    "schoolgaanden['Geboortejaarmaand_relatie_ouder1'] = schoolgaanden['Geboortejaarmaand_relatie_ouder1'].combine_first(schoolgaanden['GeboortejaarmaandBiologischeMoeder'])"
   ]
  },
  {
   "cell_type": "markdown",
   "metadata": {},
   "source": [
    "#### 3.2 Migrants (CBS Indeling)"
   ]
  },
  {
   "cell_type": "code",
   "execution_count": 21,
   "metadata": {},
   "outputs": [],
   "source": [
    "# Create substitution dictionary\n",
    "migrants_cat = {'Syrië': 'Syrië',\n",
    "                    'Nederland' : 'Nederland',\n",
    "                                                                   'Maleisië': 'Overig Azië',\n",
    "                                                                   'België': 'Europa (excl. NL)',\n",
    "                                                                   'Polen': 'Europa (excl. NL)',\n",
    "                                                                   'Verenigde Staten van Amerika': 'Overig Amerika en Oceanië',\n",
    "                                                                   'Spanje': 'Europa (excl. NL)',\n",
    "                                                                   'Portugal': 'Europa (excl. NL)',\n",
    "                                                                   'Groot-Brittannië': 'Europa (excl. NL)',\n",
    "                                                                   'Afghanistan': 'Overig Azië',\n",
    "                                                                   'Oekraïne': 'Europa (excl. NL)',\n",
    "                                                                   'Zuid-Afrika': 'Overig Afrika',\n",
    "                                                                   'Denemarken': 'Europa (excl. NL)',\n",
    "                                                                   'Canada': 'Overig Amerika en Oceanië',\n",
    "                                                                   'Roemenië': 'Europa (excl. NL)',\n",
    "                                                                   'Bondsrepubliek Duitsland': 'Europa (excl. NL)',\n",
    "                                                                   'Ecuador': 'Overig Amerika en Oceanië',\n",
    "                                                                   'Turkije': 'Turkije',\n",
    "                                                                   'Jordanië': 'Overig Azië',\n",
    "                                                                   'Israël': 'Overig Azië',\n",
    "                                                                   'Libanon': 'Overig Azië',\n",
    "                                                                   'Cyprus': 'Overig Azië', # Cyprus is geografisch gezien in Azië, maar politiek gezien in Europa\n",
    "                                                                   'Brazilië': 'Overig Amerika en Oceanië',\n",
    "                                                                   'Thailand': 'Overig Azië',\n",
    "                                                                   'Singapore': 'Overig Azië',\n",
    "                                                                   'Bulgarije': 'Europa (excl. NL)',\n",
    "                                                                   'Zuid-Korea': 'Overig Azië',\n",
    "                                                                   'Griekenland': 'Europa (excl. NL)',\n",
    "                                                                   'China': 'Overig Azië',\n",
    "                                                                   'Suriname': 'Suriname',\n",
    "                                                                   'Chili': 'Overig Amerika en Oceanië',\n",
    "                                                                   'Indonesië': 'Indonesië',\n",
    "                                                                   'Marokko': 'Marokko',\n",
    "                                                                   'Finland': 'Europa (excl. NL)',\n",
    "                                                                   'Onbekend': np.nan,\n",
    "                                                                   'Filipijnen': 'Overig Azië',\n",
    "                                                                   'Armenië': 'Overig Azië',\n",
    "                                                                   'Frankrijk': 'Europa (excl. NL)',\n",
    "                                                                   'Iran': 'Overig Azië',\n",
    "                                                                   'Hongarije': 'Europa (excl. NL)',\n",
    "                                                                   'Dominicaanse Republiek': 'Overig Amerika en Oceanië',\n",
    "                                                                   'India': 'Overig Azië',\n",
    "                                                                   'Joegoslavië': 'Europa (excl. NL)',\n",
    "                                                                   'Irak': 'Overig Azië',\n",
    "                                                                   'Oezbekistan': 'Overig Azië',\n",
    "                                                                   'Sri Lanka': 'Overig Azië',\n",
    "                                                                   'Nederlandse Antillen': 'Nederlandse Cariben',\n",
    "                                                                   'Sovjet-Unie': 'Europa (excl. NL)',\n",
    "                                                                   'Litouwen': 'Europa (excl. NL)',\n",
    "                                                                   'Ethiopië': 'Overig Afrika',\n",
    "                                                                   'Korea': 'Overig Azië',\n",
    "                                                                   'Soedan': 'Overig Afrika',\n",
    "                                                                   'Somalië': 'Overig Afrika',\n",
    "                                                                   'Saoedi-Arabië': 'Overig Azië',\n",
    "                                                                   'Verenigde Arabische Emiraten': 'Overig Azië',\n",
    "                                                                   'Australië': 'Overig Amerika en Oceanië',\n",
    "                                                                   'Slowakije': 'Europa (excl. NL)',\n",
    "                                                                   'Vietnam': 'Overig Azië',\n",
    "                                                                   'Estland': 'Europa (excl. NL)',\n",
    "                                                                   'Zaïre': 'Overig Afrika',\n",
    "                                                                   'Zambia': 'Overig Afrika',\n",
    "                                                                   'Noorwegen': 'Europa (excl. NL)',\n",
    "                                                                   'Panama': 'Overig Amerika en Oceanië',\n",
    "                                                                   'Peru': 'Overig Amerika en Oceanië',\n",
    "                                                                   'Algerije': 'Overig Afrika',\n",
    "                                                                   'Guatemala': 'Overig Amerika en Oceanië',\n",
    "                                                                   'Zwitserland': 'Europa (excl. NL)',\n",
    "                                                                   'Ghana': 'Overig Afrika',\n",
    "                                                                   'Italië': 'Europa (excl. NL)',\n",
    "                                                                   'Duitse Democratische Republiek': 'Europa (excl. NL)',\n",
    "                                                                   'Eritrea': 'Overig Afrika',\n",
    "                                                                   'Nigeria': 'Overig Afrika',\n",
    "                                                                   'Colombia': 'Overig Amerika en Oceanië',\n",
    "                                                                   'Macedonië': 'Europa (excl. NL)',\n",
    "                                                                   'Egypte': 'Overig Afrika',\n",
    "                                                                   'Pakistan': 'Overig Azië',\n",
    "                                                                   'Nieuw-Zeeland': 'Overig Amerika en Oceanië',\n",
    "                                                                   'Kameroen': 'Overig Afrika',\n",
    "                                                                   'Guinee': 'Overig Afrika',\n",
    "                                                                   'Sierra Leone': 'Overig Afrika',\n",
    "                                                                   'Libië': 'Overig Afrika',\n",
    "                                                                   'Aruba': 'Nederlandse Cariben',\n",
    "                                                                   'Tsjecho-Slowakije': 'Europa (excl. NL)',\n",
    "                                                                   'Azerbeidzjan': 'Overig Azië',\n",
    "                                                                   'Uganda': 'Overig Afrika',\n",
    "                                                                   'Democratische Republiek Congo': 'Overig Afrika',\n",
    "                                                                   'nan': np.nan,\n",
    "                                                                   'Burundi': 'Overig Afrika',\n",
    "                                                                   'Gazastrook en Westelijke Jordaanoever': 'Overig Azië',\n",
    "                                                                   'Gambia': 'Overig Afrika',\n",
    "                                                                   'Angola': 'Overig Afrika',\n",
    "                                                                   'Japan': 'Overig Azië',\n",
    "                                                                   'Venezuela': 'Overig Amerika en Oceanië',\n",
    "                                                                   'Kenya': 'Overig Afrika',\n",
    "                                                                   'Federale Republiek Joegoslavië': 'Europa (excl. NL)'}\n",
    "\n",
    "# Map all unique values to an overarching category\n",
    "schoolgaanden['Geboorteland_cat'] = schoolgaanden['Geboorteland'].map(migrants_cat)\n",
    "schoolgaanden['Geboorteland_relatie_ouder1_cat'] = schoolgaanden['Geboorteland_relatie_ouder1'].map(migrants_cat)\n",
    "schoolgaanden['Geboorteland_relatie_ouder2_cat'] = schoolgaanden['Geboorteland_relatie_ouder2'].map(migrants_cat)"
   ]
  },
  {
   "cell_type": "code",
   "execution_count": 22,
   "metadata": {},
   "outputs": [],
   "source": [
    "# Create substitution dictionary\n",
    "migrants_cat3 = {'Syrië': 'Niet-Westers',\n",
    "                    'Nederland': 'Nederlands',\n",
    "                    'Marokko': 'Niet-Westers',\n",
    "                    'Europa (excl. NL)': 'Westers',\n",
    "                    'Turkije': 'Niet-Westers',\n",
    "                    'Nederlandse Cariben': 'Niet-Westers',\n",
    "                    'Overig Azië': 'Niet-Westers',\n",
    "                    'Overig Amerika en Oceanië': 'Westers',\n",
    "                    'Suriname': 'Niet-Westers',\n",
    "                    'Overig Afrika': 'Niet-Westers',\n",
    "                    'Indonesië': 'Niet-Westers'}\n",
    "\n",
    "# Map all unique values to an overarching category\n",
    "schoolgaanden['Geboorteland_cat3'] = schoolgaanden['Geboorteland_cat'].map(migrants_cat3)\n",
    "schoolgaanden['Geboorteland_relatie_ouder1_cat3'] = schoolgaanden['Geboorteland_relatie_ouder1_cat'].map(migrants_cat3)\n",
    "schoolgaanden['Geboorteland_relatie_ouder2_cat3'] = schoolgaanden['Geboorteland_relatie_ouder2_cat'].map(migrants_cat3)"
   ]
  },
  {
   "cell_type": "code",
   "execution_count": 23,
   "metadata": {},
   "outputs": [
    {
     "data": {
      "text/plain": [
       "Geboorteland_cat3                   0.096960\n",
       "Geboorteland_relatie_ouder1_cat3    0.033174\n",
       "Geboorteland_relatie_ouder2_cat3    0.049904\n",
       "dtype: float64"
      ]
     },
     "execution_count": 23,
     "metadata": {},
     "output_type": "execute_result"
    }
   ],
   "source": [
    "schoolgaanden[['Geboorteland_cat3', 'Geboorteland_relatie_ouder1_cat3', 'Geboorteland_relatie_ouder2_cat3']].isna().mean()"
   ]
  },
  {
   "cell_type": "code",
   "execution_count": 24,
   "metadata": {},
   "outputs": [],
   "source": [
    "# Create new column 'CBS_indeling'\n",
    "schoolgaanden['CBS_indeling'] = schoolgaanden.apply(\n",
    "    lambda x: (\n",
    "        'Nederlands' if x['Geboorteland_cat3'] == 'Nederlands' and x['Geboorteland_relatie_ouder1_cat3'] == 'Nederlands' and x['Geboorteland_relatie_ouder2_cat3'] == 'Nederlands'\n",
    "        else (\n",
    "            'Kindmigrant' if x['Geboorteland_cat3'] == 'Nederlands' and (\n",
    "                x['Geboorteland_relatie_ouder1_cat3'] in ['Westers', 'Niet-Westers'] or x['Geboorteland_relatie_ouder2_cat3'] in ['Westers', 'Niet-Westers']\n",
    "            )\n",
    "            else (\n",
    "                'Migrant' if x['Geboorteland_cat3'] in ['Westers', 'Niet-Westers']\n",
    "                else np.nan\n",
    "            )\n",
    "        )\n",
    "    ), axis=1\n",
    ")"
   ]
  },
  {
   "cell_type": "code",
   "execution_count": 25,
   "metadata": {},
   "outputs": [
    {
     "data": {
      "text/plain": [
       "CBS_indeling\n",
       "Nederlands     9524\n",
       "Kindmigrant    2014\n",
       "NaN            1835\n",
       "Migrant         674\n",
       "Name: count, dtype: int64"
      ]
     },
     "execution_count": 25,
     "metadata": {},
     "output_type": "execute_result"
    }
   ],
   "source": [
    "#Count occurrences of CBS_indeling including missing values\n",
    "schoolgaanden['CBS_indeling'].value_counts(dropna=False)"
   ]
  },
  {
   "cell_type": "markdown",
   "metadata": {},
   "source": [
    "### 4. Create CoronIT unique keys"
   ]
  },
  {
   "cell_type": "code",
   "execution_count": 26,
   "metadata": {},
   "outputs": [
    {
     "name": "stdout",
     "output_type": "stream",
     "text": [
      "The percentage of missing values per column is:\n",
      "Postcode                                                                                            : 0.0\n",
      "Huisnummer                                                                                          : 0.0\n",
      "Clientnummer                                                                                        : 0.0\n",
      "B.M.R.                                                                                              : 0.0\n",
      "DKTP                                                                                                : 0.0\n",
      "DKTP-booster                                                                                        : 0.0\n",
      "DTP                                                                                                 : 0.0\n",
      "Hib                                                                                                 : 0.0\n",
      "Pneu                                                                                                : 0.0\n",
      "Excluded                                                                                            : 0.0\n",
      "Hepatitis_B                                                                                         : 0.0\n",
      "MenACWY/MenC                                                                                        : 0.0\n",
      "Geboortejaarmaand                                                                                   : 0.0\n",
      "Tweeling                                                                                            : 0.09\n",
      "Buurt_BRP                                                                                           : 0.0\n",
      "CBS_Buurtcode_BRP                                                                                   : 0.0\n",
      "GeboortejaarmaandBiologischeMoeder                                                                  : 0.32\n",
      "LeeftijdBiologischeMoederBijGeboorte                                                                : 0.32\n",
      "Geslacht                                                                                            : 0.0\n",
      "Geboorteland                                                                                        : 0.09\n",
      "Schoolgaanden_status_B.M.R.                                                                         : 0.0\n",
      "Schoolgaanden_status_DTP                                                                            : 0.0\n",
      "Schoolgaanden_status                                                                                : 0.0\n",
      "Toestemming                                                                                         : 0.2\n",
      "aantal_inwoners                                                                                     : 0.0\n",
      "aantal_mannen                                                                                       : 0.0\n",
      "aantal_vrouwen                                                                                      : 0.0\n",
      "aantal_inwoners_0_tot_15_jaar                                                                       : 0.0\n",
      "aantal_inwoners_15_tot_25_jaar                                                                      : 0.0\n",
      "aantal_inwoners_25_tot_45_jaar                                                                      : 0.0\n",
      "aantal_inwoners_45_tot_65_jaar                                                                      : 0.0\n",
      "aantal_inwoners_65_jaar_en_ouder                                                                    : 0.0\n",
      "percentage_geb_nederland_herkomst_nederland                                                         : 0.0\n",
      "percentage_geb_nederland_herkomst_overig_europa                                                     : 0.0\n",
      "percentage_geb_nederland_herkomst_buiten_europa                                                     : 0.0\n",
      "percentage_geb_buiten_nederland_herkomst_europa                                                     : 0.0\n",
      "percentage_geb_buiten_nederland_herkmst_buiten_europa                                               : 0.0\n",
      "aantal_part_huishoudens                                                                             : 0.0\n",
      "aantal_eenpersoonshuishoudens                                                                       : 0.0\n",
      "aantal_meerpersoonshuishoudens_zonder_kind                                                          : 0.0\n",
      "aantal_eenouderhuishoudens                                                                          : 0.0\n",
      "aantal_tweeouderhuishoudens                                                                         : 0.0\n",
      "gemiddelde_huishoudensgrootte                                                                       : 0.0\n",
      "aantal_woningen                                                                                     : 0.0\n",
      "aantal_woningen_bouwjaar_voor_1945                                                                  : 0.06\n",
      "aantal_woningen_bouwjaar_45_tot_65                                                                  : 0.08\n",
      "aantal_woningen_bouwjaar_65_tot_75                                                                  : 0.07\n",
      "aantal_woningen_bouwjaar_75_tot_85                                                                  : 0.06\n",
      "aantal_woningen_bouwjaar_85_tot_95                                                                  : 0.02\n",
      "aantal_woningen_bouwjaar_95_tot_05                                                                  : 0.01\n",
      "aantal_woningen_bouwjaar_05_tot_15                                                                  : 0.04\n",
      "aantal_woningen_bouwjaar_15_en_later                                                                : 0.08\n",
      "aantal_meergezins_woningen                                                                          : 0.01\n",
      "percentage_koopwoningen                                                                             : 0.0\n",
      "percentage_huurwoningen                                                                             : 0.0\n",
      "aantal_huurwoningen_in_bezit_woningcorporaties                                                      : 0.01\n",
      "aantal_niet_bewoonde_woningen                                                                       : 0.0\n",
      "gemiddelde_woz_waarde_woning                                                                        : 0.0\n",
      "aantal_personen_met_uitkering_onder_aowlft                                                          : 0.0\n",
      "omgevingsadressendichtheid                                                                          : 0.0\n",
      "stedelijkheid                                                                                       : 0.0\n",
      "Bevolking/Aantal inwoners (aantal)                                                                  : 0.0\n",
      "Bevolking/Burgerlijke staat/Gehuwd (aantal)                                                         : 0.0\n",
      "Bevolking/Burgerlijke staat/Gescheiden (aantal)                                                     : 0.0\n",
      "Bevolking/Personen met een migratieachtergrond/Niet-westers/Marokko (aantal)                        : 0.0\n",
      "Bevolking/Personen met een migratieachtergrond/Niet-westers/Nederlandse Antillen en Aruba (aantal)  : 0.0\n",
      "Bevolking/Personen met een migratieachtergrond/Niet-westers/Suriname (aantal)                       : 0.0\n",
      "Bevolking/Personen met een migratieachtergrond/Niet-westers/Turkije (aantal)                        : 0.0\n",
      "Bevolking/Personen met een migratieachtergrond/Niet-westers/Overig niet-westers (aantal)            : 0.0\n",
      "Opleidingsniveau/Opleidingsniveau laag  (aantal)                                                    : 0.01\n",
      "Opleidingsniveau/Opleidingsniveau hoog  (aantal)                                                    : 0.01\n",
      "Arbeid/Nettoarbeidsparticipatie (%)                                                                 : 0.03\n",
      "Inkomen/Inkomen van personen/Gemiddeld inkomen per inkomensontvanger  (x 1 000 euro)                : 0.52\n",
      "Inkomen/Inkomen van personen/Gemiddeld inkomen per inwoner  (x 1 000 euro)                          : 0.45\n",
      "Inkomen/Inkomen van personen/40% personen met laagste inkomen (%)                                   : 0.01\n",
      "Inkomen/Inkomen van personen/20% personen met hoogste inkomen (%)                                   : 0.01\n",
      "Inkomen/Inkomen van huishoudens/Gem. gestandaardiseerd inkomen van huish (x 1 000 euro)             : 0.86\n",
      "Inkomen/Inkomen van huishoudens/40% huishoudens met laagste inkomen (%)                             : 0.03\n",
      "Inkomen/Inkomen van huishoudens/20% huishoudens met hoogste inkomen (%)                             : 0.03\n",
      "Inkomen/Inkomen van huishoudens/Huishoudens met een laag inkomen (%)                                : 0.03\n",
      "Inkomen/Inkomen van huishoudens/Huish. onder of rond sociaal minimum (%)                            : 0.03\n",
      "Inkomen/Inkomen van huishoudens/Huishoudens tot 110% van sociaal minimum (%)                        : 0.03\n",
      "Inkomen/Inkomen van huishoudens/Huishoudens tot 120% van sociaal minimum (%)                        : 0.03\n",
      "Inkomen/Inkomen van huishoudens/Mediaan vermogen van particuliere huish. (x 1 000 euro)             : 0.03\n",
      "Sociale zekerheid/Personen per soort uitkering; Bijstand (aantal)                                   : 0.0\n",
      "Sociale zekerheid/Personen per soort uitkering; AO (aantal)                                         : 0.0\n",
      "Sociale zekerheid/Personen per soort uitkering; WW (aantal)                                         : 0.0\n",
      "Sociale zekerheid/Personen per soort uitkering; AOW (aantal)                                        : 0.0\n",
      "Zorg/Jongeren met jeugdzorg in natura  (aantal)                                                     : 0.05\n",
      "Zorg/Percentage jongeren met jeugdzorg  (%)                                                         : 0.05\n",
      "Motorvoertuigen/Personenauto's/Personenauto's per huishouden (per huishouden)                       : 0.02\n",
      "Siblings                                                                                            : 0.01\n",
      "Geboortejaarmaand_relatie_ouder1                                                                    : 0.02\n",
      "Geboorteland_relatie_ouder1                                                                         : 0.02\n",
      "Geslacht_relatie_ouder1                                                                             : 0.3\n",
      "Geboortejaarmaand_relatie_ouder2                                                                    : 0.04\n",
      "Geboorteland_relatie_ouder2                                                                         : 0.04\n",
      "Geslacht_relatie_ouder2                                                                             : 0.32\n",
      "Gevaccineerd_ouder1                                                                                 : 0.04\n",
      "Gevaccineerd_ouder2                                                                                 : 0.06\n",
      "Geboorteland_cat                                                                                    : 0.1\n",
      "Geboorteland_relatie_ouder1_cat                                                                     : 0.03\n",
      "Geboorteland_relatie_ouder2_cat                                                                     : 0.05\n",
      "Geboorteland_cat3                                                                                   : 0.1\n",
      "Geboorteland_relatie_ouder1_cat3                                                                    : 0.03\n",
      "Geboorteland_relatie_ouder2_cat3                                                                    : 0.05\n",
      "CBS_indeling                                                                                        : 0.13\n"
     ]
    }
   ],
   "source": [
    "# Print the percentage of missing values per column\n",
    "print(f'The percentage of missing values per column is:')\n",
    "for col in schoolgaanden.columns:\n",
    "    print(f'{col:<100}: {round(schoolgaanden[col].isnull().mean(), 2)}')"
   ]
  },
  {
   "cell_type": "code",
   "execution_count": 27,
   "metadata": {},
   "outputs": [
    {
     "name": "stdout",
     "output_type": "stream",
     "text": [
      "285 individual twins\n",
      "14047 individuals in total\n",
      "12602 individuals after removing twins\n"
     ]
    }
   ],
   "source": [
    "# Remove twins from schoolgaanden\n",
    "print(f'{len(schoolgaanden[schoolgaanden['Tweeling'] == True])} individual twins')\n",
    "print(f'{len(schoolgaanden)} individuals in total')\n",
    "schoolgaanden_without_twins = schoolgaanden[schoolgaanden['Tweeling'] == False][['Postcode', 'Huisnummer', 'Geboortejaarmaand_relatie_ouder1', 'Geslacht_relatie_ouder1', 'Geboortejaarmaand_relatie_ouder2', 'Geslacht_relatie_ouder2']]\n",
    "schoolgaanden_twins = schoolgaanden[schoolgaanden['Tweeling'] == True][['Postcode', 'Huisnummer', 'Geboortejaarmaand_relatie_ouder1', 'Geslacht_relatie_ouder1', 'Geboortejaarmaand_relatie_ouder2', 'Geslacht_relatie_ouder2']]\n",
    "schoolgaanden_twins = schoolgaanden_twins.drop_duplicates()\n",
    "schoolgaanden_without_twins = pd.concat([schoolgaanden_without_twins, schoolgaanden_twins])\n",
    "print(f'{len(schoolgaanden_without_twins)} individuals after removing twins')"
   ]
  },
  {
   "cell_type": "code",
   "execution_count": 28,
   "metadata": {},
   "outputs": [
    {
     "name": "stdout",
     "output_type": "stream",
     "text": [
      "12500 first parents after deleting rows with missings\n"
     ]
    }
   ],
   "source": [
    "# Get combinations representing first parents\n",
    "parent_1 = schoolgaanden_without_twins[['Postcode', 'Huisnummer', 'Geboortejaarmaand_relatie_ouder1', 'Geslacht_relatie_ouder1']]\n",
    "parent_1.columns = ['Postcode', 'Huisnummer', 'Geboortejaarmaand_relatie_ouder', 'Geslacht_relatie_ouder']\n",
    "\n",
    "# Check\n",
    "parent_1 = parent_1.dropna(subset=['Geboortejaarmaand_relatie_ouder'])\n",
    "print(f'{len(parent_1)} first parents after deleting rows with missings')"
   ]
  },
  {
   "cell_type": "code",
   "execution_count": 29,
   "metadata": {},
   "outputs": [
    {
     "name": "stdout",
     "output_type": "stream",
     "text": [
      "12157 second parents after deleting rows with missings\n"
     ]
    }
   ],
   "source": [
    "# Get combinations representing second parents\n",
    "parent_2 = schoolgaanden_without_twins[['Postcode', 'Huisnummer', 'Geboortejaarmaand_relatie_ouder2', 'Geslacht_relatie_ouder2']]\n",
    "parent_2.columns = ['Postcode', 'Huisnummer', 'Geboortejaarmaand_relatie_ouder', 'Geslacht_relatie_ouder']\n",
    "\n",
    "# Check\n",
    "parent_2 = parent_2.dropna(subset=['Geboortejaarmaand_relatie_ouder'])\n",
    "print(f'{len(parent_2)} second parents after deleting rows with missings')"
   ]
  },
  {
   "cell_type": "code",
   "execution_count": 30,
   "metadata": {},
   "outputs": [
    {
     "name": "stdout",
     "output_type": "stream",
     "text": [
      "24657 parents in total\n",
      "--------------------\n",
      "705 duplicate parents\n",
      "23952 parents after dropping duplicates\n"
     ]
    }
   ],
   "source": [
    "# Stack the two dataframes, reset indices\n",
    "parents = pd.concat([parent_1, parent_2]).reset_index(drop=True)\n",
    "print(f'{len(parents)} parents in total')\n",
    "\n",
    "# Show duplicate rows\n",
    "print('-'*20)\n",
    "print(f'{len(parents[parents.duplicated()])} duplicate parents')\n",
    "parents = parents.drop_duplicates()\n",
    "print(f'{len(parents)} parents after dropping duplicates')"
   ]
  },
  {
   "cell_type": "code",
   "execution_count": 31,
   "metadata": {},
   "outputs": [
    {
     "name": "stdout",
     "output_type": "stream",
     "text": [
      "The percentage of missing values per column in parents is:\n",
      "Postcode                                                              : 0.0\n",
      "Huisnummer                                                            : 0.0\n",
      "Geboortejaarmaand_relatie_ouder                                       : 0.0\n",
      "Geslacht_relatie_ouder                                                : 0.29\n"
     ]
    }
   ],
   "source": [
    "# Print the percentages of missing values per column in parents\n",
    "print(f'The percentage of missing values per column in parents is:')\n",
    "for col in parents.columns:\n",
    "    print(f'{col:<70}: {round(parents[col].isnull().mean(), 2)}')"
   ]
  },
  {
   "cell_type": "code",
   "execution_count": 32,
   "metadata": {},
   "outputs": [],
   "source": [
    "# Save parents as .csv\n",
    "parents.to_csv('4_Data\\CoronIT\\keys\\Ouders_schoolgaanden.csv', index=False)"
   ]
  },
  {
   "cell_type": "markdown",
   "metadata": {},
   "source": [
    "### 5. Save .pkl's"
   ]
  },
  {
   "cell_type": "code",
   "execution_count": 33,
   "metadata": {},
   "outputs": [],
   "source": [
    "# Save df_contactmomenten_og as a pickle\n",
    "schoolgaanden.to_pickle('4_Data\\Pickles\\schoolgaanden.pkl')"
   ]
  }
 ],
 "metadata": {
  "kernelspec": {
   "display_name": "Python 3",
   "language": "python",
   "name": "python3"
  },
  "language_info": {
   "codemirror_mode": {
    "name": "ipython",
    "version": 3
   },
   "file_extension": ".py",
   "mimetype": "text/x-python",
   "name": "python",
   "nbconvert_exporter": "python",
   "pygments_lexer": "ipython3",
   "version": "3.12.5"
  }
 },
 "nbformat": 4,
 "nbformat_minor": 2
}
