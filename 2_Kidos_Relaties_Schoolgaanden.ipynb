{
 "cells": [
  {
   "cell_type": "markdown",
   "metadata": {},
   "source": [
    "### 1. Import modules"
   ]
  },
  {
   "cell_type": "code",
   "execution_count": 1,
   "metadata": {},
   "outputs": [],
   "source": [
    "import warnings\n",
    "warnings.filterwarnings('ignore')\n",
    "\n",
    "import pyodbc\n",
    "import pandas as pd\n",
    "import numpy as np\n",
    "import xlwings as xw"
   ]
  },
  {
   "cell_type": "markdown",
   "metadata": {},
   "source": [
    "### 2. Import data to Pandas dataframe (Kidos_Kind_Relatie)"
   ]
  },
  {
   "cell_type": "code",
   "execution_count": 2,
   "metadata": {},
   "outputs": [],
   "source": [
    "# Import pickles\n",
    "df_schoolgaanden = pd.read_pickle('4_Data\\Pickles\\schoolgaanden_observaties.pkl')"
   ]
  },
  {
   "cell_type": "code",
   "execution_count": 3,
   "metadata": {},
   "outputs": [
    {
     "name": "stdout",
     "output_type": "stream",
     "text": [
      "The amount of unique 'Clientnummer's in the df is: 14047\n"
     ]
    }
   ],
   "source": [
    "# Print the amount of unique clients in df\n",
    "print(f'The amount of unique \\'Clientnummer\\'s in the df is: {df_schoolgaanden['Clientnummer'].nunique()}')"
   ]
  },
  {
   "cell_type": "code",
   "execution_count": 4,
   "metadata": {},
   "outputs": [],
   "source": [
    "# Set to True or False depending on whether you want to import new data\n",
    "NEWIMPORT = False\n",
    "\n",
    "if NEWIMPORT:\n",
    "    # Replace server name if source changes\n",
    "    server = 'AZ-ODB0\\ODBWB'\n",
    "    database = 'OnderzoeksDB_WB'\n",
    "\n",
    "    # Create a connection string\n",
    "    connection_string = f'DRIVER={{SQL Server}};SERVER={server};DATABASE={database}'\n",
    "\n",
    "    # Establish connection\n",
    "    connection = pyodbc.connect(connection_string)\n",
    "\n",
    "    # Define columns to select\n",
    "    selected_columns = ['Clientnummer',\n",
    "                        'Relatienummer',\n",
    "                        'Relatieband',\n",
    "                        'Ouder',\n",
    "                        'Geboortejaarmaand_kind',\n",
    "                        'Geboortejaarmaand_relatie',\n",
    "                        # Geboorteland_kind,                    Staat volgens mij niet in docx, gewenst?\n",
    "                        'Geboorteland_relatie',\n",
    "                        'Geslacht_relatie'\n",
    "                        ]\n",
    "    \n",
    "    # Define a list of Clientnummers to include\n",
    "    included_clientnummers = df_schoolgaanden['Clientnummer'].unique()\n",
    "\n",
    "    # Create SQL query string with specific columns and inclusion criteria\n",
    "    query = f'SELECT {', '.join(selected_columns)} FROM Kidos_Kind_Relatie WHERE Clientnummer IN ({', '.join(included_clientnummers)})'\n",
    "\n",
    "    # Execute the query and fetch the data into a Pandas DataFrame\n",
    "    df_relaties_og = pd.read_sql(query, connection)\n",
    "\n",
    "    # Close the connection\n",
    "    connection.close()\n",
    "\n",
    "    # Save df_relaties_og as a pickle\n",
    "    df_relaties_og.to_pickle('4_Data\\Pickles\\\\relaties_schoolgaanden_og.pkl')\n",
    "else:\n",
    "    # Load the pickle\n",
    "    df_relaties_og = pd.read_pickle('4_Data\\Pickles\\\\relaties_schoolgaanden_og.pkl')"
   ]
  },
  {
   "cell_type": "markdown",
   "metadata": {},
   "source": [
    "### 3. Process"
   ]
  },
  {
   "cell_type": "code",
   "execution_count": 5,
   "metadata": {},
   "outputs": [
    {
     "name": "stdout",
     "output_type": "stream",
     "text": [
      "The amount of relations in the df_relaties is: 51090, the amount of unique client ID's is: 13864\n"
     ]
    }
   ],
   "source": [
    "print(f'The amount of relations in the df_relaties is: {len(df_relaties_og)}, the amount of unique client ID\\'s is: {len(df_relaties_og['Clientnummer'].unique())}')"
   ]
  },
  {
   "cell_type": "code",
   "execution_count": 6,
   "metadata": {},
   "outputs": [],
   "source": [
    "# Store copy of unique records of df_og in df\n",
    "df_relaties = df_relaties_og.drop_duplicates()\n",
    "\n",
    "# Set yearmonth's to NaN if it is '00'\n",
    "df_relaties['Geboortejaarmaand_relatie'] = df_relaties['Geboortejaarmaand_relatie'].replace('00', np.NaN)"
   ]
  },
  {
   "cell_type": "code",
   "execution_count": 7,
   "metadata": {},
   "outputs": [
    {
     "name": "stdout",
     "output_type": "stream",
     "text": [
      "The amount of relations in the df_relaties is: 51090, the amount of unique client ID's is: 13864\n"
     ]
    }
   ],
   "source": [
    "print(f'The amount of relations in the df_relaties is: {len(df_relaties)}, the amount of unique client ID\\'s is: {len(df_relaties['Clientnummer'].unique())}')"
   ]
  },
  {
   "cell_type": "markdown",
   "metadata": {},
   "source": [
    "#### 3.1 Transform table structure - Siblings"
   ]
  },
  {
   "cell_type": "code",
   "execution_count": 8,
   "metadata": {},
   "outputs": [
    {
     "name": "stdout",
     "output_type": "stream",
     "text": [
      "(13864, 2)\n"
     ]
    },
    {
     "data": {
      "text/html": [
       "<div>\n",
       "<style scoped>\n",
       "    .dataframe tbody tr th:only-of-type {\n",
       "        vertical-align: middle;\n",
       "    }\n",
       "\n",
       "    .dataframe tbody tr th {\n",
       "        vertical-align: top;\n",
       "    }\n",
       "\n",
       "    .dataframe thead th {\n",
       "        text-align: right;\n",
       "    }\n",
       "</style>\n",
       "<table border=\"1\" class=\"dataframe\">\n",
       "  <thead>\n",
       "    <tr style=\"text-align: right;\">\n",
       "      <th></th>\n",
       "      <th>Clientnummer</th>\n",
       "      <th>Siblings</th>\n",
       "    </tr>\n",
       "  </thead>\n",
       "  <tbody>\n",
       "    <tr>\n",
       "      <th>0</th>\n",
       "      <td>10070491</td>\n",
       "      <td>0</td>\n",
       "    </tr>\n",
       "    <tr>\n",
       "      <th>1</th>\n",
       "      <td>10078065</td>\n",
       "      <td>3</td>\n",
       "    </tr>\n",
       "    <tr>\n",
       "      <th>2</th>\n",
       "      <td>10078073</td>\n",
       "      <td>1</td>\n",
       "    </tr>\n",
       "    <tr>\n",
       "      <th>3</th>\n",
       "      <td>2986905</td>\n",
       "      <td>1</td>\n",
       "    </tr>\n",
       "    <tr>\n",
       "      <th>4</th>\n",
       "      <td>2987112</td>\n",
       "      <td>1</td>\n",
       "    </tr>\n",
       "  </tbody>\n",
       "</table>\n",
       "</div>"
      ],
      "text/plain": [
       "  Clientnummer  Siblings\n",
       "0     10070491         0\n",
       "1     10078065         3\n",
       "2     10078073         1\n",
       "3      2986905         1\n",
       "4      2987112         1"
      ]
     },
     "execution_count": 8,
     "metadata": {},
     "output_type": "execute_result"
    }
   ],
   "source": [
    "# Create a pivot table with 'Clientnummer' as the index and 'Relatieband' as the columns\n",
    "clients_frequencies = df_relaties.pivot_table(index='Clientnummer', columns='Relatieband', aggfunc='size', fill_value=0)\n",
    "\n",
    "# Select only the 'Broer of zus' column\n",
    "clients_relations_siblings = clients_frequencies['Broer of zus'].reset_index(name='Siblings')\n",
    "\n",
    "# Show head\n",
    "print(clients_relations_siblings.shape)\n",
    "clients_relations_siblings.head()"
   ]
  },
  {
   "cell_type": "markdown",
   "metadata": {},
   "source": [
    "#### 3.2 Transform table structure - Parent1"
   ]
  },
  {
   "cell_type": "code",
   "execution_count": 9,
   "metadata": {},
   "outputs": [
    {
     "name": "stdout",
     "output_type": "stream",
     "text": [
      "(13653, 4)\n"
     ]
    },
    {
     "data": {
      "text/html": [
       "<div>\n",
       "<style scoped>\n",
       "    .dataframe tbody tr th:only-of-type {\n",
       "        vertical-align: middle;\n",
       "    }\n",
       "\n",
       "    .dataframe tbody tr th {\n",
       "        vertical-align: top;\n",
       "    }\n",
       "\n",
       "    .dataframe thead th {\n",
       "        text-align: right;\n",
       "    }\n",
       "</style>\n",
       "<table border=\"1\" class=\"dataframe\">\n",
       "  <thead>\n",
       "    <tr style=\"text-align: right;\">\n",
       "      <th></th>\n",
       "      <th>Clientnummer</th>\n",
       "      <th>Geboortejaarmaand_relatie_ouder1</th>\n",
       "      <th>Geboorteland_relatie_ouder1</th>\n",
       "      <th>Geslacht_relatie_ouder1</th>\n",
       "    </tr>\n",
       "  </thead>\n",
       "  <tbody>\n",
       "    <tr>\n",
       "      <th>0</th>\n",
       "      <td>10070491</td>\n",
       "      <td>198708</td>\n",
       "      <td>Nederland</td>\n",
       "      <td>mannelijk</td>\n",
       "    </tr>\n",
       "    <tr>\n",
       "      <th>1</th>\n",
       "      <td>10078065</td>\n",
       "      <td>196703</td>\n",
       "      <td>Turkije</td>\n",
       "      <td>onbekend</td>\n",
       "    </tr>\n",
       "    <tr>\n",
       "      <th>2</th>\n",
       "      <td>10078073</td>\n",
       "      <td>198807</td>\n",
       "      <td>China</td>\n",
       "      <td>vrouwelijk</td>\n",
       "    </tr>\n",
       "    <tr>\n",
       "      <th>3</th>\n",
       "      <td>2986905</td>\n",
       "      <td>197805</td>\n",
       "      <td>Nederland</td>\n",
       "      <td>vrouwelijk</td>\n",
       "    </tr>\n",
       "    <tr>\n",
       "      <th>4</th>\n",
       "      <td>2987112</td>\n",
       "      <td>198604</td>\n",
       "      <td>Nederland</td>\n",
       "      <td>vrouwelijk</td>\n",
       "    </tr>\n",
       "  </tbody>\n",
       "</table>\n",
       "</div>"
      ],
      "text/plain": [
       "  Clientnummer Geboortejaarmaand_relatie_ouder1 Geboorteland_relatie_ouder1  \\\n",
       "0     10070491                           198708                   Nederland   \n",
       "1     10078065                           196703                     Turkije   \n",
       "2     10078073                           198807                       China   \n",
       "3      2986905                           197805                   Nederland   \n",
       "4      2987112                           198604                   Nederland   \n",
       "\n",
       "  Geslacht_relatie_ouder1  \n",
       "0               mannelijk  \n",
       "1                onbekend  \n",
       "2              vrouwelijk  \n",
       "3              vrouwelijk  \n",
       "4              vrouwelijk  "
      ]
     },
     "execution_count": 9,
     "metadata": {},
     "output_type": "execute_result"
    }
   ],
   "source": [
    "# Remove all rows where Relatieband is not in relevant_relaties\n",
    "df_relaties_parent1 = df_relaties[df_relaties['Ouder'] == 'Ouder1']\n",
    "\n",
    "# Pivot from long to wide format\n",
    "clients_relations_parent1 = (df_relaties_parent1.pivot_table(index='Clientnummer',\n",
    "                                                    columns='Ouder',\n",
    "                                                    values=['Geboortejaarmaand_relatie', 'Geboorteland_relatie', 'Geslacht_relatie'],\n",
    "                                                    aggfunc='first')\n",
    "                                                    .pipe(lambda d: d.set_axis(d.columns.map(lambda x: f'{x[0]}_ouder1'), axis=1))\n",
    "                                                    .reset_index())\n",
    "\n",
    "# Show head\n",
    "print(clients_relations_parent1.shape)\n",
    "clients_relations_parent1.head()"
   ]
  },
  {
   "cell_type": "code",
   "execution_count": 10,
   "metadata": {},
   "outputs": [
    {
     "data": {
      "text/plain": [
       "Clientnummer                        0.000000\n",
       "Geboortejaarmaand_relatie_ouder1    0.000879\n",
       "Geboorteland_relatie_ouder1         0.000146\n",
       "Geslacht_relatie_ouder1             0.000000\n",
       "dtype: float64"
      ]
     },
     "execution_count": 10,
     "metadata": {},
     "output_type": "execute_result"
    }
   ],
   "source": [
    "clients_relations_parent1.isna().mean()"
   ]
  },
  {
   "cell_type": "markdown",
   "metadata": {},
   "source": [
    "#### 3.3 Transform table structure - Parent2"
   ]
  },
  {
   "cell_type": "code",
   "execution_count": 11,
   "metadata": {},
   "outputs": [
    {
     "name": "stdout",
     "output_type": "stream",
     "text": [
      "(13539, 4)\n"
     ]
    },
    {
     "data": {
      "text/html": [
       "<div>\n",
       "<style scoped>\n",
       "    .dataframe tbody tr th:only-of-type {\n",
       "        vertical-align: middle;\n",
       "    }\n",
       "\n",
       "    .dataframe tbody tr th {\n",
       "        vertical-align: top;\n",
       "    }\n",
       "\n",
       "    .dataframe thead th {\n",
       "        text-align: right;\n",
       "    }\n",
       "</style>\n",
       "<table border=\"1\" class=\"dataframe\">\n",
       "  <thead>\n",
       "    <tr style=\"text-align: right;\">\n",
       "      <th></th>\n",
       "      <th>Clientnummer</th>\n",
       "      <th>Geboortejaarmaand_relatie_ouder2</th>\n",
       "      <th>Geboorteland_relatie_ouder2</th>\n",
       "      <th>Geslacht_relatie_ouder2</th>\n",
       "    </tr>\n",
       "  </thead>\n",
       "  <tbody>\n",
       "    <tr>\n",
       "      <th>0</th>\n",
       "      <td>10070491</td>\n",
       "      <td>198503</td>\n",
       "      <td>Nederland</td>\n",
       "      <td>vrouwelijk</td>\n",
       "    </tr>\n",
       "    <tr>\n",
       "      <th>1</th>\n",
       "      <td>10078065</td>\n",
       "      <td>198005</td>\n",
       "      <td>Turkije</td>\n",
       "      <td>onbekend</td>\n",
       "    </tr>\n",
       "    <tr>\n",
       "      <th>2</th>\n",
       "      <td>10078073</td>\n",
       "      <td>198111</td>\n",
       "      <td>China</td>\n",
       "      <td>mannelijk</td>\n",
       "    </tr>\n",
       "    <tr>\n",
       "      <th>3</th>\n",
       "      <td>2986905</td>\n",
       "      <td>198201</td>\n",
       "      <td>Nederland</td>\n",
       "      <td>mannelijk</td>\n",
       "    </tr>\n",
       "    <tr>\n",
       "      <th>4</th>\n",
       "      <td>2987112</td>\n",
       "      <td>198709</td>\n",
       "      <td>Nederland</td>\n",
       "      <td>mannelijk</td>\n",
       "    </tr>\n",
       "  </tbody>\n",
       "</table>\n",
       "</div>"
      ],
      "text/plain": [
       "  Clientnummer Geboortejaarmaand_relatie_ouder2 Geboorteland_relatie_ouder2  \\\n",
       "0     10070491                           198503                   Nederland   \n",
       "1     10078065                           198005                     Turkije   \n",
       "2     10078073                           198111                       China   \n",
       "3      2986905                           198201                   Nederland   \n",
       "4      2987112                           198709                   Nederland   \n",
       "\n",
       "  Geslacht_relatie_ouder2  \n",
       "0              vrouwelijk  \n",
       "1                onbekend  \n",
       "2               mannelijk  \n",
       "3               mannelijk  \n",
       "4               mannelijk  "
      ]
     },
     "execution_count": 11,
     "metadata": {},
     "output_type": "execute_result"
    }
   ],
   "source": [
    "# Remove all rows where Relatieband is not in relevant_relaties\n",
    "df_relaties_parent2 = df_relaties[df_relaties['Ouder'] == 'Ouder2']\n",
    "\n",
    "# Pivot from long to wide format\n",
    "clients_relations_parent2 = (df_relaties_parent2.pivot_table(index='Clientnummer',\n",
    "                                                    columns='Ouder',\n",
    "                                                    values=['Geboortejaarmaand_relatie', 'Geboorteland_relatie', 'Geslacht_relatie'],\n",
    "                                                    aggfunc='first')\n",
    "                                                    .pipe(lambda d: d.set_axis(d.columns.map(lambda x: f'{x[0]}_ouder2'), axis=1))\n",
    "                                                    .reset_index())\n",
    "\n",
    "# Show head\n",
    "print(clients_relations_parent2.shape)\n",
    "clients_relations_parent2.head()"
   ]
  },
  {
   "cell_type": "code",
   "execution_count": 12,
   "metadata": {},
   "outputs": [
    {
     "data": {
      "text/plain": [
       "Clientnummer                        0.000000\n",
       "Geboortejaarmaand_relatie_ouder2    0.003841\n",
       "Geboorteland_relatie_ouder2         0.000000\n",
       "Geslacht_relatie_ouder2             0.000000\n",
       "dtype: float64"
      ]
     },
     "execution_count": 12,
     "metadata": {},
     "output_type": "execute_result"
    }
   ],
   "source": [
    "clients_relations_parent2.isna().mean()"
   ]
  },
  {
   "cell_type": "markdown",
   "metadata": {},
   "source": [
    "#### 3.4 Merge siblings and parents"
   ]
  },
  {
   "cell_type": "code",
   "execution_count": 13,
   "metadata": {},
   "outputs": [
    {
     "name": "stdout",
     "output_type": "stream",
     "text": [
      "(13864, 8)\n"
     ]
    },
    {
     "data": {
      "text/html": [
       "<div>\n",
       "<style scoped>\n",
       "    .dataframe tbody tr th:only-of-type {\n",
       "        vertical-align: middle;\n",
       "    }\n",
       "\n",
       "    .dataframe tbody tr th {\n",
       "        vertical-align: top;\n",
       "    }\n",
       "\n",
       "    .dataframe thead th {\n",
       "        text-align: right;\n",
       "    }\n",
       "</style>\n",
       "<table border=\"1\" class=\"dataframe\">\n",
       "  <thead>\n",
       "    <tr style=\"text-align: right;\">\n",
       "      <th></th>\n",
       "      <th>Clientnummer</th>\n",
       "      <th>Siblings</th>\n",
       "      <th>Geboortejaarmaand_relatie_ouder1</th>\n",
       "      <th>Geboorteland_relatie_ouder1</th>\n",
       "      <th>Geslacht_relatie_ouder1</th>\n",
       "      <th>Geboortejaarmaand_relatie_ouder2</th>\n",
       "      <th>Geboorteland_relatie_ouder2</th>\n",
       "      <th>Geslacht_relatie_ouder2</th>\n",
       "    </tr>\n",
       "  </thead>\n",
       "  <tbody>\n",
       "    <tr>\n",
       "      <th>0</th>\n",
       "      <td>10070491</td>\n",
       "      <td>0</td>\n",
       "      <td>198708</td>\n",
       "      <td>Nederland</td>\n",
       "      <td>mannelijk</td>\n",
       "      <td>198503</td>\n",
       "      <td>Nederland</td>\n",
       "      <td>vrouwelijk</td>\n",
       "    </tr>\n",
       "    <tr>\n",
       "      <th>1</th>\n",
       "      <td>10078065</td>\n",
       "      <td>3</td>\n",
       "      <td>196703</td>\n",
       "      <td>Turkije</td>\n",
       "      <td>onbekend</td>\n",
       "      <td>198005</td>\n",
       "      <td>Turkije</td>\n",
       "      <td>onbekend</td>\n",
       "    </tr>\n",
       "    <tr>\n",
       "      <th>2</th>\n",
       "      <td>10078073</td>\n",
       "      <td>1</td>\n",
       "      <td>198807</td>\n",
       "      <td>China</td>\n",
       "      <td>vrouwelijk</td>\n",
       "      <td>198111</td>\n",
       "      <td>China</td>\n",
       "      <td>mannelijk</td>\n",
       "    </tr>\n",
       "    <tr>\n",
       "      <th>3</th>\n",
       "      <td>2986905</td>\n",
       "      <td>1</td>\n",
       "      <td>197805</td>\n",
       "      <td>Nederland</td>\n",
       "      <td>vrouwelijk</td>\n",
       "      <td>198201</td>\n",
       "      <td>Nederland</td>\n",
       "      <td>mannelijk</td>\n",
       "    </tr>\n",
       "    <tr>\n",
       "      <th>4</th>\n",
       "      <td>2987112</td>\n",
       "      <td>1</td>\n",
       "      <td>198604</td>\n",
       "      <td>Nederland</td>\n",
       "      <td>vrouwelijk</td>\n",
       "      <td>198709</td>\n",
       "      <td>Nederland</td>\n",
       "      <td>mannelijk</td>\n",
       "    </tr>\n",
       "  </tbody>\n",
       "</table>\n",
       "</div>"
      ],
      "text/plain": [
       "  Clientnummer  Siblings Geboortejaarmaand_relatie_ouder1  \\\n",
       "0     10070491         0                           198708   \n",
       "1     10078065         3                           196703   \n",
       "2     10078073         1                           198807   \n",
       "3      2986905         1                           197805   \n",
       "4      2987112         1                           198604   \n",
       "\n",
       "  Geboorteland_relatie_ouder1 Geslacht_relatie_ouder1  \\\n",
       "0                   Nederland               mannelijk   \n",
       "1                     Turkije                onbekend   \n",
       "2                       China              vrouwelijk   \n",
       "3                   Nederland              vrouwelijk   \n",
       "4                   Nederland              vrouwelijk   \n",
       "\n",
       "  Geboortejaarmaand_relatie_ouder2 Geboorteland_relatie_ouder2  \\\n",
       "0                           198503                   Nederland   \n",
       "1                           198005                     Turkije   \n",
       "2                           198111                       China   \n",
       "3                           198201                   Nederland   \n",
       "4                           198709                   Nederland   \n",
       "\n",
       "  Geslacht_relatie_ouder2  \n",
       "0              vrouwelijk  \n",
       "1                onbekend  \n",
       "2               mannelijk  \n",
       "3               mannelijk  \n",
       "4               mannelijk  "
      ]
     },
     "execution_count": 13,
     "metadata": {},
     "output_type": "execute_result"
    }
   ],
   "source": [
    "# Merge clients_siblings_frequencies and clients_relations on 'Clientnummer' keeping all rows from clients_siblings_frequencies\n",
    "clients_relations = (clients_relations_siblings\n",
    "                     .merge(clients_relations_parent1, on='Clientnummer', how='left')\n",
    "                     .merge(clients_relations_parent2, on='Clientnummer', how='left'))\n",
    "\n",
    "# Show head\n",
    "print(clients_relations.shape)\n",
    "clients_relations.head()"
   ]
  },
  {
   "cell_type": "markdown",
   "metadata": {},
   "source": [
    "#### 3.5 Align fathers with parent2 and mothers with parent1"
   ]
  },
  {
   "cell_type": "code",
   "execution_count": 14,
   "metadata": {},
   "outputs": [],
   "source": [
    "# Replace all NaN with 'onbekend'\n",
    "clients_relations = clients_relations.fillna('onbekend')\n",
    "\n",
    "# If parent1 is masculine and parent2 is feminine or unknown, switch them\n",
    "mask = ((clients_relations['Geslacht_relatie_ouder1'] == 'mannelijk') &\n",
    "        ((clients_relations['Geslacht_relatie_ouder2'] == 'vrouwelijk') | (clients_relations['Geslacht_relatie_ouder2'] == 'onbekend')) |\n",
    "        ((clients_relations['Geslacht_relatie_ouder2'] == 'vrouwelijk') & (clients_relations['Geslacht_relatie_ouder1'] == 'onbekend')))\n",
    "\n",
    "# Switch\n",
    "clients_relations.loc[mask, ['Geboortejaarmaand_relatie_ouder1',\n",
    "                             'Geboorteland_relatie_ouder1',\n",
    "                             'Geslacht_relatie_ouder1',\n",
    "                             'Geboortejaarmaand_relatie_ouder2',\n",
    "                             'Geboorteland_relatie_ouder2',\n",
    "                             'Geslacht_relatie_ouder2']] = clients_relations.loc[mask, ['Geboortejaarmaand_relatie_ouder2',\n",
    "                                                                                        'Geboorteland_relatie_ouder2',\n",
    "                                                                                        'Geslacht_relatie_ouder2',\n",
    "                                                                                        'Geboortejaarmaand_relatie_ouder1',\n",
    "                                                                                        'Geboorteland_relatie_ouder1',\n",
    "                                                                                        'Geslacht_relatie_ouder1']].values"
   ]
  },
  {
   "cell_type": "code",
   "execution_count": 15,
   "metadata": {},
   "outputs": [
    {
     "name": "stdout",
     "output_type": "stream",
     "text": [
      "(13864, 8)\n"
     ]
    },
    {
     "data": {
      "text/html": [
       "<div>\n",
       "<style scoped>\n",
       "    .dataframe tbody tr th:only-of-type {\n",
       "        vertical-align: middle;\n",
       "    }\n",
       "\n",
       "    .dataframe tbody tr th {\n",
       "        vertical-align: top;\n",
       "    }\n",
       "\n",
       "    .dataframe thead th {\n",
       "        text-align: right;\n",
       "    }\n",
       "</style>\n",
       "<table border=\"1\" class=\"dataframe\">\n",
       "  <thead>\n",
       "    <tr style=\"text-align: right;\">\n",
       "      <th></th>\n",
       "      <th>Clientnummer</th>\n",
       "      <th>Siblings</th>\n",
       "      <th>Geboortejaarmaand_relatie_ouder1</th>\n",
       "      <th>Geboorteland_relatie_ouder1</th>\n",
       "      <th>Geslacht_relatie_ouder1</th>\n",
       "      <th>Geboortejaarmaand_relatie_ouder2</th>\n",
       "      <th>Geboorteland_relatie_ouder2</th>\n",
       "      <th>Geslacht_relatie_ouder2</th>\n",
       "    </tr>\n",
       "  </thead>\n",
       "  <tbody>\n",
       "    <tr>\n",
       "      <th>0</th>\n",
       "      <td>10070491</td>\n",
       "      <td>0</td>\n",
       "      <td>198503</td>\n",
       "      <td>Nederland</td>\n",
       "      <td>vrouwelijk</td>\n",
       "      <td>198708</td>\n",
       "      <td>Nederland</td>\n",
       "      <td>mannelijk</td>\n",
       "    </tr>\n",
       "    <tr>\n",
       "      <th>1</th>\n",
       "      <td>10078065</td>\n",
       "      <td>3</td>\n",
       "      <td>196703</td>\n",
       "      <td>Turkije</td>\n",
       "      <td>onbekend</td>\n",
       "      <td>198005</td>\n",
       "      <td>Turkije</td>\n",
       "      <td>onbekend</td>\n",
       "    </tr>\n",
       "    <tr>\n",
       "      <th>2</th>\n",
       "      <td>10078073</td>\n",
       "      <td>1</td>\n",
       "      <td>198807</td>\n",
       "      <td>China</td>\n",
       "      <td>vrouwelijk</td>\n",
       "      <td>198111</td>\n",
       "      <td>China</td>\n",
       "      <td>mannelijk</td>\n",
       "    </tr>\n",
       "    <tr>\n",
       "      <th>3</th>\n",
       "      <td>2986905</td>\n",
       "      <td>1</td>\n",
       "      <td>197805</td>\n",
       "      <td>Nederland</td>\n",
       "      <td>vrouwelijk</td>\n",
       "      <td>198201</td>\n",
       "      <td>Nederland</td>\n",
       "      <td>mannelijk</td>\n",
       "    </tr>\n",
       "    <tr>\n",
       "      <th>4</th>\n",
       "      <td>2987112</td>\n",
       "      <td>1</td>\n",
       "      <td>198604</td>\n",
       "      <td>Nederland</td>\n",
       "      <td>vrouwelijk</td>\n",
       "      <td>198709</td>\n",
       "      <td>Nederland</td>\n",
       "      <td>mannelijk</td>\n",
       "    </tr>\n",
       "  </tbody>\n",
       "</table>\n",
       "</div>"
      ],
      "text/plain": [
       "  Clientnummer  Siblings Geboortejaarmaand_relatie_ouder1  \\\n",
       "0     10070491         0                           198503   \n",
       "1     10078065         3                           196703   \n",
       "2     10078073         1                           198807   \n",
       "3      2986905         1                           197805   \n",
       "4      2987112         1                           198604   \n",
       "\n",
       "  Geboorteland_relatie_ouder1 Geslacht_relatie_ouder1  \\\n",
       "0                   Nederland              vrouwelijk   \n",
       "1                     Turkije                onbekend   \n",
       "2                       China              vrouwelijk   \n",
       "3                   Nederland              vrouwelijk   \n",
       "4                   Nederland              vrouwelijk   \n",
       "\n",
       "  Geboortejaarmaand_relatie_ouder2 Geboorteland_relatie_ouder2  \\\n",
       "0                           198708                   Nederland   \n",
       "1                           198005                     Turkije   \n",
       "2                           198111                       China   \n",
       "3                           198201                   Nederland   \n",
       "4                           198709                   Nederland   \n",
       "\n",
       "  Geslacht_relatie_ouder2  \n",
       "0               mannelijk  \n",
       "1                onbekend  \n",
       "2               mannelijk  \n",
       "3               mannelijk  \n",
       "4               mannelijk  "
      ]
     },
     "execution_count": 15,
     "metadata": {},
     "output_type": "execute_result"
    }
   ],
   "source": [
    "# Show head\n",
    "print(clients_relations.shape)\n",
    "clients_relations.head()"
   ]
  },
  {
   "cell_type": "markdown",
   "metadata": {},
   "source": [
    "### 4. Transform monthyear dates"
   ]
  },
  {
   "cell_type": "code",
   "execution_count": 16,
   "metadata": {},
   "outputs": [],
   "source": [
    "# Change the data type of the column to string\n",
    "clients_relations['Geboortejaarmaand_relatie_ouder1'] = clients_relations['Geboortejaarmaand_relatie_ouder1'].astype(str)\n",
    "clients_relations['Geboortejaarmaand_relatie_ouder2'] = clients_relations['Geboortejaarmaand_relatie_ouder2'].astype(str)\n",
    "\n",
    "# If the length of the string is 5, add 1 as its first character\n",
    "clients_relations['Geboortejaarmaand_relatie_ouder1'] = clients_relations['Geboortejaarmaand_relatie_ouder1'].apply(lambda x: '1' + x if len(x) == 5 else x)\n",
    "clients_relations['Geboortejaarmaand_relatie_ouder2'] = clients_relations['Geboortejaarmaand_relatie_ouder2'].apply(lambda x: '1' + x if len(x) == 5 else x)\n",
    "\n",
    "# If the second character is a 0, replace it with a 9\n",
    "clients_relations['Geboortejaarmaand_relatie_ouder1'] = clients_relations['Geboortejaarmaand_relatie_ouder1'].apply(lambda x: x[:1] + '9' + x[2:] if x[1] == '0' else x)\n",
    "clients_relations['Geboortejaarmaand_relatie_ouder2'] = clients_relations['Geboortejaarmaand_relatie_ouder2'].apply(lambda x: x[:1] + '9' + x[2:] if x[1] == '0' else x)\n",
    "\n",
    "# Replace \"onbekend\" with np.nan\n",
    "clients_relations['Geboortejaarmaand_relatie_ouder1'] = clients_relations['Geboortejaarmaand_relatie_ouder1'].replace('onbekend', np.nan)\n",
    "clients_relations['Geboortejaarmaand_relatie_ouder2'] = clients_relations['Geboortejaarmaand_relatie_ouder2'].replace('onbekend', np.nan)\n",
    "\n",
    "# Replace other individual input errors\n",
    "clients_relations['Geboortejaarmaand_relatie_ouder1'] = clients_relations['Geboortejaarmaand_relatie_ouder1'].replace('291001', np.nan)\n",
    "\n",
    "# Change month dtypes\n",
    "clients_relations['Geboortejaarmaand_relatie_ouder1'] = pd.to_datetime(clients_relations['Geboortejaarmaand_relatie_ouder1'], format='%Y%m').dt.to_period('M').dt.strftime('%Y-%m')\n",
    "clients_relations['Geboortejaarmaand_relatie_ouder2'] = pd.to_datetime(clients_relations['Geboortejaarmaand_relatie_ouder2'], format='%Y%m').dt.to_period('M').dt.strftime('%Y-%m')"
   ]
  },
  {
   "cell_type": "code",
   "execution_count": 17,
   "metadata": {},
   "outputs": [
    {
     "data": {
      "text/plain": [
       "Clientnummer                        0.000000\n",
       "Siblings                            0.000000\n",
       "Geboortejaarmaand_relatie_ouder1    0.012262\n",
       "Geboorteland_relatie_ouder1         0.000000\n",
       "Geslacht_relatie_ouder1             0.000000\n",
       "Geboortejaarmaand_relatie_ouder2    0.031088\n",
       "Geboorteland_relatie_ouder2         0.000000\n",
       "Geslacht_relatie_ouder2             0.000000\n",
       "dtype: float64"
      ]
     },
     "execution_count": 17,
     "metadata": {},
     "output_type": "execute_result"
    }
   ],
   "source": [
    "clients_relations.isna().mean()"
   ]
  },
  {
   "cell_type": "markdown",
   "metadata": {},
   "source": [
    "### 5. Save as .pkl"
   ]
  },
  {
   "cell_type": "code",
   "execution_count": 18,
   "metadata": {},
   "outputs": [],
   "source": [
    "# Save df_observaties as .pkl file\n",
    "clients_relations.to_pickle('4_Data/Pickles/schoolgaanden_relaties.pkl')"
   ]
  }
 ],
 "metadata": {
  "kernelspec": {
   "display_name": "Python 3",
   "language": "python",
   "name": "python3"
  },
  "language_info": {
   "codemirror_mode": {
    "name": "ipython",
    "version": 3
   },
   "file_extension": ".py",
   "mimetype": "text/x-python",
   "name": "python",
   "nbconvert_exporter": "python",
   "pygments_lexer": "ipython3",
   "version": "3.12.5"
  }
 },
 "nbformat": 4,
 "nbformat_minor": 2
}
