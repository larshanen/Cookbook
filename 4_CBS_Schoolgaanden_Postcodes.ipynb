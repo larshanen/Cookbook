{
 "cells": [
  {
   "cell_type": "markdown",
   "metadata": {},
   "source": [
    "### 1. Import modules"
   ]
  },
  {
   "cell_type": "code",
   "execution_count": 1,
   "metadata": {},
   "outputs": [],
   "source": [
    "import warnings\n",
    "warnings.filterwarnings('ignore')\n",
    "\n",
    "import pyodbc\n",
    "import pandas as pd\n",
    "import numpy as np\n",
    "import xlwings as xw\n",
    "import geopandas as gpd"
   ]
  },
  {
   "cell_type": "markdown",
   "metadata": {},
   "source": [
    "### 2. Import schoolgaanden to Pandas dataframe"
   ]
  },
  {
   "cell_type": "code",
   "execution_count": 2,
   "metadata": {},
   "outputs": [],
   "source": [
    "# Import pickles\n",
    "df_schoolgaanden = pd.read_pickle('4_Data\\Pickles\\schoolgaanden_observaties.pkl')\n",
    "\n",
    "# Save only columns PersonNr and Postcode\n",
    "df_schoolgaanden_pc6 = df_schoolgaanden[['Clientnummer', 'Postcode']]"
   ]
  },
  {
   "cell_type": "markdown",
   "metadata": {},
   "source": [
    "### 2. Import CBS .gpkg"
   ]
  },
  {
   "cell_type": "markdown",
   "metadata": {},
   "source": [
    "#### 2.1 PC6"
   ]
  },
  {
   "cell_type": "code",
   "execution_count": 3,
   "metadata": {},
   "outputs": [],
   "source": [
    "# # Reading GeoPackage file\n",
    "# input_file = '4_Data\\cbs_pc6_2022_v1.gpkg'\n",
    "# cbs_df = gpd.read_file(input_file)\n",
    "\n",
    "# # Replace every -99997 with NaN\n",
    "# cbs_df = cbs_df.replace(-99997, np.nan)"
   ]
  },
  {
   "cell_type": "code",
   "execution_count": 4,
   "metadata": {},
   "outputs": [],
   "source": [
    "# # Rename postcode to Postcode\n",
    "# cbs_df.rename(columns={'postcode':'Postcode'}, inplace=True)"
   ]
  },
  {
   "cell_type": "code",
   "execution_count": 5,
   "metadata": {},
   "outputs": [],
   "source": [
    "# # Merge schoolgaanden_pc6 with cbs_df on postcode, preserving all columns in schoolgaanden_pc6\n",
    "# schoolgaanden_cbs6 = pd.merge(df_schoolgaanden_pc6, cbs_df, on='Postcode', how='left')\n",
    "\n",
    "# # Drop columns postcode and geometry\n",
    "# schoolgaanden_cbs6 = schoolgaanden_cbs6.drop(columns=['Postcode', 'geometry'])\n",
    "\n",
    "# # Set Clietnummer dtype to object\n",
    "# schoolgaanden_cbs6['Clientnummer'] = schoolgaanden_cbs6['Clientnummer'].astype('str')\n",
    "\n",
    "# # Print the amount of NaN values per column as percentages\n",
    "# print(schoolgaanden_cbs6.isna().sum() / len(schoolgaanden_cbs6) * 100)"
   ]
  },
  {
   "cell_type": "markdown",
   "metadata": {},
   "source": [
    "#### 2.2 PC4"
   ]
  },
  {
   "cell_type": "code",
   "execution_count": 6,
   "metadata": {},
   "outputs": [],
   "source": [
    "# Reading GeoPackage file\n",
    "input_file = '4_Data\\cbs_pc4_2022_v1.gpkg'\n",
    "cbs4_df = gpd.read_file(input_file)\n",
    "\n",
    "# Replace every -99997 with NaN\n",
    "cbs4_df = cbs4_df.replace(-99997, np.nan)"
   ]
  },
  {
   "cell_type": "code",
   "execution_count": 7,
   "metadata": {},
   "outputs": [
    {
     "name": "stdout",
     "output_type": "stream",
     "text": [
      "Clientnummer                                             0.000000\n",
      "aantal_inwoners                                          0.000000\n",
      "aantal_mannen                                            0.000000\n",
      "aantal_vrouwen                                           0.000000\n",
      "aantal_inwoners_0_tot_15_jaar                            0.007119\n",
      "aantal_inwoners_15_tot_25_jaar                           0.007119\n",
      "aantal_inwoners_25_tot_45_jaar                           0.000000\n",
      "aantal_inwoners_45_tot_65_jaar                           0.000000\n",
      "aantal_inwoners_65_jaar_en_ouder                         0.000000\n",
      "percentage_geb_nederland_herkomst_nederland              0.000000\n",
      "percentage_geb_nederland_herkomst_overig_europa          0.170855\n",
      "percentage_geb_nederland_herkomst_buiten_europa          0.298996\n",
      "percentage_geb_buiten_nederland_herkomst_europa          0.092546\n",
      "percentage_geb_buiten_nederland_herkmst_buiten_europa    0.313234\n",
      "aantal_part_huishoudens                                  0.000000\n",
      "aantal_eenpersoonshuishoudens                            0.000000\n",
      "aantal_meerpersoonshuishoudens_zonder_kind               0.007119\n",
      "aantal_eenouderhuishoudens                               0.213569\n",
      "aantal_tweeouderhuishoudens                              0.007119\n",
      "gemiddelde_huishoudensgrootte                            0.000000\n",
      "aantal_woningen                                          0.000000\n",
      "aantal_woningen_bouwjaar_voor_1945                       6.328753\n",
      "aantal_woningen_bouwjaar_45_tot_65                       7.638642\n",
      "aantal_woningen_bouwjaar_65_tot_75                       6.848437\n",
      "aantal_woningen_bouwjaar_75_tot_85                       5.787713\n",
      "aantal_woningen_bouwjaar_85_tot_95                       1.900762\n",
      "aantal_woningen_bouwjaar_95_tot_05                       0.768847\n",
      "aantal_woningen_bouwjaar_05_tot_15                       4.349683\n",
      "aantal_woningen_bouwjaar_15_en_later                     7.709831\n",
      "aantal_meergezins_woningen                               0.975297\n",
      "percentage_koopwoningen                                  0.007119\n",
      "percentage_huurwoningen                                  0.007119\n",
      "aantal_huurwoningen_in_bezit_woningcorporaties           0.754610\n",
      "aantal_niet_bewoonde_woningen                            0.263401\n",
      "gemiddelde_woz_waarde_woning                             0.000000\n",
      "aantal_personen_met_uitkering_onder_aowlft               0.007119\n",
      "omgevingsadressendichtheid                               0.000000\n",
      "stedelijkheid                                            0.000000\n",
      "dtype: float64\n"
     ]
    }
   ],
   "source": [
    "# Remove last two characters of schoolgaanden_pc6['postcode']\n",
    "df_schoolgaanden['postcode4'] = df_schoolgaanden['Postcode'].str[:-2]\n",
    "\n",
    "# Rename schoolgaanden_pc6 to schoolgaanden_pc4\n",
    "schoolgaanden_pc4 = df_schoolgaanden[['Clientnummer', 'postcode4']]\n",
    "\n",
    "# Merge schoolgaanden_pc6 with cbs_df on postcode, preserving all columns in schoolgaanden_pc6\n",
    "schoolgaanden_cbs4 = pd.merge(schoolgaanden_pc4, cbs4_df, on='postcode4', how='left')\n",
    "\n",
    "# Drop columns postcode and geometry\n",
    "schoolgaanden_cbs4 = schoolgaanden_cbs4.drop(columns=['postcode4', 'geometry'])\n",
    "\n",
    "# Set Clietnummer dtype to object\n",
    "schoolgaanden_cbs4['Clientnummer'] = schoolgaanden_cbs4['Clientnummer'].astype('str')\n",
    "\n",
    "# Print the amount of NaN values per column as percentages\n",
    "print(schoolgaanden_cbs4.isna().sum() / len(schoolgaanden_cbs4) * 100)"
   ]
  },
  {
   "cell_type": "markdown",
   "metadata": {},
   "source": [
    "### 5. Save .pkl's"
   ]
  },
  {
   "cell_type": "code",
   "execution_count": 8,
   "metadata": {},
   "outputs": [],
   "source": [
    "# Save as a pickle\n",
    "schoolgaanden_cbs4.to_pickle('4_Data\\Pickles\\schoolgaanden_cbs4.pkl')\n",
    "# schoolgaanden_cbs6.to_pickle('4_Data\\Pickles\\schoolgaanden_cbs6.pkl')"
   ]
  }
 ],
 "metadata": {
  "kernelspec": {
   "display_name": "Python 3",
   "language": "python",
   "name": "python3"
  },
  "language_info": {
   "codemirror_mode": {
    "name": "ipython",
    "version": 3
   },
   "file_extension": ".py",
   "mimetype": "text/x-python",
   "name": "python",
   "nbconvert_exporter": "python",
   "pygments_lexer": "ipython3",
   "version": "3.12.5"
  }
 },
 "nbformat": 4,
 "nbformat_minor": 2
}
