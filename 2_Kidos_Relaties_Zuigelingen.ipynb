{
 "cells": [
  {
   "cell_type": "markdown",
   "metadata": {},
   "source": [
    "### 1. Import modules"
   ]
  },
  {
   "cell_type": "code",
   "execution_count": 1,
   "metadata": {},
   "outputs": [],
   "source": [
    "import warnings\n",
    "warnings.filterwarnings('ignore')\n",
    "\n",
    "import pyodbc\n",
    "import pandas as pd\n",
    "import numpy as np"
   ]
  },
  {
   "cell_type": "markdown",
   "metadata": {},
   "source": [
    "### 2. Import data to Pandas dataframe (Kidos_Kind_Relatie)"
   ]
  },
  {
   "cell_type": "code",
   "execution_count": 2,
   "metadata": {},
   "outputs": [],
   "source": [
    "# Import pickles\n",
    "df_zuigelingen = pd.read_pickle('4_Data\\Pickles\\zuigelingen_observaties.pkl')"
   ]
  },
  {
   "cell_type": "code",
   "execution_count": 3,
   "metadata": {},
   "outputs": [],
   "source": [
    "# Set to True or False depending on whether you want to import new data\n",
    "NEWIMPORT = False\n",
    "\n",
    "if NEWIMPORT:\n",
    "    # Replace server name if source changes\n",
    "    server = 'AZ-ODB0\\ODBWB'\n",
    "    database = 'OnderzoeksDB_WB'\n",
    "\n",
    "    # Create a connection string\n",
    "    connection_string = f'DRIVER={{SQL Server}};SERVER={server};DATABASE={database}'\n",
    "\n",
    "    # Establish connection\n",
    "    connection = pyodbc.connect(connection_string)\n",
    "\n",
    "    # Define columns to select\n",
    "    selected_columns = ['Clientnummer',\n",
    "                        'Relatienummer',\n",
    "                        'Relatieband',\n",
    "                        'Ouder',\n",
    "                        'Geboortejaarmaand_kind',\n",
    "                        'Geboortejaarmaand_relatie',\n",
    "                        'Geboorteland_relatie',\n",
    "                        'Geslacht_relatie']\n",
    "\n",
    "    # Define a list of Clientnummers to include\n",
    "    included_clientnummers = df_zuigelingen['Clientnummer'].unique()\n",
    "    print(len(included_clientnummers))\n",
    "\n",
    "    # Create SQL query string with specific columns and inclusion criteria\n",
    "    query = f'SELECT {', '.join(selected_columns)} FROM Kidos_Kind_Relatie WHERE Clientnummer IN ({', '.join(included_clientnummers)})'\n",
    "\n",
    "    # Execute the query and fetch the data into a Pandas DataFrame\n",
    "    df_relaties_og = pd.read_sql(query, connection)\n",
    "\n",
    "    # Close the connection\n",
    "    connection.close()\n",
    "\n",
    "    # Save df_relaties_og as a pickle\n",
    "    df_relaties_og.to_pickle('4_Data\\Pickles\\\\relaties_zuigelingen_og.pkl')\n",
    "else:\n",
    "    # Load the pickle\n",
    "    df_relaties_og = pd.read_pickle('4_Data\\Pickles\\\\relaties_zuigelingen_og.pkl')"
   ]
  },
  {
   "cell_type": "markdown",
   "metadata": {},
   "source": [
    "### 3. Process"
   ]
  },
  {
   "cell_type": "code",
   "execution_count": 4,
   "metadata": {},
   "outputs": [
    {
     "name": "stdout",
     "output_type": "stream",
     "text": [
      "The amount of relations in the df_relaties is: 5384, the amount of unique client ID's is: 5384\n"
     ]
    }
   ],
   "source": [
    "print(f'The amount of relations in the df_relaties is: {len(df_zuigelingen)}, the amount of unique client ID\\'s is: {len(df_zuigelingen['Clientnummer'].unique())}')"
   ]
  },
  {
   "cell_type": "code",
   "execution_count": 5,
   "metadata": {},
   "outputs": [],
   "source": [
    "# Store copy of unique records of df_og in df\n",
    "df_relaties = df_relaties_og.drop_duplicates()\n",
    "\n",
    "# Set yearmonth's to NaN if it is '00'\n",
    "df_relaties['Geboortejaarmaand_relatie'] = df_relaties['Geboortejaarmaand_relatie'].replace('00', np.NaN)"
   ]
  },
  {
   "cell_type": "code",
   "execution_count": 6,
   "metadata": {},
   "outputs": [
    {
     "name": "stdout",
     "output_type": "stream",
     "text": [
      "The amount of relations in the df_relaties is: 18249, the amount of unique client ID's is: 5760\n"
     ]
    }
   ],
   "source": [
    "print(f'The amount of relations in the df_relaties is: {len(df_relaties)}, the amount of unique client ID\\'s is: {len(df_relaties['Clientnummer'].unique())}')"
   ]
  },
  {
   "cell_type": "markdown",
   "metadata": {},
   "source": [
    "#### 3.1 Transform table structure - Siblings"
   ]
  },
  {
   "cell_type": "code",
   "execution_count": 7,
   "metadata": {},
   "outputs": [
    {
     "name": "stdout",
     "output_type": "stream",
     "text": [
      "(5760, 2)\n"
     ]
    },
    {
     "data": {
      "text/html": [
       "<div>\n",
       "<style scoped>\n",
       "    .dataframe tbody tr th:only-of-type {\n",
       "        vertical-align: middle;\n",
       "    }\n",
       "\n",
       "    .dataframe tbody tr th {\n",
       "        vertical-align: top;\n",
       "    }\n",
       "\n",
       "    .dataframe thead th {\n",
       "        text-align: right;\n",
       "    }\n",
       "</style>\n",
       "<table border=\"1\" class=\"dataframe\">\n",
       "  <thead>\n",
       "    <tr style=\"text-align: right;\">\n",
       "      <th></th>\n",
       "      <th>Clientnummer</th>\n",
       "      <th>Siblings</th>\n",
       "    </tr>\n",
       "  </thead>\n",
       "  <tbody>\n",
       "    <tr>\n",
       "      <th>0</th>\n",
       "      <td>10074469</td>\n",
       "      <td>4</td>\n",
       "    </tr>\n",
       "    <tr>\n",
       "      <th>1</th>\n",
       "      <td>10080706</td>\n",
       "      <td>2</td>\n",
       "    </tr>\n",
       "    <tr>\n",
       "      <th>2</th>\n",
       "      <td>8161527</td>\n",
       "      <td>1</td>\n",
       "    </tr>\n",
       "    <tr>\n",
       "      <th>3</th>\n",
       "      <td>8163825</td>\n",
       "      <td>1</td>\n",
       "    </tr>\n",
       "    <tr>\n",
       "      <th>4</th>\n",
       "      <td>8163828</td>\n",
       "      <td>2</td>\n",
       "    </tr>\n",
       "  </tbody>\n",
       "</table>\n",
       "</div>"
      ],
      "text/plain": [
       "  Clientnummer  Siblings\n",
       "0     10074469         4\n",
       "1     10080706         2\n",
       "2      8161527         1\n",
       "3      8163825         1\n",
       "4      8163828         2"
      ]
     },
     "execution_count": 7,
     "metadata": {},
     "output_type": "execute_result"
    }
   ],
   "source": [
    "# Create a pivot table with 'Clientnummer' as the index and 'Relatieband' as the columns\n",
    "clients_frequencies = df_relaties.pivot_table(index='Clientnummer', columns='Relatieband', aggfunc='size', fill_value=0)\n",
    "\n",
    "# Select only the 'Broer of zus' column\n",
    "clients_relations_siblings = clients_frequencies['Broer of zus'].reset_index(name='Siblings')\n",
    "\n",
    "# Show head\n",
    "print(clients_relations_siblings.shape)\n",
    "clients_relations_siblings.head()"
   ]
  },
  {
   "cell_type": "markdown",
   "metadata": {},
   "source": [
    "#### 3.2 Transform table structure - Parent1"
   ]
  },
  {
   "cell_type": "code",
   "execution_count": 8,
   "metadata": {},
   "outputs": [
    {
     "data": {
      "text/plain": [
       "array(['Eigen (biologische) vader van het kind', 'Broer of zus',\n",
       "       'Eigen (biologische) moeder van het kind', 'Anders',\n",
       "       'Partner/vriend van de vader of moeder (stiefvader)',\n",
       "       'Adoptief vader', 'Halfbroer of halfzus', 'Adoptief moeder',\n",
       "       'Partner/vriendin van de vader of moeder (stiefmoeder)',\n",
       "       'Pleegmoeder', 'Pleegvader'], dtype=object)"
      ]
     },
     "execution_count": 8,
     "metadata": {},
     "output_type": "execute_result"
    }
   ],
   "source": [
    "df_relaties['Relatieband'].unique()"
   ]
  },
  {
   "cell_type": "code",
   "execution_count": 9,
   "metadata": {},
   "outputs": [
    {
     "data": {
      "text/plain": [
       "array(['Ouder2', None, 'Ouder1'], dtype=object)"
      ]
     },
     "execution_count": 9,
     "metadata": {},
     "output_type": "execute_result"
    }
   ],
   "source": [
    "df_relaties['Ouder'].unique()"
   ]
  },
  {
   "cell_type": "code",
   "execution_count": 10,
   "metadata": {},
   "outputs": [
    {
     "data": {
      "text/plain": [
       "Relatieband_Ouder\n",
       "Eigen (biologische) moeder van het kind - Ouder1                  4147\n",
       "Eigen (biologische) vader van het kind - Ouder2                   3951\n",
       "Anders - Ouder2                                                    894\n",
       "Anders - Ouder1                                                    808\n",
       "Eigen (biologische) moeder van het kind - Ouder2                   807\n",
       "Eigen (biologische) vader van het kind - Ouder1                    781\n",
       "Partner/vriend van de vader of moeder (stiefvader) - Ouder2         12\n",
       "Partner/vriendin van de vader of moeder (stiefmoeder) - Ouder2       9\n",
       "Adoptief moeder - Ouder2                                             7\n",
       "Partner/vriend van de vader of moeder (stiefvader) - Ouder1          4\n",
       "Adoptief vader - Ouder2                                              3\n",
       "Partner/vriendin van de vader of moeder (stiefmoeder) - Ouder1       3\n",
       "Adoptief moeder - Ouder1                                             2\n",
       "Adoptief vader - Ouder1                                              2\n",
       "Name: count, dtype: int64"
      ]
     },
     "execution_count": 10,
     "metadata": {},
     "output_type": "execute_result"
    }
   ],
   "source": [
    "# Get all unique combinations of Relatieband and Ouder and their value counts\n",
    "df_relaties['Relatieband_Ouder'] = df_relaties['Relatieband'] + ' - ' + df_relaties['Ouder']\n",
    "df_relaties['Relatieband_Ouder'].value_counts()"
   ]
  },
  {
   "cell_type": "code",
   "execution_count": 11,
   "metadata": {},
   "outputs": [],
   "source": [
    "# Make list of parent types\n",
    "parents = ['Eigen (biologische) vader van het kind',\n",
    "           'Eigen (biologische) moeder van het kind',\n",
    "           'Partner/vriendin van de vader of moeder (stiefmoeder)',\n",
    "           'Adoptief vader',\n",
    "           'Partner/vriend van de vader of moeder (stiefvader)',\n",
    "           'Adoptief moeder',\n",
    "           'Pleegvader',\n",
    "           'Pleegmoeder']\n",
    "\n",
    "# For every unique 'Clientnummer' in df_relaties, count the amount of rows where 'Relatieband' is in parents or 'Ouder' is either Ouder1 or Ouder2\n",
    "df_relaties['Parents'] = df_relaties['Relatieband'].isin(parents) | df_relaties['Ouder'].isin(['Ouder1', 'Ouder2'])\n",
    "clients_relations_parents = df_relaties.groupby('Clientnummer')['Parents'].sum().reset_index(name='Parents')"
   ]
  },
  {
   "cell_type": "code",
   "execution_count": 12,
   "metadata": {},
   "outputs": [
    {
     "data": {
      "text/html": [
       "<div>\n",
       "<style scoped>\n",
       "    .dataframe tbody tr th:only-of-type {\n",
       "        vertical-align: middle;\n",
       "    }\n",
       "\n",
       "    .dataframe tbody tr th {\n",
       "        vertical-align: top;\n",
       "    }\n",
       "\n",
       "    .dataframe thead th {\n",
       "        text-align: right;\n",
       "    }\n",
       "</style>\n",
       "<table border=\"1\" class=\"dataframe\">\n",
       "  <thead>\n",
       "    <tr style=\"text-align: right;\">\n",
       "      <th></th>\n",
       "      <th>Clientnummer</th>\n",
       "      <th>Parents</th>\n",
       "    </tr>\n",
       "  </thead>\n",
       "  <tbody>\n",
       "    <tr>\n",
       "      <th>132</th>\n",
       "      <td>8188545</td>\n",
       "      <td>3</td>\n",
       "    </tr>\n",
       "    <tr>\n",
       "      <th>535</th>\n",
       "      <td>8251856</td>\n",
       "      <td>3</td>\n",
       "    </tr>\n",
       "    <tr>\n",
       "      <th>1011</th>\n",
       "      <td>8310255</td>\n",
       "      <td>4</td>\n",
       "    </tr>\n",
       "    <tr>\n",
       "      <th>1466</th>\n",
       "      <td>8373787</td>\n",
       "      <td>3</td>\n",
       "    </tr>\n",
       "    <tr>\n",
       "      <th>1509</th>\n",
       "      <td>8377670</td>\n",
       "      <td>3</td>\n",
       "    </tr>\n",
       "    <tr>\n",
       "      <th>1697</th>\n",
       "      <td>8402602</td>\n",
       "      <td>3</td>\n",
       "    </tr>\n",
       "    <tr>\n",
       "      <th>2045</th>\n",
       "      <td>8459843</td>\n",
       "      <td>3</td>\n",
       "    </tr>\n",
       "    <tr>\n",
       "      <th>2046</th>\n",
       "      <td>8461448</td>\n",
       "      <td>4</td>\n",
       "    </tr>\n",
       "    <tr>\n",
       "      <th>2121</th>\n",
       "      <td>8481356</td>\n",
       "      <td>3</td>\n",
       "    </tr>\n",
       "    <tr>\n",
       "      <th>2780</th>\n",
       "      <td>8586421</td>\n",
       "      <td>3</td>\n",
       "    </tr>\n",
       "    <tr>\n",
       "      <th>3103</th>\n",
       "      <td>8651152</td>\n",
       "      <td>3</td>\n",
       "    </tr>\n",
       "    <tr>\n",
       "      <th>3104</th>\n",
       "      <td>8651157</td>\n",
       "      <td>3</td>\n",
       "    </tr>\n",
       "    <tr>\n",
       "      <th>3106</th>\n",
       "      <td>8651240</td>\n",
       "      <td>3</td>\n",
       "    </tr>\n",
       "    <tr>\n",
       "      <th>3647</th>\n",
       "      <td>8754416</td>\n",
       "      <td>3</td>\n",
       "    </tr>\n",
       "    <tr>\n",
       "      <th>3984</th>\n",
       "      <td>8801154</td>\n",
       "      <td>3</td>\n",
       "    </tr>\n",
       "    <tr>\n",
       "      <th>4032</th>\n",
       "      <td>8812306</td>\n",
       "      <td>3</td>\n",
       "    </tr>\n",
       "    <tr>\n",
       "      <th>4045</th>\n",
       "      <td>8814886</td>\n",
       "      <td>3</td>\n",
       "    </tr>\n",
       "    <tr>\n",
       "      <th>4065</th>\n",
       "      <td>8816093</td>\n",
       "      <td>4</td>\n",
       "    </tr>\n",
       "    <tr>\n",
       "      <th>4066</th>\n",
       "      <td>8816096</td>\n",
       "      <td>4</td>\n",
       "    </tr>\n",
       "    <tr>\n",
       "      <th>4108</th>\n",
       "      <td>8821980</td>\n",
       "      <td>3</td>\n",
       "    </tr>\n",
       "    <tr>\n",
       "      <th>4126</th>\n",
       "      <td>8823738</td>\n",
       "      <td>3</td>\n",
       "    </tr>\n",
       "    <tr>\n",
       "      <th>4214</th>\n",
       "      <td>8833295</td>\n",
       "      <td>3</td>\n",
       "    </tr>\n",
       "    <tr>\n",
       "      <th>4217</th>\n",
       "      <td>8833306</td>\n",
       "      <td>3</td>\n",
       "    </tr>\n",
       "    <tr>\n",
       "      <th>4600</th>\n",
       "      <td>8889817</td>\n",
       "      <td>3</td>\n",
       "    </tr>\n",
       "    <tr>\n",
       "      <th>5025</th>\n",
       "      <td>8953551</td>\n",
       "      <td>3</td>\n",
       "    </tr>\n",
       "    <tr>\n",
       "      <th>5034</th>\n",
       "      <td>8953574</td>\n",
       "      <td>3</td>\n",
       "    </tr>\n",
       "    <tr>\n",
       "      <th>5240</th>\n",
       "      <td>8982450</td>\n",
       "      <td>3</td>\n",
       "    </tr>\n",
       "    <tr>\n",
       "      <th>5307</th>\n",
       "      <td>8993090</td>\n",
       "      <td>3</td>\n",
       "    </tr>\n",
       "    <tr>\n",
       "      <th>5406</th>\n",
       "      <td>9014617</td>\n",
       "      <td>3</td>\n",
       "    </tr>\n",
       "    <tr>\n",
       "      <th>5541</th>\n",
       "      <td>9034879</td>\n",
       "      <td>3</td>\n",
       "    </tr>\n",
       "    <tr>\n",
       "      <th>5642</th>\n",
       "      <td>9152012</td>\n",
       "      <td>4</td>\n",
       "    </tr>\n",
       "    <tr>\n",
       "      <th>5702</th>\n",
       "      <td>9347214</td>\n",
       "      <td>4</td>\n",
       "    </tr>\n",
       "  </tbody>\n",
       "</table>\n",
       "</div>"
      ],
      "text/plain": [
       "     Clientnummer  Parents\n",
       "132       8188545        3\n",
       "535       8251856        3\n",
       "1011      8310255        4\n",
       "1466      8373787        3\n",
       "1509      8377670        3\n",
       "1697      8402602        3\n",
       "2045      8459843        3\n",
       "2046      8461448        4\n",
       "2121      8481356        3\n",
       "2780      8586421        3\n",
       "3103      8651152        3\n",
       "3104      8651157        3\n",
       "3106      8651240        3\n",
       "3647      8754416        3\n",
       "3984      8801154        3\n",
       "4032      8812306        3\n",
       "4045      8814886        3\n",
       "4065      8816093        4\n",
       "4066      8816096        4\n",
       "4108      8821980        3\n",
       "4126      8823738        3\n",
       "4214      8833295        3\n",
       "4217      8833306        3\n",
       "4600      8889817        3\n",
       "5025      8953551        3\n",
       "5034      8953574        3\n",
       "5240      8982450        3\n",
       "5307      8993090        3\n",
       "5406      9014617        3\n",
       "5541      9034879        3\n",
       "5642      9152012        4\n",
       "5702      9347214        4"
      ]
     },
     "execution_count": 12,
     "metadata": {},
     "output_type": "execute_result"
    }
   ],
   "source": [
    "clients_relations_parents[clients_relations_parents['Parents'] > 2]"
   ]
  },
  {
   "cell_type": "code",
   "execution_count": 13,
   "metadata": {},
   "outputs": [
    {
     "name": "stdout",
     "output_type": "stream",
     "text": [
      "(5747, 4)\n"
     ]
    },
    {
     "data": {
      "text/html": [
       "<div>\n",
       "<style scoped>\n",
       "    .dataframe tbody tr th:only-of-type {\n",
       "        vertical-align: middle;\n",
       "    }\n",
       "\n",
       "    .dataframe tbody tr th {\n",
       "        vertical-align: top;\n",
       "    }\n",
       "\n",
       "    .dataframe thead th {\n",
       "        text-align: right;\n",
       "    }\n",
       "</style>\n",
       "<table border=\"1\" class=\"dataframe\">\n",
       "  <thead>\n",
       "    <tr style=\"text-align: right;\">\n",
       "      <th></th>\n",
       "      <th>Clientnummer</th>\n",
       "      <th>Geboortejaarmaand_relatie_ouder1</th>\n",
       "      <th>Geboorteland_relatie_ouder1</th>\n",
       "      <th>Geslacht_relatie_ouder1</th>\n",
       "    </tr>\n",
       "  </thead>\n",
       "  <tbody>\n",
       "    <tr>\n",
       "      <th>0</th>\n",
       "      <td>10074469</td>\n",
       "      <td>199503</td>\n",
       "      <td>Syrië</td>\n",
       "      <td>onbekend</td>\n",
       "    </tr>\n",
       "    <tr>\n",
       "      <th>1</th>\n",
       "      <td>10080706</td>\n",
       "      <td>199501</td>\n",
       "      <td>Syrië</td>\n",
       "      <td>vrouwelijk</td>\n",
       "    </tr>\n",
       "    <tr>\n",
       "      <th>2</th>\n",
       "      <td>8161527</td>\n",
       "      <td>197905</td>\n",
       "      <td>Nederland</td>\n",
       "      <td>mannelijk</td>\n",
       "    </tr>\n",
       "    <tr>\n",
       "      <th>3</th>\n",
       "      <td>8163825</td>\n",
       "      <td>198906</td>\n",
       "      <td>Nederland</td>\n",
       "      <td>vrouwelijk</td>\n",
       "    </tr>\n",
       "    <tr>\n",
       "      <th>4</th>\n",
       "      <td>8163828</td>\n",
       "      <td>199002</td>\n",
       "      <td>Nederland</td>\n",
       "      <td>vrouwelijk</td>\n",
       "    </tr>\n",
       "  </tbody>\n",
       "</table>\n",
       "</div>"
      ],
      "text/plain": [
       "  Clientnummer Geboortejaarmaand_relatie_ouder1 Geboorteland_relatie_ouder1  \\\n",
       "0     10074469                           199503                       Syrië   \n",
       "1     10080706                           199501                       Syrië   \n",
       "2      8161527                           197905                   Nederland   \n",
       "3      8163825                           198906                   Nederland   \n",
       "4      8163828                           199002                   Nederland   \n",
       "\n",
       "  Geslacht_relatie_ouder1  \n",
       "0                onbekend  \n",
       "1              vrouwelijk  \n",
       "2               mannelijk  \n",
       "3              vrouwelijk  \n",
       "4              vrouwelijk  "
      ]
     },
     "execution_count": 13,
     "metadata": {},
     "output_type": "execute_result"
    }
   ],
   "source": [
    "# Remove all rows where Relatieband is not in relevant_relaties\n",
    "df_relaties_parent1 = df_relaties[df_relaties['Ouder'] == 'Ouder1']\n",
    "\n",
    "# Pivot from long to wide format\n",
    "clients_relations_parent1 = (df_relaties_parent1.pivot_table(index='Clientnummer',\n",
    "                                                    columns='Ouder',\n",
    "                                                    values=['Geboortejaarmaand_relatie', 'Geboorteland_relatie', 'Geslacht_relatie'],\n",
    "                                                    aggfunc='first')\n",
    "                                                    .pipe(lambda d: d.set_axis(d.columns.map(lambda x: f'{x[0]}_ouder1'), axis=1))\n",
    "                                                    .reset_index())\n",
    "\n",
    "# Show head\n",
    "print(clients_relations_parent1.shape)\n",
    "clients_relations_parent1.head()"
   ]
  },
  {
   "cell_type": "code",
   "execution_count": 14,
   "metadata": {},
   "outputs": [
    {
     "data": {
      "text/plain": [
       "Clientnummer                        0.0\n",
       "Geboortejaarmaand_relatie_ouder1    0.0\n",
       "Geboorteland_relatie_ouder1         0.0\n",
       "Geslacht_relatie_ouder1             0.0\n",
       "dtype: float64"
      ]
     },
     "execution_count": 14,
     "metadata": {},
     "output_type": "execute_result"
    }
   ],
   "source": [
    "clients_relations_parent1.isna().mean()"
   ]
  },
  {
   "cell_type": "markdown",
   "metadata": {},
   "source": [
    "#### 3.3 Transform table structure - Parent2"
   ]
  },
  {
   "cell_type": "code",
   "execution_count": 15,
   "metadata": {},
   "outputs": [
    {
     "name": "stdout",
     "output_type": "stream",
     "text": [
      "(5683, 4)\n"
     ]
    },
    {
     "data": {
      "text/html": [
       "<div>\n",
       "<style scoped>\n",
       "    .dataframe tbody tr th:only-of-type {\n",
       "        vertical-align: middle;\n",
       "    }\n",
       "\n",
       "    .dataframe tbody tr th {\n",
       "        vertical-align: top;\n",
       "    }\n",
       "\n",
       "    .dataframe thead th {\n",
       "        text-align: right;\n",
       "    }\n",
       "</style>\n",
       "<table border=\"1\" class=\"dataframe\">\n",
       "  <thead>\n",
       "    <tr style=\"text-align: right;\">\n",
       "      <th></th>\n",
       "      <th>Clientnummer</th>\n",
       "      <th>Geboortejaarmaand_relatie_ouder2</th>\n",
       "      <th>Geboorteland_relatie_ouder2</th>\n",
       "      <th>Geslacht_relatie_ouder2</th>\n",
       "    </tr>\n",
       "  </thead>\n",
       "  <tbody>\n",
       "    <tr>\n",
       "      <th>0</th>\n",
       "      <td>10074469</td>\n",
       "      <td>198501</td>\n",
       "      <td>Syrië</td>\n",
       "      <td>onbekend</td>\n",
       "    </tr>\n",
       "    <tr>\n",
       "      <th>1</th>\n",
       "      <td>10080706</td>\n",
       "      <td>199108</td>\n",
       "      <td>Syrië</td>\n",
       "      <td>mannelijk</td>\n",
       "    </tr>\n",
       "    <tr>\n",
       "      <th>2</th>\n",
       "      <td>8161527</td>\n",
       "      <td>198012</td>\n",
       "      <td>Nederland</td>\n",
       "      <td>vrouwelijk</td>\n",
       "    </tr>\n",
       "    <tr>\n",
       "      <th>3</th>\n",
       "      <td>8163825</td>\n",
       "      <td>198701</td>\n",
       "      <td>Nederland</td>\n",
       "      <td>mannelijk</td>\n",
       "    </tr>\n",
       "    <tr>\n",
       "      <th>4</th>\n",
       "      <td>8163828</td>\n",
       "      <td>198911</td>\n",
       "      <td>Nederland</td>\n",
       "      <td>mannelijk</td>\n",
       "    </tr>\n",
       "  </tbody>\n",
       "</table>\n",
       "</div>"
      ],
      "text/plain": [
       "  Clientnummer Geboortejaarmaand_relatie_ouder2 Geboorteland_relatie_ouder2  \\\n",
       "0     10074469                           198501                       Syrië   \n",
       "1     10080706                           199108                       Syrië   \n",
       "2      8161527                           198012                   Nederland   \n",
       "3      8163825                           198701                   Nederland   \n",
       "4      8163828                           198911                   Nederland   \n",
       "\n",
       "  Geslacht_relatie_ouder2  \n",
       "0                onbekend  \n",
       "1               mannelijk  \n",
       "2              vrouwelijk  \n",
       "3               mannelijk  \n",
       "4               mannelijk  "
      ]
     },
     "execution_count": 15,
     "metadata": {},
     "output_type": "execute_result"
    }
   ],
   "source": [
    "# Remove all rows where Relatieband is not in relevant_relaties\n",
    "df_relaties_parent2 = df_relaties[df_relaties['Ouder'] == 'Ouder2']\n",
    "\n",
    "# Pivot from long to wide format\n",
    "clients_relations_parent2 = (df_relaties_parent2.pivot_table(index='Clientnummer',\n",
    "                                                    columns='Ouder',\n",
    "                                                    values=['Geboortejaarmaand_relatie', 'Geboorteland_relatie', 'Geslacht_relatie'],\n",
    "                                                    aggfunc='first')\n",
    "                                                    .pipe(lambda d: d.set_axis(d.columns.map(lambda x: f'{x[0]}_ouder2'), axis=1))\n",
    "                                                    .reset_index())\n",
    "\n",
    "# Show head\n",
    "print(clients_relations_parent2.shape)\n",
    "clients_relations_parent2.head()"
   ]
  },
  {
   "cell_type": "code",
   "execution_count": 16,
   "metadata": {},
   "outputs": [
    {
     "data": {
      "text/plain": [
       "Clientnummer                        0.000000\n",
       "Geboortejaarmaand_relatie_ouder2    0.000352\n",
       "Geboorteland_relatie_ouder2         0.000176\n",
       "Geslacht_relatie_ouder2             0.000000\n",
       "dtype: float64"
      ]
     },
     "execution_count": 16,
     "metadata": {},
     "output_type": "execute_result"
    }
   ],
   "source": [
    "clients_relations_parent2.isna().mean()"
   ]
  },
  {
   "cell_type": "markdown",
   "metadata": {},
   "source": [
    "#### 3.4 Merge siblings and parents"
   ]
  },
  {
   "cell_type": "code",
   "execution_count": 17,
   "metadata": {},
   "outputs": [
    {
     "name": "stdout",
     "output_type": "stream",
     "text": [
      "(5760, 8)\n"
     ]
    },
    {
     "data": {
      "text/html": [
       "<div>\n",
       "<style scoped>\n",
       "    .dataframe tbody tr th:only-of-type {\n",
       "        vertical-align: middle;\n",
       "    }\n",
       "\n",
       "    .dataframe tbody tr th {\n",
       "        vertical-align: top;\n",
       "    }\n",
       "\n",
       "    .dataframe thead th {\n",
       "        text-align: right;\n",
       "    }\n",
       "</style>\n",
       "<table border=\"1\" class=\"dataframe\">\n",
       "  <thead>\n",
       "    <tr style=\"text-align: right;\">\n",
       "      <th></th>\n",
       "      <th>Clientnummer</th>\n",
       "      <th>Siblings</th>\n",
       "      <th>Geboortejaarmaand_relatie_ouder1</th>\n",
       "      <th>Geboorteland_relatie_ouder1</th>\n",
       "      <th>Geslacht_relatie_ouder1</th>\n",
       "      <th>Geboortejaarmaand_relatie_ouder2</th>\n",
       "      <th>Geboorteland_relatie_ouder2</th>\n",
       "      <th>Geslacht_relatie_ouder2</th>\n",
       "    </tr>\n",
       "  </thead>\n",
       "  <tbody>\n",
       "    <tr>\n",
       "      <th>0</th>\n",
       "      <td>10074469</td>\n",
       "      <td>4</td>\n",
       "      <td>199503</td>\n",
       "      <td>Syrië</td>\n",
       "      <td>onbekend</td>\n",
       "      <td>198501</td>\n",
       "      <td>Syrië</td>\n",
       "      <td>onbekend</td>\n",
       "    </tr>\n",
       "    <tr>\n",
       "      <th>1</th>\n",
       "      <td>10080706</td>\n",
       "      <td>2</td>\n",
       "      <td>199501</td>\n",
       "      <td>Syrië</td>\n",
       "      <td>vrouwelijk</td>\n",
       "      <td>199108</td>\n",
       "      <td>Syrië</td>\n",
       "      <td>mannelijk</td>\n",
       "    </tr>\n",
       "    <tr>\n",
       "      <th>2</th>\n",
       "      <td>8161527</td>\n",
       "      <td>1</td>\n",
       "      <td>197905</td>\n",
       "      <td>Nederland</td>\n",
       "      <td>mannelijk</td>\n",
       "      <td>198012</td>\n",
       "      <td>Nederland</td>\n",
       "      <td>vrouwelijk</td>\n",
       "    </tr>\n",
       "    <tr>\n",
       "      <th>3</th>\n",
       "      <td>8163825</td>\n",
       "      <td>1</td>\n",
       "      <td>198906</td>\n",
       "      <td>Nederland</td>\n",
       "      <td>vrouwelijk</td>\n",
       "      <td>198701</td>\n",
       "      <td>Nederland</td>\n",
       "      <td>mannelijk</td>\n",
       "    </tr>\n",
       "    <tr>\n",
       "      <th>4</th>\n",
       "      <td>8163828</td>\n",
       "      <td>2</td>\n",
       "      <td>199002</td>\n",
       "      <td>Nederland</td>\n",
       "      <td>vrouwelijk</td>\n",
       "      <td>198911</td>\n",
       "      <td>Nederland</td>\n",
       "      <td>mannelijk</td>\n",
       "    </tr>\n",
       "  </tbody>\n",
       "</table>\n",
       "</div>"
      ],
      "text/plain": [
       "  Clientnummer  Siblings Geboortejaarmaand_relatie_ouder1  \\\n",
       "0     10074469         4                           199503   \n",
       "1     10080706         2                           199501   \n",
       "2      8161527         1                           197905   \n",
       "3      8163825         1                           198906   \n",
       "4      8163828         2                           199002   \n",
       "\n",
       "  Geboorteland_relatie_ouder1 Geslacht_relatie_ouder1  \\\n",
       "0                       Syrië                onbekend   \n",
       "1                       Syrië              vrouwelijk   \n",
       "2                   Nederland               mannelijk   \n",
       "3                   Nederland              vrouwelijk   \n",
       "4                   Nederland              vrouwelijk   \n",
       "\n",
       "  Geboortejaarmaand_relatie_ouder2 Geboorteland_relatie_ouder2  \\\n",
       "0                           198501                       Syrië   \n",
       "1                           199108                       Syrië   \n",
       "2                           198012                   Nederland   \n",
       "3                           198701                   Nederland   \n",
       "4                           198911                   Nederland   \n",
       "\n",
       "  Geslacht_relatie_ouder2  \n",
       "0                onbekend  \n",
       "1               mannelijk  \n",
       "2              vrouwelijk  \n",
       "3               mannelijk  \n",
       "4               mannelijk  "
      ]
     },
     "execution_count": 17,
     "metadata": {},
     "output_type": "execute_result"
    }
   ],
   "source": [
    "# Merge clients_siblings_frequencies and clients_relations on 'Clientnummer' keeping all rows from clients_siblings_frequencies\n",
    "clients_relations = (clients_relations_siblings\n",
    "                     .merge(clients_relations_parent1, on='Clientnummer', how='left')\n",
    "                     .merge(clients_relations_parent2, on='Clientnummer', how='left'))\n",
    "\n",
    "# Show head\n",
    "print(clients_relations.shape)\n",
    "clients_relations.head()"
   ]
  },
  {
   "cell_type": "markdown",
   "metadata": {},
   "source": [
    "#### 3.5 Align fathers with parent2 and mothers with parent1"
   ]
  },
  {
   "cell_type": "code",
   "execution_count": 18,
   "metadata": {},
   "outputs": [],
   "source": [
    "# Replace all NaN with 'onbekend'\n",
    "clients_relations = clients_relations.fillna('onbekend')\n",
    "\n",
    "# If parent1 is masculine and parent2 is feminine or unknown, switch them\n",
    "mask = ((clients_relations['Geslacht_relatie_ouder1'] == 'mannelijk') &\n",
    "        ((clients_relations['Geslacht_relatie_ouder2'] == 'vrouwelijk') | (clients_relations['Geslacht_relatie_ouder2'] == 'onbekend')) |\n",
    "        ((clients_relations['Geslacht_relatie_ouder2'] == 'vrouwelijk') & (clients_relations['Geslacht_relatie_ouder1'] == 'onbekend')))\n",
    "\n",
    "# Switch\n",
    "clients_relations.loc[mask, ['Geboortejaarmaand_relatie_ouder1',\n",
    "                             'Geboorteland_relatie_ouder1',\n",
    "                             'Geslacht_relatie_ouder1',\n",
    "                             'Geboortejaarmaand_relatie_ouder2',\n",
    "                             'Geboorteland_relatie_ouder2',\n",
    "                             'Geslacht_relatie_ouder2']] = clients_relations.loc[mask, ['Geboortejaarmaand_relatie_ouder2',\n",
    "                                                                                        'Geboorteland_relatie_ouder2',\n",
    "                                                                                        'Geslacht_relatie_ouder2',\n",
    "                                                                                        'Geboortejaarmaand_relatie_ouder1',\n",
    "                                                                                        'Geboorteland_relatie_ouder1',\n",
    "                                                                                        'Geslacht_relatie_ouder1']].values"
   ]
  },
  {
   "cell_type": "code",
   "execution_count": 19,
   "metadata": {},
   "outputs": [
    {
     "name": "stdout",
     "output_type": "stream",
     "text": [
      "(5760, 8)\n"
     ]
    },
    {
     "data": {
      "text/html": [
       "<div>\n",
       "<style scoped>\n",
       "    .dataframe tbody tr th:only-of-type {\n",
       "        vertical-align: middle;\n",
       "    }\n",
       "\n",
       "    .dataframe tbody tr th {\n",
       "        vertical-align: top;\n",
       "    }\n",
       "\n",
       "    .dataframe thead th {\n",
       "        text-align: right;\n",
       "    }\n",
       "</style>\n",
       "<table border=\"1\" class=\"dataframe\">\n",
       "  <thead>\n",
       "    <tr style=\"text-align: right;\">\n",
       "      <th></th>\n",
       "      <th>Clientnummer</th>\n",
       "      <th>Siblings</th>\n",
       "      <th>Geboortejaarmaand_relatie_ouder1</th>\n",
       "      <th>Geboorteland_relatie_ouder1</th>\n",
       "      <th>Geslacht_relatie_ouder1</th>\n",
       "      <th>Geboortejaarmaand_relatie_ouder2</th>\n",
       "      <th>Geboorteland_relatie_ouder2</th>\n",
       "      <th>Geslacht_relatie_ouder2</th>\n",
       "    </tr>\n",
       "  </thead>\n",
       "  <tbody>\n",
       "    <tr>\n",
       "      <th>0</th>\n",
       "      <td>10074469</td>\n",
       "      <td>4</td>\n",
       "      <td>199503</td>\n",
       "      <td>Syrië</td>\n",
       "      <td>onbekend</td>\n",
       "      <td>198501</td>\n",
       "      <td>Syrië</td>\n",
       "      <td>onbekend</td>\n",
       "    </tr>\n",
       "    <tr>\n",
       "      <th>1</th>\n",
       "      <td>10080706</td>\n",
       "      <td>2</td>\n",
       "      <td>199501</td>\n",
       "      <td>Syrië</td>\n",
       "      <td>vrouwelijk</td>\n",
       "      <td>199108</td>\n",
       "      <td>Syrië</td>\n",
       "      <td>mannelijk</td>\n",
       "    </tr>\n",
       "    <tr>\n",
       "      <th>2</th>\n",
       "      <td>8161527</td>\n",
       "      <td>1</td>\n",
       "      <td>198012</td>\n",
       "      <td>Nederland</td>\n",
       "      <td>vrouwelijk</td>\n",
       "      <td>197905</td>\n",
       "      <td>Nederland</td>\n",
       "      <td>mannelijk</td>\n",
       "    </tr>\n",
       "    <tr>\n",
       "      <th>3</th>\n",
       "      <td>8163825</td>\n",
       "      <td>1</td>\n",
       "      <td>198906</td>\n",
       "      <td>Nederland</td>\n",
       "      <td>vrouwelijk</td>\n",
       "      <td>198701</td>\n",
       "      <td>Nederland</td>\n",
       "      <td>mannelijk</td>\n",
       "    </tr>\n",
       "    <tr>\n",
       "      <th>4</th>\n",
       "      <td>8163828</td>\n",
       "      <td>2</td>\n",
       "      <td>199002</td>\n",
       "      <td>Nederland</td>\n",
       "      <td>vrouwelijk</td>\n",
       "      <td>198911</td>\n",
       "      <td>Nederland</td>\n",
       "      <td>mannelijk</td>\n",
       "    </tr>\n",
       "  </tbody>\n",
       "</table>\n",
       "</div>"
      ],
      "text/plain": [
       "  Clientnummer  Siblings Geboortejaarmaand_relatie_ouder1  \\\n",
       "0     10074469         4                           199503   \n",
       "1     10080706         2                           199501   \n",
       "2      8161527         1                           198012   \n",
       "3      8163825         1                           198906   \n",
       "4      8163828         2                           199002   \n",
       "\n",
       "  Geboorteland_relatie_ouder1 Geslacht_relatie_ouder1  \\\n",
       "0                       Syrië                onbekend   \n",
       "1                       Syrië              vrouwelijk   \n",
       "2                   Nederland              vrouwelijk   \n",
       "3                   Nederland              vrouwelijk   \n",
       "4                   Nederland              vrouwelijk   \n",
       "\n",
       "  Geboortejaarmaand_relatie_ouder2 Geboorteland_relatie_ouder2  \\\n",
       "0                           198501                       Syrië   \n",
       "1                           199108                       Syrië   \n",
       "2                           197905                   Nederland   \n",
       "3                           198701                   Nederland   \n",
       "4                           198911                   Nederland   \n",
       "\n",
       "  Geslacht_relatie_ouder2  \n",
       "0                onbekend  \n",
       "1               mannelijk  \n",
       "2               mannelijk  \n",
       "3               mannelijk  \n",
       "4               mannelijk  "
      ]
     },
     "execution_count": 19,
     "metadata": {},
     "output_type": "execute_result"
    }
   ],
   "source": [
    "# Show head\n",
    "print(clients_relations.shape)\n",
    "clients_relations.head()"
   ]
  },
  {
   "cell_type": "markdown",
   "metadata": {},
   "source": [
    "### 4. Transform monthyear dates"
   ]
  },
  {
   "cell_type": "code",
   "execution_count": 20,
   "metadata": {},
   "outputs": [],
   "source": [
    "# Change the data type of the column to string\n",
    "clients_relations['Geboortejaarmaand_relatie_ouder1'] = clients_relations['Geboortejaarmaand_relatie_ouder1'].astype(str)\n",
    "clients_relations['Geboortejaarmaand_relatie_ouder2'] = clients_relations['Geboortejaarmaand_relatie_ouder2'].astype(str)\n",
    "\n",
    "# Replace \"onbekend\" with np.nan\n",
    "clients_relations['Geboortejaarmaand_relatie_ouder1'] = clients_relations['Geboortejaarmaand_relatie_ouder1'].replace('onbekend', np.nan)\n",
    "clients_relations['Geboortejaarmaand_relatie_ouder2'] = clients_relations['Geboortejaarmaand_relatie_ouder2'].replace('onbekend', np.nan)\n",
    "\n",
    "# Change month dtypes\n",
    "clients_relations['Geboortejaarmaand_relatie_ouder1'] = pd.to_datetime(clients_relations['Geboortejaarmaand_relatie_ouder1'], format='%Y%m').dt.to_period('M').dt.strftime('%Y-%m')\n",
    "clients_relations['Geboortejaarmaand_relatie_ouder2'] = pd.to_datetime(clients_relations['Geboortejaarmaand_relatie_ouder2'], format='%Y%m').dt.to_period('M').dt.strftime('%Y-%m')"
   ]
  },
  {
   "cell_type": "code",
   "execution_count": 21,
   "metadata": {},
   "outputs": [
    {
     "data": {
      "text/plain": [
       "Clientnummer                        0.000000\n",
       "Siblings                            0.000000\n",
       "Geboortejaarmaand_relatie_ouder1    0.000521\n",
       "Geboorteland_relatie_ouder1         0.000000\n",
       "Geslacht_relatie_ouder1             0.000000\n",
       "Geboortejaarmaand_relatie_ouder2    0.015451\n",
       "Geboorteland_relatie_ouder2         0.000000\n",
       "Geslacht_relatie_ouder2             0.000000\n",
       "dtype: float64"
      ]
     },
     "execution_count": 21,
     "metadata": {},
     "output_type": "execute_result"
    }
   ],
   "source": [
    "clients_relations.isna().mean()"
   ]
  },
  {
   "cell_type": "code",
   "execution_count": 22,
   "metadata": {},
   "outputs": [
    {
     "data": {
      "text/html": [
       "<div>\n",
       "<style scoped>\n",
       "    .dataframe tbody tr th:only-of-type {\n",
       "        vertical-align: middle;\n",
       "    }\n",
       "\n",
       "    .dataframe tbody tr th {\n",
       "        vertical-align: top;\n",
       "    }\n",
       "\n",
       "    .dataframe thead th {\n",
       "        text-align: right;\n",
       "    }\n",
       "</style>\n",
       "<table border=\"1\" class=\"dataframe\">\n",
       "  <thead>\n",
       "    <tr style=\"text-align: right;\">\n",
       "      <th></th>\n",
       "      <th>Clientnummer</th>\n",
       "      <th>Siblings</th>\n",
       "      <th>Geboortejaarmaand_relatie_ouder1</th>\n",
       "      <th>Geboorteland_relatie_ouder1</th>\n",
       "      <th>Geslacht_relatie_ouder1</th>\n",
       "      <th>Geboortejaarmaand_relatie_ouder2</th>\n",
       "      <th>Geboorteland_relatie_ouder2</th>\n",
       "      <th>Geslacht_relatie_ouder2</th>\n",
       "    </tr>\n",
       "  </thead>\n",
       "  <tbody>\n",
       "    <tr>\n",
       "      <th>4332</th>\n",
       "      <td>8850643</td>\n",
       "      <td>2</td>\n",
       "      <td>1986-02</td>\n",
       "      <td>Nederland</td>\n",
       "      <td>vrouwelijk</td>\n",
       "      <td>1982-03</td>\n",
       "      <td>Nederland</td>\n",
       "      <td>mannelijk</td>\n",
       "    </tr>\n",
       "  </tbody>\n",
       "</table>\n",
       "</div>"
      ],
      "text/plain": [
       "     Clientnummer  Siblings Geboortejaarmaand_relatie_ouder1  \\\n",
       "4332      8850643         2                          1986-02   \n",
       "\n",
       "     Geboorteland_relatie_ouder1 Geslacht_relatie_ouder1  \\\n",
       "4332                   Nederland              vrouwelijk   \n",
       "\n",
       "     Geboortejaarmaand_relatie_ouder2 Geboorteland_relatie_ouder2  \\\n",
       "4332                          1982-03                   Nederland   \n",
       "\n",
       "     Geslacht_relatie_ouder2  \n",
       "4332               mannelijk  "
      ]
     },
     "execution_count": 22,
     "metadata": {},
     "output_type": "execute_result"
    }
   ],
   "source": [
    "clients_relations[clients_relations['Clientnummer'] == '8850643']"
   ]
  },
  {
   "cell_type": "markdown",
   "metadata": {},
   "source": [
    "### 5. Save as .pkl"
   ]
  },
  {
   "cell_type": "code",
   "execution_count": 23,
   "metadata": {},
   "outputs": [],
   "source": [
    "# Save df_observaties as .pkl file\n",
    "clients_relations.to_pickle('4_Data/Pickles/zuigelingen_relaties.pkl')"
   ]
  }
 ],
 "metadata": {
  "kernelspec": {
   "display_name": "Python 3",
   "language": "python",
   "name": "python3"
  },
  "language_info": {
   "codemirror_mode": {
    "name": "ipython",
    "version": 3
   },
   "file_extension": ".py",
   "mimetype": "text/x-python",
   "name": "python",
   "nbconvert_exporter": "python",
   "pygments_lexer": "ipython3",
   "version": "3.12.5"
  }
 },
 "nbformat": 4,
 "nbformat_minor": 2
}
