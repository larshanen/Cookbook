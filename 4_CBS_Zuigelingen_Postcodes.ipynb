{
 "cells": [
  {
   "cell_type": "markdown",
   "metadata": {},
   "source": [
    "### 1. Import modules"
   ]
  },
  {
   "cell_type": "code",
   "execution_count": 1,
   "metadata": {},
   "outputs": [],
   "source": [
    "import warnings\n",
    "warnings.filterwarnings('ignore')\n",
    "\n",
    "import pyodbc\n",
    "import pandas as pd\n",
    "import numpy as np\n",
    "import geopandas as gpd"
   ]
  },
  {
   "cell_type": "code",
   "execution_count": 2,
   "metadata": {},
   "outputs": [],
   "source": [
    "# Import pickles\n",
    "zuigelingen_pc6 = pd.read_pickle('4_Data\\Pickles\\zuigelingen_observaties.pkl')"
   ]
  },
  {
   "cell_type": "markdown",
   "metadata": {},
   "source": [
    "### 2. Import CBS .gpkg"
   ]
  },
  {
   "cell_type": "markdown",
   "metadata": {},
   "source": [
    "#### 2.1 PC6"
   ]
  },
  {
   "cell_type": "code",
   "execution_count": 3,
   "metadata": {},
   "outputs": [],
   "source": [
    "# # Reading GeoPackage file\n",
    "# input_file = '4_Data\\cbs_pc6_2022_v1.gpkg'\n",
    "# cbs_df = gpd.read_file(input_file)\n",
    "\n",
    "# # Replace every -99997 with NaN\n",
    "# cbs_df = cbs_df.replace(-99997, np.nan)"
   ]
  },
  {
   "cell_type": "code",
   "execution_count": 4,
   "metadata": {},
   "outputs": [],
   "source": [
    "# example = ['4884JA', '4884JD', '5111HH', '4264AL']\n",
    "# cbs_df[cbs_df['postcode'].isin(example)][['postcode', 'percentage_geb_buiten_nederland_herkomst_europa']]"
   ]
  },
  {
   "cell_type": "code",
   "execution_count": 5,
   "metadata": {},
   "outputs": [],
   "source": [
    "# # Rename postcode to Postcode6_BRP\n",
    "# cbs_df.rename(columns={'postcode':'PC6'}, inplace=True)"
   ]
  },
  {
   "cell_type": "code",
   "execution_count": 6,
   "metadata": {},
   "outputs": [],
   "source": [
    "# # Merge zuigelingen_pc6 with cbs_df on postcode, preserving all columns in zuigelingen_pc6\n",
    "# zuigelingen_cbs6 = pd.merge(zuigelingen_pc6[['PC6', 'Clientnummer']], cbs_df, on='PC6', how='left')\n",
    "\n",
    "# # Drop columns postcode and geometry\n",
    "# zuigelingen_cbs6 = zuigelingen_cbs6.drop(columns=['PC6', 'geometry'])\n",
    "\n",
    "# # Set Clietnummer dtype to object\n",
    "# zuigelingen_cbs6['Clientnummer'] = zuigelingen_cbs6['Clientnummer'].astype('str')\n",
    "\n",
    "# # Print the amount of NaN values per column as percentages\n",
    "# print(zuigelingen_cbs6.isna().sum() / len(zuigelingen_cbs6) * 100)"
   ]
  },
  {
   "cell_type": "markdown",
   "metadata": {},
   "source": [
    "#### 2.2 PC4"
   ]
  },
  {
   "cell_type": "code",
   "execution_count": 7,
   "metadata": {},
   "outputs": [],
   "source": [
    "# Reading GeoPackage file\n",
    "input_file = '4_Data\\cbs_pc4_2022_v1.gpkg'\n",
    "cbs4_df = gpd.read_file(input_file)\n",
    "\n",
    "# Replace every -99997 with NaN\n",
    "cbs4_df = cbs4_df.replace(-99997, np.nan)"
   ]
  },
  {
   "cell_type": "code",
   "execution_count": 8,
   "metadata": {},
   "outputs": [],
   "source": [
    "# Rename postcode to Postcode4_BRP\n",
    "cbs4_df.rename(columns={'postcode4':'PC4'}, inplace=True)"
   ]
  },
  {
   "cell_type": "code",
   "execution_count": 9,
   "metadata": {},
   "outputs": [
    {
     "name": "stdout",
     "output_type": "stream",
     "text": [
      "Clientnummer                                             0.000000\n",
      "aantal_inwoners                                          0.000000\n",
      "aantal_mannen                                            0.000000\n",
      "aantal_vrouwen                                           0.018574\n",
      "aantal_inwoners_0_tot_15_jaar                            0.018574\n",
      "aantal_inwoners_15_tot_25_jaar                           0.018574\n",
      "aantal_inwoners_25_tot_45_jaar                           0.018574\n",
      "aantal_inwoners_45_tot_65_jaar                           0.018574\n",
      "aantal_inwoners_65_jaar_en_ouder                         0.018574\n",
      "percentage_geb_nederland_herkomst_nederland              0.018574\n",
      "percentage_geb_nederland_herkomst_overig_europa          0.315750\n",
      "percentage_geb_nederland_herkomst_buiten_europa          0.260030\n",
      "percentage_geb_buiten_nederland_herkomst_europa          0.130015\n",
      "percentage_geb_buiten_nederland_herkmst_buiten_europa    0.371471\n",
      "aantal_part_huishoudens                                  0.018574\n",
      "aantal_eenpersoonshuishoudens                            0.018574\n",
      "aantal_meerpersoonshuishoudens_zonder_kind               0.018574\n",
      "aantal_eenouderhuishoudens                               0.334324\n",
      "aantal_tweeouderhuishoudens                              0.018574\n",
      "gemiddelde_huishoudensgrootte                            0.018574\n",
      "aantal_woningen                                          0.018574\n",
      "aantal_woningen_bouwjaar_voor_1945                       8.005201\n",
      "aantal_woningen_bouwjaar_45_tot_65                       7.949480\n",
      "aantal_woningen_bouwjaar_65_tot_75                       3.436107\n",
      "aantal_woningen_bouwjaar_75_tot_85                       3.436107\n",
      "aantal_woningen_bouwjaar_85_tot_95                       2.544577\n",
      "aantal_woningen_bouwjaar_95_tot_05                       1.095840\n",
      "aantal_woningen_bouwjaar_05_tot_15                       2.061664\n",
      "aantal_woningen_bouwjaar_15_en_later                     6.537890\n",
      "aantal_meergezins_woningen                               0.798663\n",
      "percentage_koopwoningen                                  0.018574\n",
      "percentage_huurwoningen                                  0.018574\n",
      "aantal_huurwoningen_in_bezit_woningcorporaties           0.390045\n",
      "aantal_niet_bewoonde_woningen                            0.260030\n",
      "gemiddelde_woz_waarde_woning                             0.018574\n",
      "aantal_personen_met_uitkering_onder_aowlft               0.018574\n",
      "omgevingsadressendichtheid                               0.000000\n",
      "stedelijkheid                                            0.000000\n",
      "dtype: float64\n"
     ]
    }
   ],
   "source": [
    "# Rename zuigelingen_pc6 to zuigelingen_pc4\n",
    "zuigelingen_pc4 = zuigelingen_pc6[['Clientnummer', 'PC4']]\n",
    "\n",
    "# Merge zuigelingen_pc6 with cbs_df on postcode, preserving all columns in zuigelingen_pc6\n",
    "zuigelingen_cbs4 = pd.merge(zuigelingen_pc4, cbs4_df, on='PC4', how='left')\n",
    "\n",
    "# Drop columns postcode and geometry\n",
    "zuigelingen_cbs4 = zuigelingen_cbs4.drop(columns=['PC4', 'geometry'])\n",
    "\n",
    "# Set Clietnummer dtype to object\n",
    "zuigelingen_cbs4['Clientnummer'] = zuigelingen_cbs4['Clientnummer'].astype('str')\n",
    "\n",
    "# Print the amount of NaN values per column as percentages\n",
    "print(zuigelingen_cbs4.isna().sum() / len(zuigelingen_cbs4) * 100)"
   ]
  },
  {
   "cell_type": "markdown",
   "metadata": {},
   "source": [
    "### 5. Save .pkl's"
   ]
  },
  {
   "cell_type": "code",
   "execution_count": 10,
   "metadata": {},
   "outputs": [],
   "source": [
    "# Save as a pickle\n",
    "zuigelingen_cbs4.to_pickle('4_Data\\Pickles\\zuigelingen_cbs4.pkl')\n",
    "# zuigelingen_cbs6.to_pickle('4_Data\\Pickles\\zuigelingen_cbs6.pkl')"
   ]
  }
 ],
 "metadata": {
  "kernelspec": {
   "display_name": "Python 3",
   "language": "python",
   "name": "python3"
  },
  "language_info": {
   "codemirror_mode": {
    "name": "ipython",
    "version": 3
   },
   "file_extension": ".py",
   "mimetype": "text/x-python",
   "name": "python",
   "nbconvert_exporter": "python",
   "pygments_lexer": "ipython3",
   "version": "3.12.5"
  }
 },
 "nbformat": 4,
 "nbformat_minor": 2
}
