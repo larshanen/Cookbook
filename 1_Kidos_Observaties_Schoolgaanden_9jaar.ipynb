{
 "cells": [
  {
   "cell_type": "markdown",
   "metadata": {},
   "source": [
    "### 1. Import modules"
   ]
  },
  {
   "cell_type": "code",
   "execution_count": 1,
   "metadata": {},
   "outputs": [],
   "source": [
    "import warnings\n",
    "warnings.filterwarnings('ignore')\n",
    "\n",
    "import pyodbc\n",
    "import pandas as pd\n",
    "import numpy as np\n",
    "import xlwings as xw\n",
    "import seaborn as sns\n",
    "import matplotlib.pyplot as plt\n",
    "import matplotlib.colors as mcolors\n",
    "import geopandas as gpd"
   ]
  },
  {
   "cell_type": "markdown",
   "metadata": {},
   "source": [
    "### 2. Import data to Pandas dataframe (Kidos_Observaties)"
   ]
  },
  {
   "cell_type": "code",
   "execution_count": 2,
   "metadata": {},
   "outputs": [],
   "source": [
    "# Path to the password-protected Excel file\n",
    "file_path = '4_Data/26062024_Oproeplijst.xlsx'\n",
    "enc = 'Hi%V20mEDiDo$'\n",
    "\n",
    "# Start an instance of Excel\n",
    "app = xw.App(visible=False)\n",
    "\n",
    "# Open the workbook with the password\n",
    "wb = app.books.open(file_path, password=enc)\n",
    "\n",
    "# Select the first sheet\n",
    "sheet = wb.sheets[0]\n",
    "\n",
    "# Read the data into a DataFrame\n",
    "df = sheet.used_range.options(pd.DataFrame, header=1, index=False).value\n",
    "\n",
    "# Close the workbook and quit the app\n",
    "wb.close()\n",
    "app.quit()"
   ]
  },
  {
   "cell_type": "code",
   "execution_count": 3,
   "metadata": {},
   "outputs": [
    {
     "name": "stdout",
     "output_type": "stream",
     "text": [
      "The amount of unique PersonNr's in the df is: 14111\n"
     ]
    }
   ],
   "source": [
    "# Print the amount of unique clients in df\n",
    "print(f'The amount of unique PersonNr\\'s in the df is: {df['PersonNr'].nunique()}')"
   ]
  },
  {
   "cell_type": "code",
   "execution_count": 4,
   "metadata": {},
   "outputs": [],
   "source": [
    "# Create a boolean mask for rows where 'PersonNr' is a float\n",
    "mask = df['PersonNr'].apply(lambda x: isinstance(x, float))\n",
    "\n",
    "# Use the mask to filter df\n",
    "df = df[mask]\n",
    "\n",
    "# Cast 'PersonNr' to integer\n",
    "df['Huisnummer'] = df['Huisnummer'].apply(lambda x: int(x))\n",
    "df['PersonNr'] = df['PersonNr'].apply(lambda x: int(x))\n",
    "\n",
    "# Save df['PersonNr'].unique() as a list of strings\n",
    "person_nr = [str(x) for x in df['PersonNr'].unique()]"
   ]
  },
  {
   "cell_type": "code",
   "execution_count": 5,
   "metadata": {},
   "outputs": [
    {
     "name": "stdout",
     "output_type": "stream",
     "text": [
      "The amount of unique, valid PersonNr's in the df is: 14047\n"
     ]
    }
   ],
   "source": [
    "# Print the amount of unique clients in df\n",
    "print(f'The amount of unique, valid PersonNr\\'s in the df is: {df['PersonNr'].nunique()}')"
   ]
  },
  {
   "cell_type": "code",
   "execution_count": 6,
   "metadata": {},
   "outputs": [],
   "source": [
    "# Set to True or False depending on whether you want to import new data\n",
    "NEWIMPORT = False\n",
    "\n",
    "if NEWIMPORT:\n",
    "    # Replace server name if source changes\n",
    "    server = 'AZ-ODB0\\ODBWB'\n",
    "    database = 'OnderzoeksDB_WB'\n",
    "\n",
    "    # Create a connection string\n",
    "    connection_string = f'DRIVER={{SQL Server}};SERVER={server};DATABASE={database}'\n",
    "\n",
    "    # Establish connection\n",
    "    connection = pyodbc.connect(connection_string)\n",
    "\n",
    "    # Define columns to select\n",
    "    selected_columns = ['Clientnummer',\n",
    "                        'ObservatieID',\n",
    "                        'ContactmomentID',\n",
    "                        'Contactmomenttype', \n",
    "                        'Contactmoment_BDS_Code',\n",
    "                        'Contactmoment_BDS',\n",
    "                        #'cohort_nr',\n",
    "                        'Cohort',\n",
    "                        'Observatiedatumtijd',\n",
    "                        'Observatietype_code',\n",
    "                        'Observatietype',\n",
    "                        'Observatie_waarde',\n",
    "                        'Tweeling',\n",
    "                        'Buurt_BRP',\n",
    "                        'CBS_Buurtcode_BRP',\n",
    "                        'UitvoerendTeam',\n",
    "                        'GeboortejaarmaandBiologischeMoeder',\n",
    "                        'LeeftijdBiologischeMoederBijGeboorte',\n",
    "                        'Geslacht',\n",
    "                        'Geboorteland']\n",
    "\n",
    "    # Create SQL query string with specific columns and inclusion criteria\n",
    "    query = f'SELECT {', '.join(selected_columns)}, Geboortejaarmaand FROM Kidos_Observaties WHERE Clientnummer IN ({', '.join(person_nr)})'\n",
    "\n",
    "    # Execute the query and fetch the data into a Pandas DataFrame\n",
    "    df_observaties_og = pd.read_sql(query, connection)\n",
    "\n",
    "    # Close the connection\n",
    "    connection.close()\n",
    "\n",
    "    # Save df_contactmomenten_og as a pickle\n",
    "    df_observaties_og.to_pickle('4_Data\\Pickles\\observaties_schoolgaanden_og.pkl')\n",
    "else:\n",
    "    # Load the pickle\n",
    "    df_observaties_og = pd.read_pickle('4_Data\\Pickles\\observaties_schoolgaanden_og.pkl')"
   ]
  },
  {
   "cell_type": "code",
   "execution_count": 7,
   "metadata": {},
   "outputs": [
    {
     "name": "stdout",
     "output_type": "stream",
     "text": [
      "The amount of unique 'Clientnummer's found in Kidos is: 13765\n"
     ]
    }
   ],
   "source": [
    "print(f'The amount of unique \\'Clientnummer\\'s found in Kidos is: {len(df_observaties_og['Clientnummer'].unique())}')"
   ]
  },
  {
   "cell_type": "code",
   "execution_count": 8,
   "metadata": {},
   "outputs": [],
   "source": [
    "# Set to True or False depending on whether you want to import new data\n",
    "NEWIMPORT = False\n",
    "\n",
    "if NEWIMPORT:\n",
    "    # Replace server name if source changes\n",
    "    server = 'AZ-ODB0\\ODBWB'\n",
    "    database = 'OnderzoeksDB_WB'\n",
    "\n",
    "    # Create a connection string\n",
    "    connection_string = f'DRIVER={{SQL Server}};SERVER={server};DATABASE={database}'\n",
    "\n",
    "    # Establish connection\n",
    "    connection = pyodbc.connect(connection_string)\n",
    "\n",
    "    # Define columns to select\n",
    "    selected_columns = ['FK_CLIENT_ID',\n",
    "                        'TOESTEMMINGSVRAAG',\n",
    "                        'ANTWOORD',\n",
    "                        'BEGINDATUM']\n",
    "\n",
    "    # Define a list of Clientnummers to include\n",
    "    included_clientnummers = df_observaties_og['Clientnummer'].unique()\n",
    "    print(len(included_clientnummers))\n",
    "\n",
    "    # Create SQL query string with specific columns and inclusion criteria\n",
    "    query = f'SELECT {', '.join(selected_columns)} FROM Kidos_TOESTEMMINGEN WHERE FK_CLIENT_ID IN ({', '.join(included_clientnummers)})'\n",
    "\n",
    "    # Execute the query and fetch the data into a Pandas DataFrame\n",
    "    df_toestemmingen_og = pd.read_sql(query, connection)\n",
    "\n",
    "    # Close the connection\n",
    "    connection.close()\n",
    "\n",
    "    # Save df_contactmomenten_og as a pickle\n",
    "    df_toestemmingen_og.to_pickle('4_Data\\Pickles\\\\toestemmingen_schoolgaanden_og.pkl')\n",
    "else:\n",
    "    # Load the pickle\n",
    "    df_toestemmingen_og = pd.read_pickle('4_Data\\Pickles\\\\toestemmingen_schoolgaanden_og.pkl')"
   ]
  },
  {
   "cell_type": "markdown",
   "metadata": {},
   "source": [
    "#### 2.1 Drop clients with objection"
   ]
  },
  {
   "cell_type": "code",
   "execution_count": 9,
   "metadata": {},
   "outputs": [],
   "source": [
    "# Store copy of unique records of df_og in df\n",
    "df_toestemmingen = df_toestemmingen_og.drop_duplicates()\n",
    "\n",
    "# Remove all rows where Observatie_waarde != 'Toestemming gegevensuitwisseling RVP'\n",
    "toestemmingen_oz = df_toestemmingen[df_toestemmingen['TOESTEMMINGSVRAAG'] == 'Bezwaar wetenschappelijk onderzoek']\n",
    "\n",
    "# Get most recent 'toestemmingen'\n",
    "schoolgaanden_toestemmingen_oz = toestemmingen_oz.groupby('FK_CLIENT_ID')['BEGINDATUM'].idxmax()\n",
    "\n",
    "# Get all the indices (.values) from the df\n",
    "most_recent = toestemmingen_oz.loc[schoolgaanden_toestemmingen_oz.values]\n",
    "\n",
    "# Select only constant variables, observaties will be added later\n",
    "schoolgaanden_toestemmingen = most_recent[['FK_CLIENT_ID', 'ANTWOORD']]\n",
    "\n",
    "# Save objection schoolgaanden\n",
    "schoolgaanden_objection = list(schoolgaanden_toestemmingen[schoolgaanden_toestemmingen['ANTWOORD'] == 'wel bezwaar']['FK_CLIENT_ID'].astype(int))\n",
    "\n",
    "# Get only rows from 'Oproeplijst'/df where Clientnummer is not in schoolgaanden_objection\n",
    "df_observaties_og = df_observaties_og[~df_observaties_og['Clientnummer'].isin(schoolgaanden_objection)]"
   ]
  },
  {
   "cell_type": "code",
   "execution_count": 10,
   "metadata": {},
   "outputs": [
    {
     "name": "stdout",
     "output_type": "stream",
     "text": [
      "The amount of observations in the df is: 1204892, the amount of unique client ID's is: 13765\n"
     ]
    }
   ],
   "source": [
    "print(f'The amount of observations in the df is: {len(df_observaties_og['Clientnummer'])}, the amount of unique client ID\\'s is: {len(df_observaties_og['Clientnummer'].unique())}')"
   ]
  },
  {
   "cell_type": "markdown",
   "metadata": {},
   "source": [
    "#### 2.2 Get constant variables and relevant observation types"
   ]
  },
  {
   "cell_type": "code",
   "execution_count": 11,
   "metadata": {},
   "outputs": [],
   "source": [
    "# Store copy of unique records of df_og in df\n",
    "df_observaties = df_observaties_og.drop_duplicates()"
   ]
  },
  {
   "cell_type": "code",
   "execution_count": 12,
   "metadata": {},
   "outputs": [],
   "source": [
    "# Sort the df by 'Observatiedatumtijd'\n",
    "df_observaties = df_observaties.sort_values(by='Observatiedatumtijd', ascending=True)"
   ]
  },
  {
   "cell_type": "markdown",
   "metadata": {},
   "source": [
    "##### 2.2.1 Geboortejaarmaand"
   ]
  },
  {
   "cell_type": "code",
   "execution_count": 13,
   "metadata": {},
   "outputs": [],
   "source": [
    "# Group by 'Clientnummer' and create a mask for the first non-NA value in 'Geboortejaarmaand'\n",
    "mask = df_observaties.groupby('Clientnummer')['Geboortejaarmaand'].transform(lambda x: x.last_valid_index() == x.index)\n",
    "\n",
    "# Filter the DataFrame using the mask\n",
    "geboortejaarmaand_overall = df_observaties.loc[mask, ['Clientnummer', 'Geboortejaarmaand']]"
   ]
  },
  {
   "cell_type": "code",
   "execution_count": 14,
   "metadata": {},
   "outputs": [],
   "source": [
    "# Convert 'Geboortejaarmaand' to Month date type\n",
    "geboortejaarmaand_overall['Geboortejaarmaand'] = pd.to_datetime(geboortejaarmaand_overall['Geboortejaarmaand'], format='%Y%m').dt.to_period('M')"
   ]
  },
  {
   "cell_type": "code",
   "execution_count": 15,
   "metadata": {},
   "outputs": [
    {
     "data": {
      "text/plain": [
       "Clientnummer         0.0\n",
       "Geboortejaarmaand    0.0\n",
       "dtype: float64"
      ]
     },
     "execution_count": 15,
     "metadata": {},
     "output_type": "execute_result"
    }
   ],
   "source": [
    "geboortejaarmaand_overall.isna().mean()"
   ]
  },
  {
   "cell_type": "markdown",
   "metadata": {},
   "source": [
    "##### 2.2.2 Tweeling"
   ]
  },
  {
   "cell_type": "code",
   "execution_count": 16,
   "metadata": {},
   "outputs": [],
   "source": [
    "# Group by 'Clientnummer' and create a mask for the first non-NA value in 'Geboortejaarmaand'\n",
    "mask = df_observaties.groupby('Clientnummer')['Tweeling'].transform(lambda x: x.last_valid_index() == x.index)\n",
    "\n",
    "# Filter the DataFrame using the mask\n",
    "tweeling_overall = df_observaties.loc[mask, ['Clientnummer', 'Tweeling']]"
   ]
  },
  {
   "cell_type": "code",
   "execution_count": 17,
   "metadata": {},
   "outputs": [
    {
     "data": {
      "text/plain": [
       "Clientnummer    0.0\n",
       "Tweeling        0.0\n",
       "dtype: float64"
      ]
     },
     "execution_count": 17,
     "metadata": {},
     "output_type": "execute_result"
    }
   ],
   "source": [
    "tweeling_overall.isna().mean()"
   ]
  },
  {
   "cell_type": "markdown",
   "metadata": {},
   "source": [
    "##### 2.2.3 Buurt_BRP"
   ]
  },
  {
   "cell_type": "code",
   "execution_count": 18,
   "metadata": {},
   "outputs": [],
   "source": [
    "# Group by 'Clientnummer' and create a mask for the first non-NA value in 'Geboortejaarmaand'\n",
    "mask = df_observaties.groupby('Clientnummer')['Buurt_BRP'].transform(lambda x: x.last_valid_index() == x.index)\n",
    "\n",
    "# Filter the DataFrame using the mask\n",
    "buurt_brp_overall = df_observaties.loc[mask, ['Clientnummer', 'Buurt_BRP']]"
   ]
  },
  {
   "cell_type": "code",
   "execution_count": 19,
   "metadata": {},
   "outputs": [
    {
     "data": {
      "text/plain": [
       "Clientnummer    0.0\n",
       "Buurt_BRP       0.0\n",
       "dtype: float64"
      ]
     },
     "execution_count": 19,
     "metadata": {},
     "output_type": "execute_result"
    }
   ],
   "source": [
    "buurt_brp_overall.isna().mean()"
   ]
  },
  {
   "cell_type": "markdown",
   "metadata": {},
   "source": [
    "##### 2.2.4 CBS_Buurtcode_BRP"
   ]
  },
  {
   "cell_type": "code",
   "execution_count": 20,
   "metadata": {},
   "outputs": [],
   "source": [
    "# Group by 'Clientnummer' and create a mask for the first non-NA value in 'Geboortejaarmaand'\n",
    "mask = df_observaties.groupby('Clientnummer')['CBS_Buurtcode_BRP'].transform(lambda x: x.last_valid_index() == x.index)\n",
    "\n",
    "# Filter the DataFrame using the mask\n",
    "cbs_buurtcode_overall = df_observaties.loc[mask, ['Clientnummer', 'CBS_Buurtcode_BRP']]"
   ]
  },
  {
   "cell_type": "code",
   "execution_count": 21,
   "metadata": {},
   "outputs": [
    {
     "data": {
      "text/plain": [
       "Clientnummer         0.0\n",
       "CBS_Buurtcode_BRP    0.0\n",
       "dtype: float64"
      ]
     },
     "execution_count": 21,
     "metadata": {},
     "output_type": "execute_result"
    }
   ],
   "source": [
    "cbs_buurtcode_overall.isna().mean()"
   ]
  },
  {
   "cell_type": "markdown",
   "metadata": {},
   "source": [
    "##### 2.2.5 GeboortejaarmaandBiologischeMoeder"
   ]
  },
  {
   "cell_type": "code",
   "execution_count": 22,
   "metadata": {},
   "outputs": [],
   "source": [
    "# Group by 'Clientnummer' and create a mask for the first non-NA value in 'Geboortejaarmaand'\n",
    "mask = df_observaties.groupby('Clientnummer')['GeboortejaarmaandBiologischeMoeder'].transform(lambda x: x.last_valid_index() == x.index)\n",
    "\n",
    "# Filter the DataFrame using the mask\n",
    "geboortejaarmaand_biologischemoeder_overall = df_observaties.loc[mask, ['Clientnummer', 'GeboortejaarmaandBiologischeMoeder']]"
   ]
  },
  {
   "cell_type": "code",
   "execution_count": 23,
   "metadata": {},
   "outputs": [],
   "source": [
    "# Set GeboortejaarmaandBiologischeMoeder to NaN if it is '00'\n",
    "geboortejaarmaand_biologischemoeder_overall['GeboortejaarmaandBiologischeMoeder'] = geboortejaarmaand_biologischemoeder_overall['GeboortejaarmaandBiologischeMoeder'].replace('00', np.NaN)\n",
    "\n",
    "# Change the data type of the column to string\n",
    "geboortejaarmaand_biologischemoeder_overall['GeboortejaarmaandBiologischeMoeder'] = geboortejaarmaand_biologischemoeder_overall['GeboortejaarmaandBiologischeMoeder'].astype(str)\n",
    "\n",
    "# If the length of the string is 5, add 1 as its first character\n",
    "geboortejaarmaand_biologischemoeder_overall['GeboortejaarmaandBiologischeMoeder'] = geboortejaarmaand_biologischemoeder_overall['GeboortejaarmaandBiologischeMoeder'].apply(lambda x: '1' + x if len(x) == 5 else x)\n",
    "\n",
    "# If the second character is a 0, replace it with a 9\n",
    "geboortejaarmaand_biologischemoeder_overall['GeboortejaarmaandBiologischeMoeder'] = geboortejaarmaand_biologischemoeder_overall['GeboortejaarmaandBiologischeMoeder'].apply(lambda x: x[:1] + '9' + x[2:] if (x[0] == '1' and x[1] == '0') else x)\n",
    "\n",
    "# Replace \"onbekend\" with np.nan\n",
    "geboortejaarmaand_biologischemoeder_overall['GeboortejaarmaandBiologischeMoeder'] = geboortejaarmaand_biologischemoeder_overall['GeboortejaarmaandBiologischeMoeder'].replace('onbekend', np.nan)\n",
    "\n",
    "# Change month dtypes\n",
    "geboortejaarmaand_biologischemoeder_overall['GeboortejaarmaandBiologischeMoeder'] = pd.to_datetime(geboortejaarmaand_biologischemoeder_overall['GeboortejaarmaandBiologischeMoeder'], format='%Y%m').dt.to_period('M').dt.strftime('%Y-%m')"
   ]
  },
  {
   "cell_type": "code",
   "execution_count": 24,
   "metadata": {},
   "outputs": [
    {
     "data": {
      "text/plain": [
       "Clientnummer                          0.000000\n",
       "GeboortejaarmaandBiologischeMoeder    0.250272\n",
       "dtype: float64"
      ]
     },
     "execution_count": 24,
     "metadata": {},
     "output_type": "execute_result"
    }
   ],
   "source": [
    "geboortejaarmaand_biologischemoeder_overall.isna().mean()"
   ]
  },
  {
   "cell_type": "markdown",
   "metadata": {},
   "source": [
    "##### 2.2.6 LeeftijdBiologischeMoederBijGeboorte"
   ]
  },
  {
   "cell_type": "code",
   "execution_count": 25,
   "metadata": {},
   "outputs": [],
   "source": [
    "# Group by 'Clientnummer' and create a mask for the first non-NA value in 'Geboortejaarmaand'\n",
    "mask = df_observaties.groupby('Clientnummer')['LeeftijdBiologischeMoederBijGeboorte'].transform(lambda x: x.last_valid_index() == x.index)\n",
    "\n",
    "# Filter the DataFrame using the mask\n",
    "leeftijd_biologischemoeder_overall = df_observaties.loc[mask, ['Clientnummer', 'LeeftijdBiologischeMoederBijGeboorte']]"
   ]
  },
  {
   "cell_type": "code",
   "execution_count": 26,
   "metadata": {},
   "outputs": [
    {
     "data": {
      "text/plain": [
       "Clientnummer                            0.0\n",
       "LeeftijdBiologischeMoederBijGeboorte    0.0\n",
       "dtype: float64"
      ]
     },
     "execution_count": 26,
     "metadata": {},
     "output_type": "execute_result"
    }
   ],
   "source": [
    "leeftijd_biologischemoeder_overall.isna().mean()"
   ]
  },
  {
   "cell_type": "markdown",
   "metadata": {},
   "source": [
    "##### 2.2.7 Geslacht"
   ]
  },
  {
   "cell_type": "code",
   "execution_count": 27,
   "metadata": {},
   "outputs": [],
   "source": [
    "# Group by 'Clientnummer' and create a mask for the first non-NA value in 'Geboortejaarmaand'\n",
    "mask = df_observaties.groupby('Clientnummer')['Geslacht'].transform(lambda x: x.last_valid_index() == x.index)\n",
    "\n",
    "# Filter the DataFrame using the mask\n",
    "geslacht_overall = df_observaties.loc[mask, ['Clientnummer', 'Geslacht']]"
   ]
  },
  {
   "cell_type": "code",
   "execution_count": 28,
   "metadata": {},
   "outputs": [
    {
     "data": {
      "text/plain": [
       "Clientnummer    0.0\n",
       "Geslacht        0.0\n",
       "dtype: float64"
      ]
     },
     "execution_count": 28,
     "metadata": {},
     "output_type": "execute_result"
    }
   ],
   "source": [
    "geslacht_overall.isna().mean()"
   ]
  },
  {
   "cell_type": "markdown",
   "metadata": {},
   "source": [
    "##### 2.2.8 Geboorteland"
   ]
  },
  {
   "cell_type": "code",
   "execution_count": 29,
   "metadata": {},
   "outputs": [],
   "source": [
    "# Group by 'Clientnummer' and create a mask for the first non-NA value in 'Geboortejaarmaand'\n",
    "mask = df_observaties.groupby('Clientnummer')['Geboorteland'].transform(lambda x: x.last_valid_index() == x.index)\n",
    "\n",
    "# Filter the DataFrame using the mask\n",
    "geboorteland_overall = df_observaties.loc[mask, ['Clientnummer', 'Geboorteland']]"
   ]
  },
  {
   "cell_type": "code",
   "execution_count": 30,
   "metadata": {},
   "outputs": [
    {
     "data": {
      "text/plain": [
       "Clientnummer    0.0\n",
       "Geboorteland    0.0\n",
       "dtype: float64"
      ]
     },
     "execution_count": 30,
     "metadata": {},
     "output_type": "execute_result"
    }
   ],
   "source": [
    "geboorteland_overall.isna().mean()"
   ]
  },
  {
   "cell_type": "markdown",
   "metadata": {},
   "source": [
    "### 3. Transform rows from observations to clients"
   ]
  },
  {
   "cell_type": "markdown",
   "metadata": {},
   "source": [
    "#### 3.1 Show unique clients vs. df rows"
   ]
  },
  {
   "cell_type": "code",
   "execution_count": 31,
   "metadata": {},
   "outputs": [
    {
     "name": "stdout",
     "output_type": "stream",
     "text": [
      "The amount of observations in the df is: 1203868, the amount of unique client ID's with one of the relevant observation types is: 13765\n"
     ]
    }
   ],
   "source": [
    "print(f'The amount of observations in the df is: {len(df_observaties)}, the amount of unique client ID\\'s with one of the relevant observation types is: {len(df_observaties['Clientnummer'].unique())}')"
   ]
  },
  {
   "cell_type": "code",
   "execution_count": 32,
   "metadata": {},
   "outputs": [
    {
     "name": "stdout",
     "output_type": "stream",
     "text": [
      "The amount of observations in the df is: 33906, the amount of unique client ID's is: 14047\n"
     ]
    }
   ],
   "source": [
    "print(f'The amount of observations in the df is: {len(df)}, the amount of unique client ID\\'s is: {len(df['PersonNr'].unique())}')"
   ]
  },
  {
   "cell_type": "markdown",
   "metadata": {},
   "source": [
    "#### 3.2 Create overview of vaccinations per client ID"
   ]
  },
  {
   "cell_type": "code",
   "execution_count": 33,
   "metadata": {},
   "outputs": [],
   "source": [
    "# Filter rows where 'Observatietype' is in the predefined list of relevant values\n",
    "observaties_relevant = ['B.M.R.',\n",
    "                        'DTP',\n",
    "                        'Pneu',\n",
    "                        'DKTP-Hib-Hepatitis B',\n",
    "                        'DKTP',\n",
    "                        'MenC',\n",
    "                        'MenACWY',\n",
    "                        'Hib',\n",
    "                        'DKTP-booster',\n",
    "                        'DKTP-Hepatitis B',\n",
    "                        'DKTP-Hib']\n",
    "df_observaties = df_observaties[df_observaties['Observatietype'].isin(observaties_relevant)]"
   ]
  },
  {
   "cell_type": "code",
   "execution_count": 34,
   "metadata": {},
   "outputs": [
    {
     "name": "stdout",
     "output_type": "stream",
     "text": [
      "'Clientnummer': 'object',\n",
      "'ObservatieID': 'object',\n",
      "'ContactmomentID': 'object',\n",
      "'Contactmomenttype': 'object',\n",
      "'Contactmoment_BDS_Code': 'object',\n",
      "'Contactmoment_BDS': 'object',\n",
      "'Cohort': 'object',\n",
      "'Observatiedatumtijd': 'object',\n",
      "'Observatietype_code': 'object',\n",
      "'Observatietype': 'object',\n",
      "'Observatie_waarde': 'object',\n",
      "'Tweeling': 'object',\n",
      "'Buurt_BRP': 'object',\n",
      "'CBS_Buurtcode_BRP': 'object',\n",
      "'UitvoerendTeam': 'object',\n",
      "'GeboortejaarmaandBiologischeMoeder': 'object',\n",
      "'LeeftijdBiologischeMoederBijGeboorte': 'float64',\n",
      "'Geslacht': 'object',\n",
      "'Geboorteland': 'object',\n",
      "'Geboortejaarmaand': 'object',\n"
     ]
    }
   ],
   "source": [
    "for column in df_observaties:\n",
    "    print(f'\\'{column}\\': \\'{df_observaties[column].dtype}\\',')"
   ]
  },
  {
   "cell_type": "code",
   "execution_count": 35,
   "metadata": {},
   "outputs": [],
   "source": [
    "# List all columns to be casted\n",
    "convert_dict = {\n",
    "    'Clientnummer': 'object',\n",
    "    'ObservatieID': 'object',\n",
    "    'ContactmomentID': 'object',\n",
    "    'Contactmomenttype': 'object',\n",
    "    'Contactmoment_BDS_Code': 'object',\n",
    "    'Contactmoment_BDS': 'object',\n",
    "    'Cohort': 'object',\n",
    "    'Observatiedatumtijd': 'object',\n",
    "    'Observatietype_code': 'object',\n",
    "    'Observatietype': 'category', # Changed\n",
    "    'Observatie_waarde': 'object',\n",
    "    'Tweeling': 'object',\n",
    "    'Buurt_BRP': 'object',\n",
    "    'CBS_Buurtcode_BRP': 'object',\n",
    "    'UitvoerendTeam': 'object',\n",
    "    'GeboortejaarmaandBiologischeMoeder': 'object',\n",
    "    'LeeftijdBiologischeMoederBijGeboorte': 'float64',\n",
    "    'Geslacht': 'object',\n",
    "    'Geboorteland': 'object',\n",
    "    'Geboortejaarmaand': 'object'\n",
    "}\n",
    "\n",
    "# Cast columns\n",
    "df_observaties = df_observaties.astype(convert_dict)"
   ]
  },
  {
   "cell_type": "markdown",
   "metadata": {},
   "source": [
    "##### 3.2.1 Exclude vaccinations that were given after cut-off ages"
   ]
  },
  {
   "cell_type": "code",
   "execution_count": 36,
   "metadata": {},
   "outputs": [],
   "source": [
    "# From Observatiedatumtijd get the combination of year and month\n",
    "df_observaties['Observatiedatumtijd'] = pd.to_datetime(df_observaties['Observatiedatumtijd']).dt.to_period('M')\n",
    "df_observaties['Geboortejaarmaand'] = pd.to_datetime(df_observaties['Geboortejaarmaand'], format='%Y%m').dt.to_period('M')\n",
    "\n",
    "# Calculate age at observation time in years\n",
    "df_observaties['Observatie_leeftijd'] = (df_observaties['Observatiedatumtijd'] - df_observaties['Geboortejaarmaand']).apply(lambda x: x.n)\n",
    "\n",
    "# Identify rows where birth_yearmonths is in 2012 or 2013 and age_at_observation is more than 120 or less than 96 months\n",
    "out_time = df_observaties[(df_observaties['Geboortejaarmaand'].dt.year.isin([2012, 2013])) & ((df_observaties['Observatie_leeftijd'] > 120) | (df_observaties['Observatie_leeftijd'] < 96))].index\n",
    "\n",
    "# Filter rows where 'Observatietype' is in the specified list and if the row is identified in over_time, set to 'Late'\n",
    "out_time_selected = out_time[df_observaties.loc[out_time, 'Observatietype'].isin(observaties_relevant)]\n",
    "\n",
    "# Add 'Late' as a category to the 'Observatietype' column\n",
    "df_observaties['Observatietype'] = df_observaties['Observatietype'].cat.add_categories(['Excluded'])\n",
    "\n",
    "# Set Observatietype to 'Late' for rows identified in over_time_selected\n",
    "df_observaties.loc[out_time_selected, 'Observatietype'] = 'Excluded'"
   ]
  },
  {
   "cell_type": "markdown",
   "metadata": {},
   "source": [
    "##### 3.2.2 Transform table structure"
   ]
  },
  {
   "cell_type": "code",
   "execution_count": 37,
   "metadata": {},
   "outputs": [
    {
     "name": "stdout",
     "output_type": "stream",
     "text": [
      "(12734, 13)\n"
     ]
    },
    {
     "data": {
      "text/html": [
       "<div>\n",
       "<style scoped>\n",
       "    .dataframe tbody tr th:only-of-type {\n",
       "        vertical-align: middle;\n",
       "    }\n",
       "\n",
       "    .dataframe tbody tr th {\n",
       "        vertical-align: top;\n",
       "    }\n",
       "\n",
       "    .dataframe thead th {\n",
       "        text-align: right;\n",
       "    }\n",
       "</style>\n",
       "<table border=\"1\" class=\"dataframe\">\n",
       "  <thead>\n",
       "    <tr style=\"text-align: right;\">\n",
       "      <th>Observatietype</th>\n",
       "      <th>Clientnummer</th>\n",
       "      <th>B.M.R.</th>\n",
       "      <th>DKTP</th>\n",
       "      <th>DKTP-Hepatitis B</th>\n",
       "      <th>DKTP-Hib</th>\n",
       "      <th>DKTP-Hib-Hepatitis B</th>\n",
       "      <th>DKTP-booster</th>\n",
       "      <th>DTP</th>\n",
       "      <th>Hib</th>\n",
       "      <th>MenACWY</th>\n",
       "      <th>MenC</th>\n",
       "      <th>Pneu</th>\n",
       "      <th>Excluded</th>\n",
       "    </tr>\n",
       "  </thead>\n",
       "  <tbody>\n",
       "    <tr>\n",
       "      <th>0</th>\n",
       "      <td>10070491</td>\n",
       "      <td>1</td>\n",
       "      <td>0</td>\n",
       "      <td>0</td>\n",
       "      <td>0</td>\n",
       "      <td>0</td>\n",
       "      <td>0</td>\n",
       "      <td>1</td>\n",
       "      <td>0</td>\n",
       "      <td>0</td>\n",
       "      <td>0</td>\n",
       "      <td>0</td>\n",
       "      <td>0</td>\n",
       "    </tr>\n",
       "    <tr>\n",
       "      <th>1</th>\n",
       "      <td>2986905</td>\n",
       "      <td>1</td>\n",
       "      <td>0</td>\n",
       "      <td>0</td>\n",
       "      <td>0</td>\n",
       "      <td>0</td>\n",
       "      <td>0</td>\n",
       "      <td>1</td>\n",
       "      <td>0</td>\n",
       "      <td>0</td>\n",
       "      <td>0</td>\n",
       "      <td>0</td>\n",
       "      <td>0</td>\n",
       "    </tr>\n",
       "    <tr>\n",
       "      <th>2</th>\n",
       "      <td>2987112</td>\n",
       "      <td>1</td>\n",
       "      <td>0</td>\n",
       "      <td>0</td>\n",
       "      <td>0</td>\n",
       "      <td>0</td>\n",
       "      <td>0</td>\n",
       "      <td>1</td>\n",
       "      <td>0</td>\n",
       "      <td>0</td>\n",
       "      <td>0</td>\n",
       "      <td>0</td>\n",
       "      <td>0</td>\n",
       "    </tr>\n",
       "    <tr>\n",
       "      <th>3</th>\n",
       "      <td>2987137</td>\n",
       "      <td>1</td>\n",
       "      <td>0</td>\n",
       "      <td>0</td>\n",
       "      <td>0</td>\n",
       "      <td>0</td>\n",
       "      <td>0</td>\n",
       "      <td>1</td>\n",
       "      <td>0</td>\n",
       "      <td>0</td>\n",
       "      <td>0</td>\n",
       "      <td>0</td>\n",
       "      <td>0</td>\n",
       "    </tr>\n",
       "    <tr>\n",
       "      <th>4</th>\n",
       "      <td>2987138</td>\n",
       "      <td>1</td>\n",
       "      <td>0</td>\n",
       "      <td>0</td>\n",
       "      <td>0</td>\n",
       "      <td>0</td>\n",
       "      <td>0</td>\n",
       "      <td>1</td>\n",
       "      <td>0</td>\n",
       "      <td>0</td>\n",
       "      <td>0</td>\n",
       "      <td>0</td>\n",
       "      <td>0</td>\n",
       "    </tr>\n",
       "  </tbody>\n",
       "</table>\n",
       "</div>"
      ],
      "text/plain": [
       "Observatietype Clientnummer  B.M.R.  DKTP  DKTP-Hepatitis B  DKTP-Hib  \\\n",
       "0                  10070491       1     0                 0         0   \n",
       "1                   2986905       1     0                 0         0   \n",
       "2                   2987112       1     0                 0         0   \n",
       "3                   2987137       1     0                 0         0   \n",
       "4                   2987138       1     0                 0         0   \n",
       "\n",
       "Observatietype  DKTP-Hib-Hepatitis B  DKTP-booster  DTP  Hib  MenACWY  MenC  \\\n",
       "0                                  0             0    1    0        0     0   \n",
       "1                                  0             0    1    0        0     0   \n",
       "2                                  0             0    1    0        0     0   \n",
       "3                                  0             0    1    0        0     0   \n",
       "4                                  0             0    1    0        0     0   \n",
       "\n",
       "Observatietype  Pneu  Excluded  \n",
       "0                  0         0  \n",
       "1                  0         0  \n",
       "2                  0         0  \n",
       "3                  0         0  \n",
       "4                  0         0  "
      ]
     },
     "execution_count": 37,
     "metadata": {},
     "output_type": "execute_result"
    }
   ],
   "source": [
    "# Group by 'Clientnummer' and 'Observatietype' and count the occurrences\n",
    "clients_observaties_frequencies = df_observaties.groupby(['Clientnummer', 'Observatietype', 'Observatie_waarde']).size().reset_index(name='Frequency')\n",
    "\n",
    "# Remove all rows where Observatie_waarde != 'GIVEN'\n",
    "clients_observaties_frequencies = clients_observaties_frequencies[clients_observaties_frequencies['Observatie_waarde'] == 'GIVEN']\n",
    "\n",
    "# Pivot this so every row is a unique client ID and columns are observaties, with counts as values\n",
    "clients_observaties = clients_observaties_frequencies.pivot(index='Clientnummer', columns='Observatietype', values='Frequency').reset_index()\n",
    "\n",
    "# Show head\n",
    "print(clients_observaties.shape)\n",
    "clients_observaties.head()"
   ]
  },
  {
   "cell_type": "code",
   "execution_count": 38,
   "metadata": {},
   "outputs": [
    {
     "name": "stdout",
     "output_type": "stream",
     "text": [
      "(14047, 5)\n"
     ]
    },
    {
     "data": {
      "text/html": [
       "<div>\n",
       "<style scoped>\n",
       "    .dataframe tbody tr th:only-of-type {\n",
       "        vertical-align: middle;\n",
       "    }\n",
       "\n",
       "    .dataframe tbody tr th {\n",
       "        vertical-align: top;\n",
       "    }\n",
       "\n",
       "    .dataframe thead th {\n",
       "        text-align: right;\n",
       "    }\n",
       "</style>\n",
       "<table border=\"1\" class=\"dataframe\">\n",
       "  <thead>\n",
       "    <tr style=\"text-align: right;\">\n",
       "      <th></th>\n",
       "      <th>Postcode</th>\n",
       "      <th>Huisnummer</th>\n",
       "      <th>Geboortejaar</th>\n",
       "      <th>Geslacht_oproep</th>\n",
       "      <th>Clientnummer</th>\n",
       "    </tr>\n",
       "  </thead>\n",
       "  <tbody>\n",
       "    <tr>\n",
       "      <th>0</th>\n",
       "      <td>4907NV</td>\n",
       "      <td>7</td>\n",
       "      <td>2012-06</td>\n",
       "      <td>Mannelijk</td>\n",
       "      <td>2986905</td>\n",
       "    </tr>\n",
       "    <tr>\n",
       "      <th>1</th>\n",
       "      <td>4794RC</td>\n",
       "      <td>71</td>\n",
       "      <td>2012-06</td>\n",
       "      <td>Mannelijk</td>\n",
       "      <td>2987112</td>\n",
       "    </tr>\n",
       "    <tr>\n",
       "      <th>2</th>\n",
       "      <td>4708NK</td>\n",
       "      <td>13</td>\n",
       "      <td>2012-06</td>\n",
       "      <td>Vrouwelijk</td>\n",
       "      <td>2987137</td>\n",
       "    </tr>\n",
       "    <tr>\n",
       "      <th>3</th>\n",
       "      <td>4708KL</td>\n",
       "      <td>131</td>\n",
       "      <td>2012-06</td>\n",
       "      <td>Vrouwelijk</td>\n",
       "      <td>2987138</td>\n",
       "    </tr>\n",
       "    <tr>\n",
       "      <th>4</th>\n",
       "      <td>4614RK</td>\n",
       "      <td>18</td>\n",
       "      <td>2012-06</td>\n",
       "      <td>Mannelijk</td>\n",
       "      <td>2987140</td>\n",
       "    </tr>\n",
       "  </tbody>\n",
       "</table>\n",
       "</div>"
      ],
      "text/plain": [
       "  Postcode  Huisnummer Geboortejaar Geslacht_oproep Clientnummer\n",
       "0   4907NV           7      2012-06       Mannelijk      2986905\n",
       "1   4794RC          71      2012-06       Mannelijk      2987112\n",
       "2   4708NK          13      2012-06      Vrouwelijk      2987137\n",
       "3   4708KL         131      2012-06      Vrouwelijk      2987138\n",
       "4   4614RK          18      2012-06       Mannelijk      2987140"
      ]
     },
     "execution_count": 38,
     "metadata": {},
     "output_type": "execute_result"
    }
   ],
   "source": [
    "# From df, store a pandas dataframe with only the unique client ID's and 'Postcode'\n",
    "df_oproep = df[['PersonNr', 'Postcode', 'Huisnummer', 'Geboortejaar', 'Geslacht']].drop_duplicates()\n",
    "\n",
    "# For every PersonNr keep only the last row\n",
    "df_oproep = df_oproep.groupby('PersonNr').last().reset_index()\n",
    "\n",
    "# Convert PersonNr's to strings\n",
    "df_oproep['Clientnummer'] = df_oproep['PersonNr'].astype(str)\n",
    "\n",
    "# Format Geboortejaar to string in format 'YYYY-06', this assumes that the month is always June\n",
    "df_oproep['Geboortejaar'] = df_oproep['Geboortejaar'].astype(int).astype(str) + '-06'\n",
    "\n",
    "# Set type to period\n",
    "df_oproep['Geboortejaar'] = pd.to_datetime(df_oproep['Geboortejaar'], format='%Y-%m').dt.to_period('M').dt.strftime('%Y-%m')\n",
    "\n",
    "# Capitalize first letters in the 'Geslacht' column\n",
    "df_oproep['Geslacht'] = df_oproep['Geslacht'].str.capitalize()\n",
    "\n",
    "# Rename Geslacht to Geslacht_oproep\n",
    "df_oproep = df_oproep.rename(columns={'Geslacht': 'Geslacht_oproep'})\n",
    "\n",
    "# Drop the PersonNr column\n",
    "df_oproep = df_oproep.drop('PersonNr', axis=1)\n",
    "\n",
    "# Show head\n",
    "print(df_oproep.shape)\n",
    "df_oproep.head()"
   ]
  },
  {
   "cell_type": "code",
   "execution_count": 39,
   "metadata": {},
   "outputs": [],
   "source": [
    "# Merge the dataframes\n",
    "schoolgaanden_observations = df_oproep.merge(clients_observaties, on='Clientnummer', how='left')"
   ]
  },
  {
   "cell_type": "code",
   "execution_count": 40,
   "metadata": {},
   "outputs": [
    {
     "name": "stdout",
     "output_type": "stream",
     "text": [
      "Postcode                   0\n",
      "Huisnummer                 0\n",
      "Geboortejaar               0\n",
      "Geslacht_oproep            0\n",
      "Clientnummer               0\n",
      "B.M.R.                  1313\n",
      "DKTP                    1313\n",
      "DKTP-Hepatitis B        1313\n",
      "DKTP-Hib                1313\n",
      "DKTP-Hib-Hepatitis B    1313\n",
      "DKTP-booster            1313\n",
      "DTP                     1313\n",
      "Hib                     1313\n",
      "MenACWY                 1313\n",
      "MenC                    1313\n",
      "Pneu                    1313\n",
      "Excluded                1313\n",
      "dtype: int64\n"
     ]
    },
    {
     "data": {
      "text/html": [
       "<div>\n",
       "<style scoped>\n",
       "    .dataframe tbody tr th:only-of-type {\n",
       "        vertical-align: middle;\n",
       "    }\n",
       "\n",
       "    .dataframe tbody tr th {\n",
       "        vertical-align: top;\n",
       "    }\n",
       "\n",
       "    .dataframe thead th {\n",
       "        text-align: right;\n",
       "    }\n",
       "</style>\n",
       "<table border=\"1\" class=\"dataframe\">\n",
       "  <thead>\n",
       "    <tr style=\"text-align: right;\">\n",
       "      <th></th>\n",
       "      <th>Postcode</th>\n",
       "      <th>Huisnummer</th>\n",
       "      <th>Geboortejaar</th>\n",
       "      <th>Geslacht_oproep</th>\n",
       "      <th>Clientnummer</th>\n",
       "      <th>B.M.R.</th>\n",
       "      <th>DKTP</th>\n",
       "      <th>DKTP-Hepatitis B</th>\n",
       "      <th>DKTP-Hib</th>\n",
       "      <th>DKTP-Hib-Hepatitis B</th>\n",
       "      <th>DKTP-booster</th>\n",
       "      <th>DTP</th>\n",
       "      <th>Hib</th>\n",
       "      <th>MenACWY</th>\n",
       "      <th>MenC</th>\n",
       "      <th>Pneu</th>\n",
       "      <th>Excluded</th>\n",
       "    </tr>\n",
       "  </thead>\n",
       "  <tbody>\n",
       "    <tr>\n",
       "      <th>0</th>\n",
       "      <td>4907NV</td>\n",
       "      <td>7</td>\n",
       "      <td>2012-06</td>\n",
       "      <td>Mannelijk</td>\n",
       "      <td>2986905</td>\n",
       "      <td>1.0</td>\n",
       "      <td>0.0</td>\n",
       "      <td>0.0</td>\n",
       "      <td>0.0</td>\n",
       "      <td>0.0</td>\n",
       "      <td>0.0</td>\n",
       "      <td>1.0</td>\n",
       "      <td>0.0</td>\n",
       "      <td>0.0</td>\n",
       "      <td>0.0</td>\n",
       "      <td>0.0</td>\n",
       "      <td>0.0</td>\n",
       "    </tr>\n",
       "    <tr>\n",
       "      <th>1</th>\n",
       "      <td>4794RC</td>\n",
       "      <td>71</td>\n",
       "      <td>2012-06</td>\n",
       "      <td>Mannelijk</td>\n",
       "      <td>2987112</td>\n",
       "      <td>1.0</td>\n",
       "      <td>0.0</td>\n",
       "      <td>0.0</td>\n",
       "      <td>0.0</td>\n",
       "      <td>0.0</td>\n",
       "      <td>0.0</td>\n",
       "      <td>1.0</td>\n",
       "      <td>0.0</td>\n",
       "      <td>0.0</td>\n",
       "      <td>0.0</td>\n",
       "      <td>0.0</td>\n",
       "      <td>0.0</td>\n",
       "    </tr>\n",
       "    <tr>\n",
       "      <th>2</th>\n",
       "      <td>4708NK</td>\n",
       "      <td>13</td>\n",
       "      <td>2012-06</td>\n",
       "      <td>Vrouwelijk</td>\n",
       "      <td>2987137</td>\n",
       "      <td>1.0</td>\n",
       "      <td>0.0</td>\n",
       "      <td>0.0</td>\n",
       "      <td>0.0</td>\n",
       "      <td>0.0</td>\n",
       "      <td>0.0</td>\n",
       "      <td>1.0</td>\n",
       "      <td>0.0</td>\n",
       "      <td>0.0</td>\n",
       "      <td>0.0</td>\n",
       "      <td>0.0</td>\n",
       "      <td>0.0</td>\n",
       "    </tr>\n",
       "    <tr>\n",
       "      <th>3</th>\n",
       "      <td>4708KL</td>\n",
       "      <td>131</td>\n",
       "      <td>2012-06</td>\n",
       "      <td>Vrouwelijk</td>\n",
       "      <td>2987138</td>\n",
       "      <td>1.0</td>\n",
       "      <td>0.0</td>\n",
       "      <td>0.0</td>\n",
       "      <td>0.0</td>\n",
       "      <td>0.0</td>\n",
       "      <td>0.0</td>\n",
       "      <td>1.0</td>\n",
       "      <td>0.0</td>\n",
       "      <td>0.0</td>\n",
       "      <td>0.0</td>\n",
       "      <td>0.0</td>\n",
       "      <td>0.0</td>\n",
       "    </tr>\n",
       "    <tr>\n",
       "      <th>4</th>\n",
       "      <td>4614RK</td>\n",
       "      <td>18</td>\n",
       "      <td>2012-06</td>\n",
       "      <td>Mannelijk</td>\n",
       "      <td>2987140</td>\n",
       "      <td>1.0</td>\n",
       "      <td>0.0</td>\n",
       "      <td>0.0</td>\n",
       "      <td>0.0</td>\n",
       "      <td>0.0</td>\n",
       "      <td>0.0</td>\n",
       "      <td>1.0</td>\n",
       "      <td>0.0</td>\n",
       "      <td>0.0</td>\n",
       "      <td>0.0</td>\n",
       "      <td>0.0</td>\n",
       "      <td>0.0</td>\n",
       "    </tr>\n",
       "    <tr>\n",
       "      <th>...</th>\n",
       "      <td>...</td>\n",
       "      <td>...</td>\n",
       "      <td>...</td>\n",
       "      <td>...</td>\n",
       "      <td>...</td>\n",
       "      <td>...</td>\n",
       "      <td>...</td>\n",
       "      <td>...</td>\n",
       "      <td>...</td>\n",
       "      <td>...</td>\n",
       "      <td>...</td>\n",
       "      <td>...</td>\n",
       "      <td>...</td>\n",
       "      <td>...</td>\n",
       "      <td>...</td>\n",
       "      <td>...</td>\n",
       "      <td>...</td>\n",
       "    </tr>\n",
       "    <tr>\n",
       "      <th>14042</th>\n",
       "      <td>4793ER</td>\n",
       "      <td>15</td>\n",
       "      <td>2013-06</td>\n",
       "      <td>Vrouwelijk</td>\n",
       "      <td>9652867</td>\n",
       "      <td>1.0</td>\n",
       "      <td>0.0</td>\n",
       "      <td>0.0</td>\n",
       "      <td>0.0</td>\n",
       "      <td>0.0</td>\n",
       "      <td>0.0</td>\n",
       "      <td>1.0</td>\n",
       "      <td>0.0</td>\n",
       "      <td>0.0</td>\n",
       "      <td>0.0</td>\n",
       "      <td>0.0</td>\n",
       "      <td>0.0</td>\n",
       "    </tr>\n",
       "    <tr>\n",
       "      <th>14043</th>\n",
       "      <td>4824RD</td>\n",
       "      <td>174</td>\n",
       "      <td>2013-06</td>\n",
       "      <td>Mannelijk</td>\n",
       "      <td>9654112</td>\n",
       "      <td>0.0</td>\n",
       "      <td>0.0</td>\n",
       "      <td>0.0</td>\n",
       "      <td>0.0</td>\n",
       "      <td>0.0</td>\n",
       "      <td>0.0</td>\n",
       "      <td>0.0</td>\n",
       "      <td>0.0</td>\n",
       "      <td>0.0</td>\n",
       "      <td>0.0</td>\n",
       "      <td>0.0</td>\n",
       "      <td>3.0</td>\n",
       "    </tr>\n",
       "    <tr>\n",
       "      <th>14044</th>\n",
       "      <td>4765BA</td>\n",
       "      <td>17</td>\n",
       "      <td>2013-06</td>\n",
       "      <td>Mannelijk</td>\n",
       "      <td>10070491</td>\n",
       "      <td>1.0</td>\n",
       "      <td>0.0</td>\n",
       "      <td>0.0</td>\n",
       "      <td>0.0</td>\n",
       "      <td>0.0</td>\n",
       "      <td>0.0</td>\n",
       "      <td>1.0</td>\n",
       "      <td>0.0</td>\n",
       "      <td>0.0</td>\n",
       "      <td>0.0</td>\n",
       "      <td>0.0</td>\n",
       "      <td>0.0</td>\n",
       "    </tr>\n",
       "    <tr>\n",
       "      <th>14045</th>\n",
       "      <td>4621CP</td>\n",
       "      <td>13</td>\n",
       "      <td>2012-06</td>\n",
       "      <td>Vrouwelijk</td>\n",
       "      <td>10078065</td>\n",
       "      <td>NaN</td>\n",
       "      <td>NaN</td>\n",
       "      <td>NaN</td>\n",
       "      <td>NaN</td>\n",
       "      <td>NaN</td>\n",
       "      <td>NaN</td>\n",
       "      <td>NaN</td>\n",
       "      <td>NaN</td>\n",
       "      <td>NaN</td>\n",
       "      <td>NaN</td>\n",
       "      <td>NaN</td>\n",
       "      <td>NaN</td>\n",
       "    </tr>\n",
       "    <tr>\n",
       "      <th>14046</th>\n",
       "      <td>4702EC</td>\n",
       "      <td>31</td>\n",
       "      <td>2012-06</td>\n",
       "      <td>Vrouwelijk</td>\n",
       "      <td>10078073</td>\n",
       "      <td>NaN</td>\n",
       "      <td>NaN</td>\n",
       "      <td>NaN</td>\n",
       "      <td>NaN</td>\n",
       "      <td>NaN</td>\n",
       "      <td>NaN</td>\n",
       "      <td>NaN</td>\n",
       "      <td>NaN</td>\n",
       "      <td>NaN</td>\n",
       "      <td>NaN</td>\n",
       "      <td>NaN</td>\n",
       "      <td>NaN</td>\n",
       "    </tr>\n",
       "  </tbody>\n",
       "</table>\n",
       "<p>14047 rows × 17 columns</p>\n",
       "</div>"
      ],
      "text/plain": [
       "      Postcode  Huisnummer Geboortejaar Geslacht_oproep Clientnummer  B.M.R.  \\\n",
       "0       4907NV           7      2012-06       Mannelijk      2986905     1.0   \n",
       "1       4794RC          71      2012-06       Mannelijk      2987112     1.0   \n",
       "2       4708NK          13      2012-06      Vrouwelijk      2987137     1.0   \n",
       "3       4708KL         131      2012-06      Vrouwelijk      2987138     1.0   \n",
       "4       4614RK          18      2012-06       Mannelijk      2987140     1.0   \n",
       "...        ...         ...          ...             ...          ...     ...   \n",
       "14042   4793ER          15      2013-06      Vrouwelijk      9652867     1.0   \n",
       "14043   4824RD         174      2013-06       Mannelijk      9654112     0.0   \n",
       "14044   4765BA          17      2013-06       Mannelijk     10070491     1.0   \n",
       "14045   4621CP          13      2012-06      Vrouwelijk     10078065     NaN   \n",
       "14046   4702EC          31      2012-06      Vrouwelijk     10078073     NaN   \n",
       "\n",
       "       DKTP  DKTP-Hepatitis B  DKTP-Hib  DKTP-Hib-Hepatitis B  DKTP-booster  \\\n",
       "0       0.0               0.0       0.0                   0.0           0.0   \n",
       "1       0.0               0.0       0.0                   0.0           0.0   \n",
       "2       0.0               0.0       0.0                   0.0           0.0   \n",
       "3       0.0               0.0       0.0                   0.0           0.0   \n",
       "4       0.0               0.0       0.0                   0.0           0.0   \n",
       "...     ...               ...       ...                   ...           ...   \n",
       "14042   0.0               0.0       0.0                   0.0           0.0   \n",
       "14043   0.0               0.0       0.0                   0.0           0.0   \n",
       "14044   0.0               0.0       0.0                   0.0           0.0   \n",
       "14045   NaN               NaN       NaN                   NaN           NaN   \n",
       "14046   NaN               NaN       NaN                   NaN           NaN   \n",
       "\n",
       "       DTP  Hib  MenACWY  MenC  Pneu  Excluded  \n",
       "0      1.0  0.0      0.0   0.0   0.0       0.0  \n",
       "1      1.0  0.0      0.0   0.0   0.0       0.0  \n",
       "2      1.0  0.0      0.0   0.0   0.0       0.0  \n",
       "3      1.0  0.0      0.0   0.0   0.0       0.0  \n",
       "4      1.0  0.0      0.0   0.0   0.0       0.0  \n",
       "...    ...  ...      ...   ...   ...       ...  \n",
       "14042  1.0  0.0      0.0   0.0   0.0       0.0  \n",
       "14043  0.0  0.0      0.0   0.0   0.0       3.0  \n",
       "14044  1.0  0.0      0.0   0.0   0.0       0.0  \n",
       "14045  NaN  NaN      NaN   NaN   NaN       NaN  \n",
       "14046  NaN  NaN      NaN   NaN   NaN       NaN  \n",
       "\n",
       "[14047 rows x 17 columns]"
      ]
     },
     "execution_count": 40,
     "metadata": {},
     "output_type": "execute_result"
    }
   ],
   "source": [
    "# Print the amount of NAN values in the columns\n",
    "print(schoolgaanden_observations.isna().sum())\n",
    "schoolgaanden_observations"
   ]
  },
  {
   "cell_type": "code",
   "execution_count": 41,
   "metadata": {},
   "outputs": [],
   "source": [
    "# Fill all NaN values with 0\n",
    "schoolgaanden_observations = schoolgaanden_observations.fillna(0)"
   ]
  },
  {
   "cell_type": "markdown",
   "metadata": {},
   "source": [
    "#### 3.3 Split/combine vaccinations"
   ]
  },
  {
   "cell_type": "code",
   "execution_count": 42,
   "metadata": {},
   "outputs": [],
   "source": [
    "# Extract and unify individual vaccinations from combi vaccinations and add them to corresponding columns\n",
    "schoolgaanden_observations['Hepatitis_B'] = schoolgaanden_observations['DKTP-Hib-Hepatitis B'] + schoolgaanden_observations['DKTP-Hepatitis B']\n",
    "schoolgaanden_observations['DKTP'] = schoolgaanden_observations['DKTP'] + schoolgaanden_observations['DKTP-Hib-Hepatitis B'] + schoolgaanden_observations['DKTP-Hepatitis B'] + schoolgaanden_observations['DKTP-Hib']\n",
    "schoolgaanden_observations['Hib'] = schoolgaanden_observations['Hib'] + schoolgaanden_observations['DKTP-Hib-Hepatitis B'] + schoolgaanden_observations['DKTP-Hib']\n",
    "\n",
    "# Drop DKTP-Hib-Hepatitis B now that we extracted the individual vaccinations\n",
    "schoolgaanden_observations.drop(['DKTP-Hib-Hepatitis B', 'DKTP-Hepatitis B', 'DKTP-Hib'], axis=1, inplace=True)"
   ]
  },
  {
   "cell_type": "code",
   "execution_count": 43,
   "metadata": {},
   "outputs": [],
   "source": [
    "# Merge MenACWY and MenC into one column\n",
    "schoolgaanden_observations['MenACWY/MenC'] = schoolgaanden_observations['MenACWY'] + schoolgaanden_observations['MenC']\n",
    "\n",
    "# Drop MenACWY and MenC now that we merged them\n",
    "schoolgaanden_observations.drop(['MenACWY', 'MenC'], axis=1, inplace=True)"
   ]
  },
  {
   "cell_type": "markdown",
   "metadata": {},
   "source": [
    "#### 3.4 Construct client constants"
   ]
  },
  {
   "cell_type": "markdown",
   "metadata": {},
   "source": [
    "##### 3.4.1 Most-recent constants in relevant observation types"
   ]
  },
  {
   "cell_type": "code",
   "execution_count": 44,
   "metadata": {},
   "outputs": [],
   "source": [
    "# Group by 'Clientnummer' and create a mask for the first non-NA value in 'Geboortejaarmaand'\n",
    "mask = df_observaties.groupby('Clientnummer')['Geboortejaarmaand'].transform(lambda x: x.last_valid_index() == x.index)\n",
    "\n",
    "# Filter the DataFrame using the mask\n",
    "geboortejaarmaand = df_observaties.loc[mask, ['Clientnummer', 'Geboortejaarmaand']]"
   ]
  },
  {
   "cell_type": "code",
   "execution_count": 45,
   "metadata": {},
   "outputs": [],
   "source": [
    "# Group by 'Clientnummer' and create a mask for the first non-NA value in 'Geboortejaarmaand'\n",
    "mask = df_observaties.groupby('Clientnummer')['Tweeling'].transform(lambda x: x.last_valid_index() == x.index)\n",
    "\n",
    "# Filter the DataFrame using the mask\n",
    "tweeling = df_observaties.loc[mask, ['Clientnummer', 'Tweeling']]"
   ]
  },
  {
   "cell_type": "code",
   "execution_count": 46,
   "metadata": {},
   "outputs": [],
   "source": [
    "# Group by 'Clientnummer' and create a mask for the first non-NA value in 'Geboortejaarmaand'\n",
    "mask = df_observaties.groupby('Clientnummer')['Buurt_BRP'].transform(lambda x: x.last_valid_index() == x.index)\n",
    "\n",
    "# Filter the DataFrame using the mask\n",
    "buurt_brp = df_observaties.loc[mask, ['Clientnummer', 'Buurt_BRP']]"
   ]
  },
  {
   "cell_type": "code",
   "execution_count": 47,
   "metadata": {},
   "outputs": [],
   "source": [
    "# Group by 'Clientnummer' and create a mask for the first non-NA value in 'Geboortejaarmaand'\n",
    "mask = df_observaties.groupby('Clientnummer')['CBS_Buurtcode_BRP'].transform(lambda x: x.last_valid_index() == x.index)\n",
    "\n",
    "# Filter the DataFrame using the mask\n",
    "cbs_buurtcode = df_observaties.loc[mask, ['Clientnummer', 'CBS_Buurtcode_BRP']]"
   ]
  },
  {
   "cell_type": "code",
   "execution_count": 48,
   "metadata": {},
   "outputs": [],
   "source": [
    "# Group by 'Clientnummer' and create a mask for the first non-NA value in 'Geboortejaarmaand'\n",
    "mask = df_observaties.groupby('Clientnummer')['GeboortejaarmaandBiologischeMoeder'].transform(lambda x: x.last_valid_index() == x.index)\n",
    "\n",
    "# Filter the DataFrame using the mask\n",
    "geboortejaarmaand_biologischemoeder = df_observaties.loc[mask, ['Clientnummer', 'GeboortejaarmaandBiologischeMoeder']]"
   ]
  },
  {
   "cell_type": "code",
   "execution_count": 49,
   "metadata": {},
   "outputs": [],
   "source": [
    "# Set GeboortejaarmaandBiologischeMoeder to NaN if it is '00'\n",
    "geboortejaarmaand_biologischemoeder['GeboortejaarmaandBiologischeMoeder'] = geboortejaarmaand_biologischemoeder['GeboortejaarmaandBiologischeMoeder'].replace('00', np.NaN)\n",
    "\n",
    "# Change the data type of the column to string\n",
    "geboortejaarmaand_biologischemoeder['GeboortejaarmaandBiologischeMoeder'] = geboortejaarmaand_biologischemoeder['GeboortejaarmaandBiologischeMoeder'].astype(str)\n",
    "\n",
    "# If the length of the string is 5, add 1 as its first character\n",
    "geboortejaarmaand_biologischemoeder['GeboortejaarmaandBiologischeMoeder'] = geboortejaarmaand_biologischemoeder['GeboortejaarmaandBiologischeMoeder'].apply(lambda x: '1' + x if len(x) == 5 else x)\n",
    "\n",
    "# If the second character is a 0, replace it with a 9\n",
    "geboortejaarmaand_biologischemoeder['GeboortejaarmaandBiologischeMoeder'] = geboortejaarmaand_biologischemoeder['GeboortejaarmaandBiologischeMoeder'].apply(lambda x: x[:1] + '9' + x[2:] if (x[0] == '1' and x[1] == '0') else x)\n",
    "\n",
    "# Replace \"onbekend\" with np.nan\n",
    "geboortejaarmaand_biologischemoeder['GeboortejaarmaandBiologischeMoeder'] = geboortejaarmaand_biologischemoeder['GeboortejaarmaandBiologischeMoeder'].replace('onbekend', np.nan)\n",
    "\n",
    "# Set GeboortejaarmaandBiologischeMoeder to NaN if it is '00'\n",
    "geboortejaarmaand_biologischemoeder['GeboortejaarmaandBiologischeMoeder'] = geboortejaarmaand_biologischemoeder['GeboortejaarmaandBiologischeMoeder'].replace('00', np.NaN)\n",
    "\n",
    "# Change month dtypes\n",
    "geboortejaarmaand_biologischemoeder['GeboortejaarmaandBiologischeMoeder'] = pd.to_datetime(geboortejaarmaand_biologischemoeder['GeboortejaarmaandBiologischeMoeder'], format='%Y%m').dt.to_period('M')"
   ]
  },
  {
   "cell_type": "code",
   "execution_count": 50,
   "metadata": {},
   "outputs": [],
   "source": [
    "# Group by 'Clientnummer' and create a mask for the first non-NA value in 'Geboortejaarmaand'\n",
    "mask = df_observaties.groupby('Clientnummer')['LeeftijdBiologischeMoederBijGeboorte'].transform(lambda x: x.last_valid_index() == x.index)\n",
    "\n",
    "# Filter the DataFrame using the mask\n",
    "leeftijd_biologischemoeder = df_observaties.loc[mask, ['Clientnummer', 'LeeftijdBiologischeMoederBijGeboorte']]"
   ]
  },
  {
   "cell_type": "code",
   "execution_count": 51,
   "metadata": {},
   "outputs": [],
   "source": [
    "# Group by 'Clientnummer' and create a mask for the first non-NA value in 'Geboortejaarmaand'\n",
    "mask = df_observaties.groupby('Clientnummer')['Geslacht'].transform(lambda x: x.last_valid_index() == x.index)\n",
    "\n",
    "# Filter the DataFrame using the mask\n",
    "geslacht = df_observaties.loc[mask, ['Clientnummer', 'Geslacht']]"
   ]
  },
  {
   "cell_type": "code",
   "execution_count": 52,
   "metadata": {},
   "outputs": [],
   "source": [
    "# Group by 'Clientnummer' and create a mask for the first non-NA value in 'Geboortejaarmaand'\n",
    "mask = df_observaties.groupby('Clientnummer')['Geboorteland'].transform(lambda x: x.last_valid_index() == x.index)\n",
    "\n",
    "# Filter the DataFrame using the mask\n",
    "geboorteland = df_observaties.loc[mask, ['Clientnummer', 'Geboorteland']]"
   ]
  },
  {
   "cell_type": "code",
   "execution_count": 53,
   "metadata": {},
   "outputs": [
    {
     "data": {
      "text/html": [
       "<div>\n",
       "<style scoped>\n",
       "    .dataframe tbody tr th:only-of-type {\n",
       "        vertical-align: middle;\n",
       "    }\n",
       "\n",
       "    .dataframe tbody tr th {\n",
       "        vertical-align: top;\n",
       "    }\n",
       "\n",
       "    .dataframe thead th {\n",
       "        text-align: right;\n",
       "    }\n",
       "</style>\n",
       "<table border=\"1\" class=\"dataframe\">\n",
       "  <thead>\n",
       "    <tr style=\"text-align: right;\">\n",
       "      <th>Observatietype</th>\n",
       "      <th>Clientnummer</th>\n",
       "      <th>B.M.R.</th>\n",
       "      <th>DKTP</th>\n",
       "      <th>DKTP-Hepatitis B</th>\n",
       "      <th>DKTP-Hib</th>\n",
       "      <th>DKTP-Hib-Hepatitis B</th>\n",
       "      <th>DKTP-booster</th>\n",
       "      <th>DTP</th>\n",
       "      <th>Hib</th>\n",
       "      <th>MenACWY</th>\n",
       "      <th>MenC</th>\n",
       "      <th>Pneu</th>\n",
       "      <th>Excluded</th>\n",
       "    </tr>\n",
       "  </thead>\n",
       "  <tbody>\n",
       "    <tr>\n",
       "      <th>0</th>\n",
       "      <td>10070491</td>\n",
       "      <td>1</td>\n",
       "      <td>0</td>\n",
       "      <td>0</td>\n",
       "      <td>0</td>\n",
       "      <td>0</td>\n",
       "      <td>0</td>\n",
       "      <td>1</td>\n",
       "      <td>0</td>\n",
       "      <td>0</td>\n",
       "      <td>0</td>\n",
       "      <td>0</td>\n",
       "      <td>0</td>\n",
       "    </tr>\n",
       "    <tr>\n",
       "      <th>1</th>\n",
       "      <td>2986905</td>\n",
       "      <td>1</td>\n",
       "      <td>0</td>\n",
       "      <td>0</td>\n",
       "      <td>0</td>\n",
       "      <td>0</td>\n",
       "      <td>0</td>\n",
       "      <td>1</td>\n",
       "      <td>0</td>\n",
       "      <td>0</td>\n",
       "      <td>0</td>\n",
       "      <td>0</td>\n",
       "      <td>0</td>\n",
       "    </tr>\n",
       "    <tr>\n",
       "      <th>2</th>\n",
       "      <td>2987112</td>\n",
       "      <td>1</td>\n",
       "      <td>0</td>\n",
       "      <td>0</td>\n",
       "      <td>0</td>\n",
       "      <td>0</td>\n",
       "      <td>0</td>\n",
       "      <td>1</td>\n",
       "      <td>0</td>\n",
       "      <td>0</td>\n",
       "      <td>0</td>\n",
       "      <td>0</td>\n",
       "      <td>0</td>\n",
       "    </tr>\n",
       "    <tr>\n",
       "      <th>3</th>\n",
       "      <td>2987137</td>\n",
       "      <td>1</td>\n",
       "      <td>0</td>\n",
       "      <td>0</td>\n",
       "      <td>0</td>\n",
       "      <td>0</td>\n",
       "      <td>0</td>\n",
       "      <td>1</td>\n",
       "      <td>0</td>\n",
       "      <td>0</td>\n",
       "      <td>0</td>\n",
       "      <td>0</td>\n",
       "      <td>0</td>\n",
       "    </tr>\n",
       "    <tr>\n",
       "      <th>4</th>\n",
       "      <td>2987138</td>\n",
       "      <td>1</td>\n",
       "      <td>0</td>\n",
       "      <td>0</td>\n",
       "      <td>0</td>\n",
       "      <td>0</td>\n",
       "      <td>0</td>\n",
       "      <td>1</td>\n",
       "      <td>0</td>\n",
       "      <td>0</td>\n",
       "      <td>0</td>\n",
       "      <td>0</td>\n",
       "      <td>0</td>\n",
       "    </tr>\n",
       "    <tr>\n",
       "      <th>...</th>\n",
       "      <td>...</td>\n",
       "      <td>...</td>\n",
       "      <td>...</td>\n",
       "      <td>...</td>\n",
       "      <td>...</td>\n",
       "      <td>...</td>\n",
       "      <td>...</td>\n",
       "      <td>...</td>\n",
       "      <td>...</td>\n",
       "      <td>...</td>\n",
       "      <td>...</td>\n",
       "      <td>...</td>\n",
       "      <td>...</td>\n",
       "    </tr>\n",
       "    <tr>\n",
       "      <th>12729</th>\n",
       "      <td>9604831</td>\n",
       "      <td>1</td>\n",
       "      <td>0</td>\n",
       "      <td>0</td>\n",
       "      <td>0</td>\n",
       "      <td>0</td>\n",
       "      <td>0</td>\n",
       "      <td>1</td>\n",
       "      <td>0</td>\n",
       "      <td>0</td>\n",
       "      <td>0</td>\n",
       "      <td>0</td>\n",
       "      <td>0</td>\n",
       "    </tr>\n",
       "    <tr>\n",
       "      <th>12730</th>\n",
       "      <td>9606941</td>\n",
       "      <td>1</td>\n",
       "      <td>0</td>\n",
       "      <td>0</td>\n",
       "      <td>0</td>\n",
       "      <td>0</td>\n",
       "      <td>0</td>\n",
       "      <td>1</td>\n",
       "      <td>0</td>\n",
       "      <td>0</td>\n",
       "      <td>0</td>\n",
       "      <td>0</td>\n",
       "      <td>1</td>\n",
       "    </tr>\n",
       "    <tr>\n",
       "      <th>12731</th>\n",
       "      <td>9617893</td>\n",
       "      <td>0</td>\n",
       "      <td>0</td>\n",
       "      <td>0</td>\n",
       "      <td>0</td>\n",
       "      <td>0</td>\n",
       "      <td>0</td>\n",
       "      <td>0</td>\n",
       "      <td>0</td>\n",
       "      <td>0</td>\n",
       "      <td>0</td>\n",
       "      <td>0</td>\n",
       "      <td>1</td>\n",
       "    </tr>\n",
       "    <tr>\n",
       "      <th>12732</th>\n",
       "      <td>9652867</td>\n",
       "      <td>1</td>\n",
       "      <td>0</td>\n",
       "      <td>0</td>\n",
       "      <td>0</td>\n",
       "      <td>0</td>\n",
       "      <td>0</td>\n",
       "      <td>1</td>\n",
       "      <td>0</td>\n",
       "      <td>0</td>\n",
       "      <td>0</td>\n",
       "      <td>0</td>\n",
       "      <td>0</td>\n",
       "    </tr>\n",
       "    <tr>\n",
       "      <th>12733</th>\n",
       "      <td>9654112</td>\n",
       "      <td>0</td>\n",
       "      <td>0</td>\n",
       "      <td>0</td>\n",
       "      <td>0</td>\n",
       "      <td>0</td>\n",
       "      <td>0</td>\n",
       "      <td>0</td>\n",
       "      <td>0</td>\n",
       "      <td>0</td>\n",
       "      <td>0</td>\n",
       "      <td>0</td>\n",
       "      <td>3</td>\n",
       "    </tr>\n",
       "  </tbody>\n",
       "</table>\n",
       "<p>12734 rows × 13 columns</p>\n",
       "</div>"
      ],
      "text/plain": [
       "Observatietype Clientnummer  B.M.R.  DKTP  DKTP-Hepatitis B  DKTP-Hib  \\\n",
       "0                  10070491       1     0                 0         0   \n",
       "1                   2986905       1     0                 0         0   \n",
       "2                   2987112       1     0                 0         0   \n",
       "3                   2987137       1     0                 0         0   \n",
       "4                   2987138       1     0                 0         0   \n",
       "...                     ...     ...   ...               ...       ...   \n",
       "12729               9604831       1     0                 0         0   \n",
       "12730               9606941       1     0                 0         0   \n",
       "12731               9617893       0     0                 0         0   \n",
       "12732               9652867       1     0                 0         0   \n",
       "12733               9654112       0     0                 0         0   \n",
       "\n",
       "Observatietype  DKTP-Hib-Hepatitis B  DKTP-booster  DTP  Hib  MenACWY  MenC  \\\n",
       "0                                  0             0    1    0        0     0   \n",
       "1                                  0             0    1    0        0     0   \n",
       "2                                  0             0    1    0        0     0   \n",
       "3                                  0             0    1    0        0     0   \n",
       "4                                  0             0    1    0        0     0   \n",
       "...                              ...           ...  ...  ...      ...   ...   \n",
       "12729                              0             0    1    0        0     0   \n",
       "12730                              0             0    1    0        0     0   \n",
       "12731                              0             0    0    0        0     0   \n",
       "12732                              0             0    1    0        0     0   \n",
       "12733                              0             0    0    0        0     0   \n",
       "\n",
       "Observatietype  Pneu  Excluded  \n",
       "0                  0         0  \n",
       "1                  0         0  \n",
       "2                  0         0  \n",
       "3                  0         0  \n",
       "4                  0         0  \n",
       "...              ...       ...  \n",
       "12729              0         0  \n",
       "12730              0         1  \n",
       "12731              0         1  \n",
       "12732              0         0  \n",
       "12733              0         3  \n",
       "\n",
       "[12734 rows x 13 columns]"
      ]
     },
     "execution_count": 53,
     "metadata": {},
     "output_type": "execute_result"
    }
   ],
   "source": [
    "clients_observaties"
   ]
  },
  {
   "cell_type": "markdown",
   "metadata": {},
   "source": [
    "##### 3.4.2 Merge constants from 3.4.1"
   ]
  },
  {
   "cell_type": "code",
   "execution_count": 54,
   "metadata": {},
   "outputs": [],
   "source": [
    "# Merge on 'Clientnummer'\n",
    "clients_constants = (clients_observaties['Clientnummer'].to_frame()\n",
    "                     .merge(geboortejaarmaand, on='Clientnummer', how='left')\n",
    "                     .merge(tweeling, on='Clientnummer', how='left')\n",
    "                     .merge(buurt_brp, on='Clientnummer', how='left')\n",
    "                     .merge(cbs_buurtcode, on='Clientnummer', how='left')\n",
    "                     .merge(geboortejaarmaand_biologischemoeder, on='Clientnummer', how='left')\n",
    "                     .merge(leeftijd_biologischemoeder, on='Clientnummer', how='left')\n",
    "                     .merge(geslacht, on='Clientnummer', how='left')\n",
    "                     .merge(geboorteland, on='Clientnummer', how='left'))"
   ]
  },
  {
   "cell_type": "code",
   "execution_count": 55,
   "metadata": {},
   "outputs": [
    {
     "data": {
      "text/plain": [
       "Clientnummer                            0.000000\n",
       "Geboortejaarmaand                       0.000000\n",
       "Tweeling                                0.000000\n",
       "Buurt_BRP                               0.012722\n",
       "CBS_Buurtcode_BRP                       0.012722\n",
       "GeboortejaarmaandBiologischeMoeder      0.249568\n",
       "LeeftijdBiologischeMoederBijGeboorte    0.249568\n",
       "Geslacht                                0.000000\n",
       "Geboorteland                            0.000000\n",
       "dtype: float64"
      ]
     },
     "execution_count": 55,
     "metadata": {},
     "output_type": "execute_result"
    }
   ],
   "source": [
    "clients_constants.isna().mean()"
   ]
  },
  {
   "cell_type": "markdown",
   "metadata": {},
   "source": [
    "##### 3.4.3 Overall most-recent constants"
   ]
  },
  {
   "cell_type": "code",
   "execution_count": 56,
   "metadata": {},
   "outputs": [],
   "source": [
    "# Merge on 'Clientnummer'\n",
    "clients_constants_overall = (clients_observaties['Clientnummer'].to_frame()\n",
    "                             .merge(geboortejaarmaand_overall, on='Clientnummer', how='left')\n",
    "                             .merge(tweeling_overall, on='Clientnummer', how='left')\n",
    "                             .merge(buurt_brp_overall, on='Clientnummer', how='left')\n",
    "                             .merge(cbs_buurtcode_overall, on='Clientnummer', how='left')\n",
    "                             .merge(geboortejaarmaand_biologischemoeder_overall, on='Clientnummer', how='left')\n",
    "                             .merge(leeftijd_biologischemoeder_overall, on='Clientnummer', how='left')\n",
    "                             .merge(geslacht_overall, on='Clientnummer', how='left')\n",
    "                             .merge(geboorteland_overall, on='Clientnummer', how='left'))"
   ]
  },
  {
   "cell_type": "code",
   "execution_count": 57,
   "metadata": {},
   "outputs": [
    {
     "data": {
      "text/plain": [
       "Clientnummer                            0.000000\n",
       "Geboortejaarmaand                       0.000000\n",
       "Tweeling                                0.000000\n",
       "Buurt_BRP                               0.003377\n",
       "CBS_Buurtcode_BRP                       0.003377\n",
       "GeboortejaarmaandBiologischeMoeder      0.249568\n",
       "LeeftijdBiologischeMoederBijGeboorte    0.249568\n",
       "Geslacht                                0.000000\n",
       "Geboorteland                            0.000000\n",
       "dtype: float64"
      ]
     },
     "execution_count": 57,
     "metadata": {},
     "output_type": "execute_result"
    }
   ],
   "source": [
    "clients_constants_overall.isna().mean()"
   ]
  },
  {
   "cell_type": "markdown",
   "metadata": {},
   "source": [
    "##### 3.4.4 Fill NA's with constants from 3.4.3"
   ]
  },
  {
   "cell_type": "code",
   "execution_count": 58,
   "metadata": {},
   "outputs": [],
   "source": [
    "# Fill missings in clients_constants with clients_constants_overall\n",
    "for column in clients_constants.columns:\n",
    "    if column != 'Clientnummer':\n",
    "        clients_constants[column] = clients_constants[column].fillna(clients_constants_overall[column])"
   ]
  },
  {
   "cell_type": "markdown",
   "metadata": {},
   "source": [
    "##### 3.4.5 Set appropriate dtypes"
   ]
  },
  {
   "cell_type": "code",
   "execution_count": 59,
   "metadata": {},
   "outputs": [],
   "source": [
    "def boolean_mapper(df_observaties):\n",
    "    # Define function to preprocess boolean-like values for casting\n",
    "    def convert_to_bool(column):\n",
    "        bool_mapping = {'Ja': True, 'Nee': False}\n",
    "        return bool_mapping.get(column, np.NaN)\n",
    "\n",
    "    # List all columns to be casted\n",
    "    columns_to_convert = ['Tweeling']\n",
    "\n",
    "    # Cast columns\n",
    "    for col in columns_to_convert:\n",
    "        df_observaties[col] = df_observaties[col].apply(convert_to_bool)\n",
    "    return df_observaties\n",
    "\n",
    "# Map boolean-like values to True's and False's\n",
    "clients_constants = boolean_mapper(clients_constants)"
   ]
  },
  {
   "cell_type": "code",
   "execution_count": 60,
   "metadata": {},
   "outputs": [
    {
     "data": {
      "text/html": [
       "<div>\n",
       "<style scoped>\n",
       "    .dataframe tbody tr th:only-of-type {\n",
       "        vertical-align: middle;\n",
       "    }\n",
       "\n",
       "    .dataframe tbody tr th {\n",
       "        vertical-align: top;\n",
       "    }\n",
       "\n",
       "    .dataframe thead th {\n",
       "        text-align: right;\n",
       "    }\n",
       "</style>\n",
       "<table border=\"1\" class=\"dataframe\">\n",
       "  <thead>\n",
       "    <tr style=\"text-align: right;\">\n",
       "      <th></th>\n",
       "      <th>Clientnummer</th>\n",
       "      <th>Geboortejaarmaand</th>\n",
       "      <th>Tweeling</th>\n",
       "      <th>Buurt_BRP</th>\n",
       "      <th>CBS_Buurtcode_BRP</th>\n",
       "      <th>GeboortejaarmaandBiologischeMoeder</th>\n",
       "      <th>LeeftijdBiologischeMoederBijGeboorte</th>\n",
       "      <th>Geslacht</th>\n",
       "      <th>Geboorteland</th>\n",
       "    </tr>\n",
       "  </thead>\n",
       "  <tbody>\n",
       "    <tr>\n",
       "      <th>0</th>\n",
       "      <td>10070491</td>\n",
       "      <td>2013-11</td>\n",
       "      <td>False</td>\n",
       "      <td>NaN</td>\n",
       "      <td>NaN</td>\n",
       "      <td>1985-03</td>\n",
       "      <td>28.0</td>\n",
       "      <td>Mannelijk</td>\n",
       "      <td>Nederland</td>\n",
       "    </tr>\n",
       "    <tr>\n",
       "      <th>1</th>\n",
       "      <td>2986905</td>\n",
       "      <td>2012-01</td>\n",
       "      <td>False</td>\n",
       "      <td>Schildersbuurt</td>\n",
       "      <td>08260605</td>\n",
       "      <td>1978-05</td>\n",
       "      <td>33.0</td>\n",
       "      <td>Mannelijk</td>\n",
       "      <td>Nederland</td>\n",
       "    </tr>\n",
       "    <tr>\n",
       "      <th>2</th>\n",
       "      <td>2987112</td>\n",
       "      <td>2012-01</td>\n",
       "      <td>False</td>\n",
       "      <td>Verspreide huizen Heijningen</td>\n",
       "      <td>17090809</td>\n",
       "      <td>1986-04</td>\n",
       "      <td>25.0</td>\n",
       "      <td>Mannelijk</td>\n",
       "      <td>Nederland</td>\n",
       "    </tr>\n",
       "    <tr>\n",
       "      <th>3</th>\n",
       "      <td>2987137</td>\n",
       "      <td>2012-01</td>\n",
       "      <td>False</td>\n",
       "      <td>Weihoek-Oost</td>\n",
       "      <td>16740705</td>\n",
       "      <td>1977-02</td>\n",
       "      <td>34.0</td>\n",
       "      <td>Vrouwelijk</td>\n",
       "      <td>Nederland</td>\n",
       "    </tr>\n",
       "    <tr>\n",
       "      <th>4</th>\n",
       "      <td>2987138</td>\n",
       "      <td>2012-01</td>\n",
       "      <td>False</td>\n",
       "      <td>Tolberg-West</td>\n",
       "      <td>16740703</td>\n",
       "      <td>1984-03</td>\n",
       "      <td>27.0</td>\n",
       "      <td>Vrouwelijk</td>\n",
       "      <td>Nederland</td>\n",
       "    </tr>\n",
       "    <tr>\n",
       "      <th>...</th>\n",
       "      <td>...</td>\n",
       "      <td>...</td>\n",
       "      <td>...</td>\n",
       "      <td>...</td>\n",
       "      <td>...</td>\n",
       "      <td>...</td>\n",
       "      <td>...</td>\n",
       "      <td>...</td>\n",
       "      <td>...</td>\n",
       "    </tr>\n",
       "    <tr>\n",
       "      <th>12729</th>\n",
       "      <td>9604831</td>\n",
       "      <td>2013-07</td>\n",
       "      <td>False</td>\n",
       "      <td>Bleijerheide</td>\n",
       "      <td>09280105</td>\n",
       "      <td>1984-12</td>\n",
       "      <td>28.0</td>\n",
       "      <td>Vrouwelijk</td>\n",
       "      <td>Nederland</td>\n",
       "    </tr>\n",
       "    <tr>\n",
       "      <th>12730</th>\n",
       "      <td>9606941</td>\n",
       "      <td>2013-05</td>\n",
       "      <td>False</td>\n",
       "      <td>Oudenbosch-Centrum</td>\n",
       "      <td>16550301</td>\n",
       "      <td>1988-02</td>\n",
       "      <td>25.0</td>\n",
       "      <td>Mannelijk</td>\n",
       "      <td>Nederland</td>\n",
       "    </tr>\n",
       "    <tr>\n",
       "      <th>12731</th>\n",
       "      <td>9617893</td>\n",
       "      <td>2012-01</td>\n",
       "      <td>False</td>\n",
       "      <td>Havenkwartier</td>\n",
       "      <td>07480001</td>\n",
       "      <td>NaT</td>\n",
       "      <td>NaN</td>\n",
       "      <td>Mannelijk</td>\n",
       "      <td>Syrië</td>\n",
       "    </tr>\n",
       "    <tr>\n",
       "      <th>12732</th>\n",
       "      <td>9652867</td>\n",
       "      <td>2013-10</td>\n",
       "      <td>False</td>\n",
       "      <td>NaN</td>\n",
       "      <td>NaN</td>\n",
       "      <td>NaT</td>\n",
       "      <td>NaN</td>\n",
       "      <td>Vrouwelijk</td>\n",
       "      <td>Nederland</td>\n",
       "    </tr>\n",
       "    <tr>\n",
       "      <th>12733</th>\n",
       "      <td>9654112</td>\n",
       "      <td>2013-06</td>\n",
       "      <td>False</td>\n",
       "      <td>Gageldonk</td>\n",
       "      <td>07580600</td>\n",
       "      <td>NaT</td>\n",
       "      <td>NaN</td>\n",
       "      <td>Mannelijk</td>\n",
       "      <td>Jemen</td>\n",
       "    </tr>\n",
       "  </tbody>\n",
       "</table>\n",
       "<p>12734 rows × 9 columns</p>\n",
       "</div>"
      ],
      "text/plain": [
       "      Clientnummer Geboortejaarmaand  Tweeling                     Buurt_BRP  \\\n",
       "0         10070491           2013-11     False                           NaN   \n",
       "1          2986905           2012-01     False                Schildersbuurt   \n",
       "2          2987112           2012-01     False  Verspreide huizen Heijningen   \n",
       "3          2987137           2012-01     False                  Weihoek-Oost   \n",
       "4          2987138           2012-01     False                  Tolberg-West   \n",
       "...            ...               ...       ...                           ...   \n",
       "12729      9604831           2013-07     False                  Bleijerheide   \n",
       "12730      9606941           2013-05     False            Oudenbosch-Centrum   \n",
       "12731      9617893           2012-01     False                 Havenkwartier   \n",
       "12732      9652867           2013-10     False                           NaN   \n",
       "12733      9654112           2013-06     False                     Gageldonk   \n",
       "\n",
       "      CBS_Buurtcode_BRP GeboortejaarmaandBiologischeMoeder  \\\n",
       "0                   NaN                            1985-03   \n",
       "1              08260605                            1978-05   \n",
       "2              17090809                            1986-04   \n",
       "3              16740705                            1977-02   \n",
       "4              16740703                            1984-03   \n",
       "...                 ...                                ...   \n",
       "12729          09280105                            1984-12   \n",
       "12730          16550301                            1988-02   \n",
       "12731          07480001                                NaT   \n",
       "12732               NaN                                NaT   \n",
       "12733          07580600                                NaT   \n",
       "\n",
       "       LeeftijdBiologischeMoederBijGeboorte    Geslacht Geboorteland  \n",
       "0                                      28.0   Mannelijk    Nederland  \n",
       "1                                      33.0   Mannelijk    Nederland  \n",
       "2                                      25.0   Mannelijk    Nederland  \n",
       "3                                      34.0  Vrouwelijk    Nederland  \n",
       "4                                      27.0  Vrouwelijk    Nederland  \n",
       "...                                     ...         ...          ...  \n",
       "12729                                  28.0  Vrouwelijk    Nederland  \n",
       "12730                                  25.0   Mannelijk    Nederland  \n",
       "12731                                   NaN   Mannelijk        Syrië  \n",
       "12732                                   NaN  Vrouwelijk    Nederland  \n",
       "12733                                   NaN   Mannelijk        Jemen  \n",
       "\n",
       "[12734 rows x 9 columns]"
      ]
     },
     "execution_count": 60,
     "metadata": {},
     "output_type": "execute_result"
    }
   ],
   "source": [
    "clients_constants"
   ]
  },
  {
   "cell_type": "code",
   "execution_count": 61,
   "metadata": {},
   "outputs": [],
   "source": [
    "# List all columns to be casted\n",
    "convert_dict = {'Clientnummer': 'object',\n",
    "                'Geboortejaarmaand': 'object',\n",
    "                'Tweeling': 'boolean', # Changed\n",
    "                'Buurt_BRP': 'object',\n",
    "                'CBS_Buurtcode_BRP': 'object', # Changed\n",
    "                'GeboortejaarmaandBiologischeMoeder': 'object',\n",
    "                'LeeftijdBiologischeMoederBijGeboorte': 'float64',\n",
    "                'Geslacht': 'category', # Changed\n",
    "                'Geboorteland': 'category'} # Changed\n",
    "\n",
    "# Cast columns\n",
    "clients_constants = clients_constants.astype(convert_dict)"
   ]
  },
  {
   "cell_type": "markdown",
   "metadata": {},
   "source": [
    "#### 3.5 Merge constants and vaccinations"
   ]
  },
  {
   "cell_type": "code",
   "execution_count": 62,
   "metadata": {},
   "outputs": [],
   "source": [
    "# Merge the dataframes\n",
    "df_observaties = schoolgaanden_observations.merge(clients_constants, on='Clientnummer', how='left')"
   ]
  },
  {
   "cell_type": "code",
   "execution_count": 63,
   "metadata": {},
   "outputs": [
    {
     "data": {
      "text/plain": [
       "Postcode                                0.000000\n",
       "Huisnummer                              0.000000\n",
       "Geboortejaar                            0.000000\n",
       "Geslacht_oproep                         0.000000\n",
       "Clientnummer                            0.000000\n",
       "B.M.R.                                  0.000000\n",
       "DKTP                                    0.000000\n",
       "DKTP-booster                            0.000000\n",
       "DTP                                     0.000000\n",
       "Hib                                     0.000000\n",
       "Pneu                                    0.000000\n",
       "Excluded                                0.000000\n",
       "Hepatitis_B                             0.000000\n",
       "MenACWY/MenC                            0.000000\n",
       "Geboortejaarmaand                       0.093472\n",
       "Tweeling                                0.093472\n",
       "Buurt_BRP                               0.096533\n",
       "CBS_Buurtcode_BRP                       0.096533\n",
       "GeboortejaarmaandBiologischeMoeder      0.319712\n",
       "LeeftijdBiologischeMoederBijGeboorte    0.319712\n",
       "Geslacht                                0.093472\n",
       "Geboorteland                            0.093472\n",
       "dtype: float64"
      ]
     },
     "execution_count": 63,
     "metadata": {},
     "output_type": "execute_result"
    }
   ],
   "source": [
    "df_observaties.isna().mean()"
   ]
  },
  {
   "cell_type": "code",
   "execution_count": 64,
   "metadata": {},
   "outputs": [
    {
     "name": "stdout",
     "output_type": "stream",
     "text": [
      "(14047, 22)\n"
     ]
    },
    {
     "data": {
      "text/html": [
       "<div>\n",
       "<style scoped>\n",
       "    .dataframe tbody tr th:only-of-type {\n",
       "        vertical-align: middle;\n",
       "    }\n",
       "\n",
       "    .dataframe tbody tr th {\n",
       "        vertical-align: top;\n",
       "    }\n",
       "\n",
       "    .dataframe thead th {\n",
       "        text-align: right;\n",
       "    }\n",
       "</style>\n",
       "<table border=\"1\" class=\"dataframe\">\n",
       "  <thead>\n",
       "    <tr style=\"text-align: right;\">\n",
       "      <th></th>\n",
       "      <th>Postcode</th>\n",
       "      <th>Huisnummer</th>\n",
       "      <th>Geboortejaar</th>\n",
       "      <th>Geslacht_oproep</th>\n",
       "      <th>Clientnummer</th>\n",
       "      <th>B.M.R.</th>\n",
       "      <th>DKTP</th>\n",
       "      <th>DKTP-booster</th>\n",
       "      <th>DTP</th>\n",
       "      <th>Hib</th>\n",
       "      <th>...</th>\n",
       "      <th>Hepatitis_B</th>\n",
       "      <th>MenACWY/MenC</th>\n",
       "      <th>Geboortejaarmaand</th>\n",
       "      <th>Tweeling</th>\n",
       "      <th>Buurt_BRP</th>\n",
       "      <th>CBS_Buurtcode_BRP</th>\n",
       "      <th>GeboortejaarmaandBiologischeMoeder</th>\n",
       "      <th>LeeftijdBiologischeMoederBijGeboorte</th>\n",
       "      <th>Geslacht</th>\n",
       "      <th>Geboorteland</th>\n",
       "    </tr>\n",
       "  </thead>\n",
       "  <tbody>\n",
       "    <tr>\n",
       "      <th>0</th>\n",
       "      <td>4907NV</td>\n",
       "      <td>7</td>\n",
       "      <td>2012-06</td>\n",
       "      <td>Mannelijk</td>\n",
       "      <td>2986905</td>\n",
       "      <td>1.0</td>\n",
       "      <td>0.0</td>\n",
       "      <td>0.0</td>\n",
       "      <td>1.0</td>\n",
       "      <td>0.0</td>\n",
       "      <td>...</td>\n",
       "      <td>0.0</td>\n",
       "      <td>0.0</td>\n",
       "      <td>2012-01</td>\n",
       "      <td>False</td>\n",
       "      <td>Schildersbuurt</td>\n",
       "      <td>08260605</td>\n",
       "      <td>1978-05</td>\n",
       "      <td>33.0</td>\n",
       "      <td>Mannelijk</td>\n",
       "      <td>Nederland</td>\n",
       "    </tr>\n",
       "    <tr>\n",
       "      <th>1</th>\n",
       "      <td>4794RC</td>\n",
       "      <td>71</td>\n",
       "      <td>2012-06</td>\n",
       "      <td>Mannelijk</td>\n",
       "      <td>2987112</td>\n",
       "      <td>1.0</td>\n",
       "      <td>0.0</td>\n",
       "      <td>0.0</td>\n",
       "      <td>1.0</td>\n",
       "      <td>0.0</td>\n",
       "      <td>...</td>\n",
       "      <td>0.0</td>\n",
       "      <td>0.0</td>\n",
       "      <td>2012-01</td>\n",
       "      <td>False</td>\n",
       "      <td>Verspreide huizen Heijningen</td>\n",
       "      <td>17090809</td>\n",
       "      <td>1986-04</td>\n",
       "      <td>25.0</td>\n",
       "      <td>Mannelijk</td>\n",
       "      <td>Nederland</td>\n",
       "    </tr>\n",
       "    <tr>\n",
       "      <th>2</th>\n",
       "      <td>4708NK</td>\n",
       "      <td>13</td>\n",
       "      <td>2012-06</td>\n",
       "      <td>Vrouwelijk</td>\n",
       "      <td>2987137</td>\n",
       "      <td>1.0</td>\n",
       "      <td>0.0</td>\n",
       "      <td>0.0</td>\n",
       "      <td>1.0</td>\n",
       "      <td>0.0</td>\n",
       "      <td>...</td>\n",
       "      <td>0.0</td>\n",
       "      <td>0.0</td>\n",
       "      <td>2012-01</td>\n",
       "      <td>False</td>\n",
       "      <td>Weihoek-Oost</td>\n",
       "      <td>16740705</td>\n",
       "      <td>1977-02</td>\n",
       "      <td>34.0</td>\n",
       "      <td>Vrouwelijk</td>\n",
       "      <td>Nederland</td>\n",
       "    </tr>\n",
       "    <tr>\n",
       "      <th>3</th>\n",
       "      <td>4708KL</td>\n",
       "      <td>131</td>\n",
       "      <td>2012-06</td>\n",
       "      <td>Vrouwelijk</td>\n",
       "      <td>2987138</td>\n",
       "      <td>1.0</td>\n",
       "      <td>0.0</td>\n",
       "      <td>0.0</td>\n",
       "      <td>1.0</td>\n",
       "      <td>0.0</td>\n",
       "      <td>...</td>\n",
       "      <td>0.0</td>\n",
       "      <td>0.0</td>\n",
       "      <td>2012-01</td>\n",
       "      <td>False</td>\n",
       "      <td>Tolberg-West</td>\n",
       "      <td>16740703</td>\n",
       "      <td>1984-03</td>\n",
       "      <td>27.0</td>\n",
       "      <td>Vrouwelijk</td>\n",
       "      <td>Nederland</td>\n",
       "    </tr>\n",
       "    <tr>\n",
       "      <th>4</th>\n",
       "      <td>4614RK</td>\n",
       "      <td>18</td>\n",
       "      <td>2012-06</td>\n",
       "      <td>Mannelijk</td>\n",
       "      <td>2987140</td>\n",
       "      <td>1.0</td>\n",
       "      <td>0.0</td>\n",
       "      <td>0.0</td>\n",
       "      <td>1.0</td>\n",
       "      <td>0.0</td>\n",
       "      <td>...</td>\n",
       "      <td>0.0</td>\n",
       "      <td>0.0</td>\n",
       "      <td>2012-01</td>\n",
       "      <td>False</td>\n",
       "      <td>Meilust Zuid</td>\n",
       "      <td>07480100</td>\n",
       "      <td>1985-06</td>\n",
       "      <td>26.0</td>\n",
       "      <td>Mannelijk</td>\n",
       "      <td>Nederland</td>\n",
       "    </tr>\n",
       "  </tbody>\n",
       "</table>\n",
       "<p>5 rows × 22 columns</p>\n",
       "</div>"
      ],
      "text/plain": [
       "  Postcode  Huisnummer Geboortejaar Geslacht_oproep Clientnummer  B.M.R.  \\\n",
       "0   4907NV           7      2012-06       Mannelijk      2986905     1.0   \n",
       "1   4794RC          71      2012-06       Mannelijk      2987112     1.0   \n",
       "2   4708NK          13      2012-06      Vrouwelijk      2987137     1.0   \n",
       "3   4708KL         131      2012-06      Vrouwelijk      2987138     1.0   \n",
       "4   4614RK          18      2012-06       Mannelijk      2987140     1.0   \n",
       "\n",
       "   DKTP  DKTP-booster  DTP  Hib  ...  Hepatitis_B  MenACWY/MenC  \\\n",
       "0   0.0           0.0  1.0  0.0  ...          0.0           0.0   \n",
       "1   0.0           0.0  1.0  0.0  ...          0.0           0.0   \n",
       "2   0.0           0.0  1.0  0.0  ...          0.0           0.0   \n",
       "3   0.0           0.0  1.0  0.0  ...          0.0           0.0   \n",
       "4   0.0           0.0  1.0  0.0  ...          0.0           0.0   \n",
       "\n",
       "   Geboortejaarmaand  Tweeling                     Buurt_BRP  \\\n",
       "0            2012-01     False                Schildersbuurt   \n",
       "1            2012-01     False  Verspreide huizen Heijningen   \n",
       "2            2012-01     False                  Weihoek-Oost   \n",
       "3            2012-01     False                  Tolberg-West   \n",
       "4            2012-01     False                  Meilust Zuid   \n",
       "\n",
       "   CBS_Buurtcode_BRP GeboortejaarmaandBiologischeMoeder  \\\n",
       "0           08260605                            1978-05   \n",
       "1           17090809                            1986-04   \n",
       "2           16740705                            1977-02   \n",
       "3           16740703                            1984-03   \n",
       "4           07480100                            1985-06   \n",
       "\n",
       "  LeeftijdBiologischeMoederBijGeboorte    Geslacht  Geboorteland  \n",
       "0                                 33.0   Mannelijk     Nederland  \n",
       "1                                 25.0   Mannelijk     Nederland  \n",
       "2                                 34.0  Vrouwelijk     Nederland  \n",
       "3                                 27.0  Vrouwelijk     Nederland  \n",
       "4                                 26.0   Mannelijk     Nederland  \n",
       "\n",
       "[5 rows x 22 columns]"
      ]
     },
     "execution_count": 64,
     "metadata": {},
     "output_type": "execute_result"
    }
   ],
   "source": [
    "# Show head\n",
    "print(df_observaties.shape)\n",
    "df_observaties.head()"
   ]
  },
  {
   "cell_type": "code",
   "execution_count": 65,
   "metadata": {},
   "outputs": [],
   "source": [
    "# Fill missings in Geboortejaarmaand with Geboortejaar\n",
    "df_observaties['Geboortejaarmaand'] = df_observaties['Geboortejaarmaand'].fillna(df_observaties['Geboortejaar'])\n",
    "\n",
    "# Fill missings in Geslacht with Geslacht_oproep\n",
    "df_observaties['Geslacht'] = df_observaties['Geslacht'].fillna(df_observaties['Geslacht_oproep'])\n",
    "\n",
    "# Drop Geboortejaar\n",
    "df_observaties.drop(['Geboortejaar', 'Geslacht_oproep'], axis=1, inplace=True)\n",
    "\n",
    "# Set dtype to period\n",
    "df_observaties['Geboortejaarmaand'] = pd.to_datetime(df_observaties['Geboortejaarmaand'], format='%Y-%m').dt.to_period('M')"
   ]
  },
  {
   "cell_type": "code",
   "execution_count": 66,
   "metadata": {},
   "outputs": [
    {
     "data": {
      "text/plain": [
       "Postcode                                0.000000\n",
       "Huisnummer                              0.000000\n",
       "Clientnummer                            0.000000\n",
       "B.M.R.                                  0.000000\n",
       "DKTP                                    0.000000\n",
       "DKTP-booster                            0.000000\n",
       "DTP                                     0.000000\n",
       "Hib                                     0.000000\n",
       "Pneu                                    0.000000\n",
       "Excluded                                0.000000\n",
       "Hepatitis_B                             0.000000\n",
       "MenACWY/MenC                            0.000000\n",
       "Geboortejaarmaand                       0.000000\n",
       "Tweeling                                0.093472\n",
       "Buurt_BRP                               0.096533\n",
       "CBS_Buurtcode_BRP                       0.096533\n",
       "GeboortejaarmaandBiologischeMoeder      0.319712\n",
       "LeeftijdBiologischeMoederBijGeboorte    0.319712\n",
       "Geslacht                                0.000000\n",
       "Geboorteland                            0.093472\n",
       "dtype: float64"
      ]
     },
     "execution_count": 66,
     "metadata": {},
     "output_type": "execute_result"
    }
   ],
   "source": [
    "df_observaties.isna().mean()"
   ]
  },
  {
   "cell_type": "code",
   "execution_count": 67,
   "metadata": {},
   "outputs": [
    {
     "data": {
      "text/plain": [
       "Geboortejaarmaand\n",
       "2013-06    1230\n",
       "2012-06    1139\n",
       "2013-07     663\n",
       "2012-08     610\n",
       "2012-07     577\n",
       "2013-01     568\n",
       "2013-08     568\n",
       "2012-03     564\n",
       "2012-09     557\n",
       "2013-09     551\n",
       "2012-10     551\n",
       "2012-01     536\n",
       "2012-05     525\n",
       "2012-04     522\n",
       "2013-05     520\n",
       "2013-12     510\n",
       "2012-02     507\n",
       "2013-10     499\n",
       "2013-11     499\n",
       "2012-12     494\n",
       "2013-03     494\n",
       "2013-04     488\n",
       "2012-11     459\n",
       "2013-02     416\n",
       "Freq: M, Name: count, dtype: int64"
      ]
     },
     "execution_count": 67,
     "metadata": {},
     "output_type": "execute_result"
    }
   ],
   "source": [
    "# Show all unique values in Geboortejaarmaand\n",
    "df_observaties['Geboortejaarmaand'].value_counts()"
   ]
  },
  {
   "cell_type": "markdown",
   "metadata": {},
   "source": [
    "### 4. Add vaccination status"
   ]
  },
  {
   "cell_type": "code",
   "execution_count": 68,
   "metadata": {},
   "outputs": [],
   "source": [
    "# Add status for each vaccination individually, assuming Zuigelingen\n",
    "df_observaties['Schoolgaanden_status_B.M.R.'] = df_observaties['B.M.R.'].apply(lambda x: 'Vaccinated' if x >= 1 else 'Not Vaccinated')\n",
    "df_observaties['Schoolgaanden_status_DTP'] = df_observaties['DTP'].apply(lambda x: 'Vaccinated' if x >= 1 else 'Not Vaccinated')\n",
    "\n",
    "# Add overall status for Zuigelingen and Schoolgaanden\n",
    "df_observaties['Schoolgaanden_status'] = df_observaties[['Schoolgaanden_status_B.M.R.',\n",
    "                                                       'Schoolgaanden_status_DTP']].apply(lambda x: 'Vaccinated' if 'Not Vaccinated' not in x.values else 'Not Vaccinated', axis=1)"
   ]
  },
  {
   "cell_type": "code",
   "execution_count": 69,
   "metadata": {},
   "outputs": [
    {
     "name": "stdout",
     "output_type": "stream",
     "text": [
      "(14047, 23)\n"
     ]
    },
    {
     "data": {
      "text/html": [
       "<div>\n",
       "<style scoped>\n",
       "    .dataframe tbody tr th:only-of-type {\n",
       "        vertical-align: middle;\n",
       "    }\n",
       "\n",
       "    .dataframe tbody tr th {\n",
       "        vertical-align: top;\n",
       "    }\n",
       "\n",
       "    .dataframe thead th {\n",
       "        text-align: right;\n",
       "    }\n",
       "</style>\n",
       "<table border=\"1\" class=\"dataframe\">\n",
       "  <thead>\n",
       "    <tr style=\"text-align: right;\">\n",
       "      <th></th>\n",
       "      <th>Postcode</th>\n",
       "      <th>Huisnummer</th>\n",
       "      <th>Clientnummer</th>\n",
       "      <th>B.M.R.</th>\n",
       "      <th>DKTP</th>\n",
       "      <th>DKTP-booster</th>\n",
       "      <th>DTP</th>\n",
       "      <th>Hib</th>\n",
       "      <th>Pneu</th>\n",
       "      <th>Excluded</th>\n",
       "      <th>...</th>\n",
       "      <th>Tweeling</th>\n",
       "      <th>Buurt_BRP</th>\n",
       "      <th>CBS_Buurtcode_BRP</th>\n",
       "      <th>GeboortejaarmaandBiologischeMoeder</th>\n",
       "      <th>LeeftijdBiologischeMoederBijGeboorte</th>\n",
       "      <th>Geslacht</th>\n",
       "      <th>Geboorteland</th>\n",
       "      <th>Schoolgaanden_status_B.M.R.</th>\n",
       "      <th>Schoolgaanden_status_DTP</th>\n",
       "      <th>Schoolgaanden_status</th>\n",
       "    </tr>\n",
       "  </thead>\n",
       "  <tbody>\n",
       "    <tr>\n",
       "      <th>0</th>\n",
       "      <td>4907NV</td>\n",
       "      <td>7</td>\n",
       "      <td>2986905</td>\n",
       "      <td>1.0</td>\n",
       "      <td>0.0</td>\n",
       "      <td>0.0</td>\n",
       "      <td>1.0</td>\n",
       "      <td>0.0</td>\n",
       "      <td>0.0</td>\n",
       "      <td>0.0</td>\n",
       "      <td>...</td>\n",
       "      <td>False</td>\n",
       "      <td>Schildersbuurt</td>\n",
       "      <td>08260605</td>\n",
       "      <td>1978-05</td>\n",
       "      <td>33.0</td>\n",
       "      <td>Mannelijk</td>\n",
       "      <td>Nederland</td>\n",
       "      <td>Vaccinated</td>\n",
       "      <td>Vaccinated</td>\n",
       "      <td>Vaccinated</td>\n",
       "    </tr>\n",
       "    <tr>\n",
       "      <th>1</th>\n",
       "      <td>4794RC</td>\n",
       "      <td>71</td>\n",
       "      <td>2987112</td>\n",
       "      <td>1.0</td>\n",
       "      <td>0.0</td>\n",
       "      <td>0.0</td>\n",
       "      <td>1.0</td>\n",
       "      <td>0.0</td>\n",
       "      <td>0.0</td>\n",
       "      <td>0.0</td>\n",
       "      <td>...</td>\n",
       "      <td>False</td>\n",
       "      <td>Verspreide huizen Heijningen</td>\n",
       "      <td>17090809</td>\n",
       "      <td>1986-04</td>\n",
       "      <td>25.0</td>\n",
       "      <td>Mannelijk</td>\n",
       "      <td>Nederland</td>\n",
       "      <td>Vaccinated</td>\n",
       "      <td>Vaccinated</td>\n",
       "      <td>Vaccinated</td>\n",
       "    </tr>\n",
       "    <tr>\n",
       "      <th>2</th>\n",
       "      <td>4708NK</td>\n",
       "      <td>13</td>\n",
       "      <td>2987137</td>\n",
       "      <td>1.0</td>\n",
       "      <td>0.0</td>\n",
       "      <td>0.0</td>\n",
       "      <td>1.0</td>\n",
       "      <td>0.0</td>\n",
       "      <td>0.0</td>\n",
       "      <td>0.0</td>\n",
       "      <td>...</td>\n",
       "      <td>False</td>\n",
       "      <td>Weihoek-Oost</td>\n",
       "      <td>16740705</td>\n",
       "      <td>1977-02</td>\n",
       "      <td>34.0</td>\n",
       "      <td>Vrouwelijk</td>\n",
       "      <td>Nederland</td>\n",
       "      <td>Vaccinated</td>\n",
       "      <td>Vaccinated</td>\n",
       "      <td>Vaccinated</td>\n",
       "    </tr>\n",
       "    <tr>\n",
       "      <th>3</th>\n",
       "      <td>4708KL</td>\n",
       "      <td>131</td>\n",
       "      <td>2987138</td>\n",
       "      <td>1.0</td>\n",
       "      <td>0.0</td>\n",
       "      <td>0.0</td>\n",
       "      <td>1.0</td>\n",
       "      <td>0.0</td>\n",
       "      <td>0.0</td>\n",
       "      <td>0.0</td>\n",
       "      <td>...</td>\n",
       "      <td>False</td>\n",
       "      <td>Tolberg-West</td>\n",
       "      <td>16740703</td>\n",
       "      <td>1984-03</td>\n",
       "      <td>27.0</td>\n",
       "      <td>Vrouwelijk</td>\n",
       "      <td>Nederland</td>\n",
       "      <td>Vaccinated</td>\n",
       "      <td>Vaccinated</td>\n",
       "      <td>Vaccinated</td>\n",
       "    </tr>\n",
       "    <tr>\n",
       "      <th>4</th>\n",
       "      <td>4614RK</td>\n",
       "      <td>18</td>\n",
       "      <td>2987140</td>\n",
       "      <td>1.0</td>\n",
       "      <td>0.0</td>\n",
       "      <td>0.0</td>\n",
       "      <td>1.0</td>\n",
       "      <td>0.0</td>\n",
       "      <td>0.0</td>\n",
       "      <td>0.0</td>\n",
       "      <td>...</td>\n",
       "      <td>False</td>\n",
       "      <td>Meilust Zuid</td>\n",
       "      <td>07480100</td>\n",
       "      <td>1985-06</td>\n",
       "      <td>26.0</td>\n",
       "      <td>Mannelijk</td>\n",
       "      <td>Nederland</td>\n",
       "      <td>Vaccinated</td>\n",
       "      <td>Vaccinated</td>\n",
       "      <td>Vaccinated</td>\n",
       "    </tr>\n",
       "  </tbody>\n",
       "</table>\n",
       "<p>5 rows × 23 columns</p>\n",
       "</div>"
      ],
      "text/plain": [
       "  Postcode  Huisnummer Clientnummer  B.M.R.  DKTP  DKTP-booster  DTP  Hib  \\\n",
       "0   4907NV           7      2986905     1.0   0.0           0.0  1.0  0.0   \n",
       "1   4794RC          71      2987112     1.0   0.0           0.0  1.0  0.0   \n",
       "2   4708NK          13      2987137     1.0   0.0           0.0  1.0  0.0   \n",
       "3   4708KL         131      2987138     1.0   0.0           0.0  1.0  0.0   \n",
       "4   4614RK          18      2987140     1.0   0.0           0.0  1.0  0.0   \n",
       "\n",
       "   Pneu  Excluded  ...  Tweeling                     Buurt_BRP  \\\n",
       "0   0.0       0.0  ...     False                Schildersbuurt   \n",
       "1   0.0       0.0  ...     False  Verspreide huizen Heijningen   \n",
       "2   0.0       0.0  ...     False                  Weihoek-Oost   \n",
       "3   0.0       0.0  ...     False                  Tolberg-West   \n",
       "4   0.0       0.0  ...     False                  Meilust Zuid   \n",
       "\n",
       "  CBS_Buurtcode_BRP  GeboortejaarmaandBiologischeMoeder  \\\n",
       "0          08260605                             1978-05   \n",
       "1          17090809                             1986-04   \n",
       "2          16740705                             1977-02   \n",
       "3          16740703                             1984-03   \n",
       "4          07480100                             1985-06   \n",
       "\n",
       "  LeeftijdBiologischeMoederBijGeboorte    Geslacht Geboorteland  \\\n",
       "0                                 33.0   Mannelijk    Nederland   \n",
       "1                                 25.0   Mannelijk    Nederland   \n",
       "2                                 34.0  Vrouwelijk    Nederland   \n",
       "3                                 27.0  Vrouwelijk    Nederland   \n",
       "4                                 26.0   Mannelijk    Nederland   \n",
       "\n",
       "   Schoolgaanden_status_B.M.R. Schoolgaanden_status_DTP Schoolgaanden_status  \n",
       "0                   Vaccinated               Vaccinated           Vaccinated  \n",
       "1                   Vaccinated               Vaccinated           Vaccinated  \n",
       "2                   Vaccinated               Vaccinated           Vaccinated  \n",
       "3                   Vaccinated               Vaccinated           Vaccinated  \n",
       "4                   Vaccinated               Vaccinated           Vaccinated  \n",
       "\n",
       "[5 rows x 23 columns]"
      ]
     },
     "execution_count": 69,
     "metadata": {},
     "output_type": "execute_result"
    }
   ],
   "source": [
    "# Show head\n",
    "print(df_observaties.shape)\n",
    "df_observaties.head()"
   ]
  },
  {
   "cell_type": "markdown",
   "metadata": {},
   "source": [
    "### 5. Add missing CBS_Buurtcodes with 'Oproeplijst'-postcodes"
   ]
  },
  {
   "cell_type": "code",
   "execution_count": 70,
   "metadata": {},
   "outputs": [],
   "source": [
    "# Import municipalities to a pandas df\n",
    "df_cbs = pd.read_excel('4_Data/2b-GWB2023_PC6.xlsx')\n",
    "\n",
    "# Select only buurtcolumns\n",
    "df_cbs = df_cbs.drop(columns=['GemCode', 'GemNaam', 'WijkCode', 'Wijknaam', 'AantalAdressen'])\n",
    "\n",
    "# Remove the first two characters of every value in BuurtCode\n",
    "df_cbs['BuurtCode'] = df_cbs['BuurtCode'].apply(lambda x: x[2:] if x[:2] == 'BU' else x)\n",
    "\n",
    "# Keep only first rows of each unique PC6\n",
    "df_cbs = df_cbs.drop_duplicates(subset='PC6')\n",
    "\n",
    "# Rename PC6 to Postcode\n",
    "df_cbs = df_cbs.rename(columns={'PC6': 'Postcode'})\n",
    "\n",
    "# Merge\n",
    "df_observaties = df_observaties.merge(df_cbs, on='Postcode', how='left')"
   ]
  },
  {
   "cell_type": "code",
   "execution_count": 71,
   "metadata": {},
   "outputs": [
    {
     "data": {
      "text/plain": [
       "Index(['Postcode', 'Huisnummer', 'Clientnummer', 'B.M.R.', 'DKTP',\n",
       "       'DKTP-booster', 'DTP', 'Hib', 'Pneu', 'Excluded', 'Hepatitis_B',\n",
       "       'MenACWY/MenC', 'Geboortejaarmaand', 'Tweeling', 'Buurt_BRP',\n",
       "       'CBS_Buurtcode_BRP', 'GeboortejaarmaandBiologischeMoeder',\n",
       "       'LeeftijdBiologischeMoederBijGeboorte', 'Geslacht', 'Geboorteland',\n",
       "       'Schoolgaanden_status_B.M.R.', 'Schoolgaanden_status_DTP',\n",
       "       'Schoolgaanden_status', 'BuurtCode', 'Buurtnaam'],\n",
       "      dtype='object')"
      ]
     },
     "execution_count": 71,
     "metadata": {},
     "output_type": "execute_result"
    }
   ],
   "source": [
    "df_observaties.columns"
   ]
  },
  {
   "cell_type": "code",
   "execution_count": 72,
   "metadata": {},
   "outputs": [
    {
     "data": {
      "text/plain": [
       "0.8295009610593009"
      ]
     },
     "execution_count": 72,
     "metadata": {},
     "output_type": "execute_result"
    }
   ],
   "source": [
    "# Check how often 'CBS_Buurtcode_BRP' is equal to 'BuurtCode'\n",
    "(df_observaties['CBS_Buurtcode_BRP'] == df_observaties['BuurtCode']).mean()"
   ]
  },
  {
   "cell_type": "code",
   "execution_count": 73,
   "metadata": {},
   "outputs": [],
   "source": [
    "# Impute missings in Buurt_BRP with Buurtnaam\n",
    "df_observaties['Buurt_BRP'] = df_observaties['Buurt_BRP'].fillna(df_observaties['Buurtnaam'])\n",
    "\n",
    "# Impute missings in CBS_Buurtcode_BRP with BuurtCode\n",
    "df_observaties['CBS_Buurtcode_BRP'] = df_observaties['CBS_Buurtcode_BRP'].fillna(df_observaties['BuurtCode'])\n",
    "\n",
    "# Drop columns\n",
    "df_observaties = df_observaties.drop(columns=['BuurtCode', 'Buurtnaam'])\n",
    "\n",
    "# Cast columns\n",
    "df_observaties = df_observaties.astype({'Buurt_BRP': 'category', 'CBS_Buurtcode_BRP': 'category'})"
   ]
  },
  {
   "cell_type": "markdown",
   "metadata": {},
   "source": [
    "### 6. Show results"
   ]
  },
  {
   "cell_type": "code",
   "execution_count": 74,
   "metadata": {},
   "outputs": [
    {
     "name": "stdout",
     "output_type": "stream",
     "text": [
      "Schoolgaanden_status\n",
      "Vaccinated        0.81868\n",
      "Not Vaccinated    0.18132\n",
      "Name: proportion, dtype: float64\n"
     ]
    }
   ],
   "source": [
    "# Calculate the percentages of Schoolgaanden\n",
    "schoolgaanden_rates = df_observaties['Schoolgaanden_status'].value_counts(normalize=True)\n",
    "print(schoolgaanden_rates)"
   ]
  },
  {
   "cell_type": "code",
   "execution_count": 75,
   "metadata": {},
   "outputs": [
    {
     "name": "stdout",
     "output_type": "stream",
     "text": [
      "2012\n",
      "Schoolgaanden_status\n",
      "Vaccinated        0.834541\n",
      "Not Vaccinated    0.165459\n",
      "Name: proportion, dtype: float64\n",
      "--------------------\n",
      "2013\n",
      "Schoolgaanden_status\n",
      "Vaccinated        0.802741\n",
      "Not Vaccinated    0.197259\n",
      "Name: proportion, dtype: float64\n"
     ]
    }
   ],
   "source": [
    "# Store yearmonths for subcategories\n",
    "cohort_2012 = pd.to_datetime(['201201', '201202', '201203', '201204', '201205', '201206', '201207', '201208', '201209', '201210', '201211', '201212'], format='%Y%m').to_period('M')\n",
    "cohort_2013 = pd.to_datetime(['201301', '201302', '201303', '201304', '201305', '201306', '201307', '201308', '201309', '201310', '201311', '201312'], format='%Y%m').to_period('M')\n",
    "\n",
    "# Calculate the percentages of Schoolgaanden for each status\n",
    "schoolgaanden_2012 = df_observaties[df_observaties['Geboortejaarmaand'].isin(cohort_2012)]\n",
    "schoolgaanden_2012_rates = schoolgaanden_2012['Schoolgaanden_status'].value_counts(normalize=True)\n",
    "\n",
    "# Calculate the percentages of Schoolgaanden for each status\n",
    "schoolgaanden_2013 = df_observaties[df_observaties['Geboortejaarmaand'].isin(cohort_2013)]\n",
    "schoolgaanden_2013_rates = schoolgaanden_2013['Schoolgaanden_status'].value_counts(normalize=True)\n",
    "\n",
    "# Print statusses per cohort\n",
    "print('2012')\n",
    "print(schoolgaanden_2012_rates)\n",
    "print('-'*20)\n",
    "print('2013')\n",
    "print(schoolgaanden_2013_rates)"
   ]
  },
  {
   "cell_type": "code",
   "execution_count": 76,
   "metadata": {},
   "outputs": [
    {
     "data": {
      "text/plain": [
       "(7041, 7006)"
      ]
     },
     "execution_count": 76,
     "metadata": {},
     "output_type": "execute_result"
    }
   ],
   "source": [
    "len(schoolgaanden_2012), len(schoolgaanden_2013)"
   ]
  },
  {
   "cell_type": "code",
   "execution_count": 77,
   "metadata": {},
   "outputs": [
    {
     "name": "stdout",
     "output_type": "stream",
     "text": [
      "Schoolgaanden 2012\n",
      "\n",
      "\n",
      "Schoolgaanden_status_B.M.R.\n",
      "Vaccinated        0.846613\n",
      "Not Vaccinated    0.153387\n",
      "Name: proportion, dtype: float64\n",
      "\n",
      "\n",
      "Schoolgaanden_status_DTP\n",
      "Vaccinated        0.842352\n",
      "Not Vaccinated    0.157648\n",
      "Name: proportion, dtype: float64\n",
      "--------------------\n",
      "Schoolgaanden 2013\n",
      "\n",
      "\n",
      "Schoolgaanden_status_B.M.R.\n",
      "Vaccinated        0.813303\n",
      "Not Vaccinated    0.186697\n",
      "Name: proportion, dtype: float64\n",
      "\n",
      "\n",
      "Schoolgaanden_status_DTP\n",
      "Vaccinated        0.814445\n",
      "Not Vaccinated    0.185555\n",
      "Name: proportion, dtype: float64\n"
     ]
    }
   ],
   "source": [
    "# Calculate the percentages of Schoolgaanden for each status\n",
    "schoolgaanden_2012 = df_observaties[df_observaties['Geboortejaarmaand'].isin(cohort_2012)]\n",
    "schoolgaanden_2012_rates_BMR = schoolgaanden_2012['Schoolgaanden_status_B.M.R.'].value_counts(normalize=True)\n",
    "schoolgaanden_2012_rates_DTP = schoolgaanden_2012['Schoolgaanden_status_DTP'].value_counts(normalize=True)\n",
    "\n",
    "# Calculate the percentages of Schoolgaanden for each status\n",
    "schoolgaanden_2013 = df_observaties[df_observaties['Geboortejaarmaand'].isin(cohort_2013)]\n",
    "schoolgaanden_2013_rates_BMR = schoolgaanden_2013['Schoolgaanden_status_B.M.R.'].value_counts(normalize=True)\n",
    "schoolgaanden_2013_rates_DTP = schoolgaanden_2013['Schoolgaanden_status_DTP'].value_counts(normalize=True)\n",
    "\n",
    "# Print statusses]\n",
    "print('Schoolgaanden 2012')\n",
    "print('\\n')\n",
    "print(schoolgaanden_2012_rates_BMR)\n",
    "print('\\n')\n",
    "print(schoolgaanden_2012_rates_DTP)\n",
    "print('-'*20)\n",
    "print('Schoolgaanden 2013')\n",
    "print('\\n')\n",
    "print(schoolgaanden_2013_rates_BMR)\n",
    "print('\\n')\n",
    "print(schoolgaanden_2013_rates_DTP)"
   ]
  },
  {
   "cell_type": "code",
   "execution_count": 78,
   "metadata": {},
   "outputs": [],
   "source": [
    "# Define a list of all the variables\n",
    "variables_schoolgaanden = [schoolgaanden_2012_rates_BMR,\n",
    "                           schoolgaanden_2013_rates_BMR,\n",
    "                           schoolgaanden_2012_rates_DTP,\n",
    "                           schoolgaanden_2013_rates_DTP]\n",
    "                           \n",
    "# Store the vaccinated percentages\n",
    "vaccinated_schoolgaanden = [variable['Vaccinated']*100 for variable in variables_schoolgaanden]\n",
    "\n",
    "# Define a list of the cohorts\n",
    "variable_names_schoolgaanden = ['BMR 2012', 'BMR 2013', 'DTP 2012', 'DTP 2013']"
   ]
  },
  {
   "cell_type": "code",
   "execution_count": 79,
   "metadata": {},
   "outputs": [
    {
     "name": "stdout",
     "output_type": "stream",
     "text": [
      "<class 'seaborn.palettes._ColorPalette'>\n"
     ]
    }
   ],
   "source": [
    "print(type(sns.color_palette()))"
   ]
  },
  {
   "cell_type": "code",
   "execution_count": 80,
   "metadata": {},
   "outputs": [
    {
     "data": {
      "image/png": "[encoded data removed]",
      "text/plain": [
       "<Figure size 1200x600 with 1 Axes>"
      ]
     },
     "metadata": {},
     "output_type": "display_data"
    }
   ],
   "source": [
    "# Create a figure with 1 subplot\n",
    "fig, ax = plt.subplots(1, 1, figsize=(12, 6))\n",
    "\n",
    "# Plot the vaccinated percentages\n",
    "bars = ax.bar(variable_names_schoolgaanden, vaccinated_schoolgaanden)\n",
    "\n",
    "# Initialize color palette and counters\n",
    "color = sns.color_palette()\n",
    "color_nr = 0\n",
    "iteration_nr = -1\n",
    "\n",
    "# Annotate bars with the percentage values and set colors\n",
    "for bar in bars:\n",
    "    yval = bar.get_height()\n",
    "    ax.text(bar.get_x() + bar.get_width() / 2.0, yval, round(yval), va='bottom')\n",
    "    ax.set_xticklabels(ax.get_xticklabels(), rotation=45, ha='right')\n",
    "    \n",
    "    # Set colors for bars\n",
    "    bar.set_color(color[color_nr])\n",
    "    if iteration_nr % 2 == 0:\n",
    "        color_nr += 6\n",
    "    iteration_nr += 1\n",
    "\n",
    "# Add title and y-axis label\n",
    "ax.set_title('Vaccinatiepercentages schoolgaanden')\n",
    "ax.set_ylabel('Vaccinatiepercentages (%)')\n",
    "\n",
    "# Show the plot\n",
    "plt.tight_layout()\n",
    "plt.savefig('9_Results/Schoolgaanden/Vaccinatiepercentages_schoolgaanden.jpg', dpi=300)\n",
    "plt.show()"
   ]
  },
  {
   "cell_type": "markdown",
   "metadata": {},
   "source": [
    "## 7. Visualize geographically"
   ]
  },
  {
   "cell_type": "code",
   "execution_count": 81,
   "metadata": {},
   "outputs": [],
   "source": [
    "# From df_observaties calculate the percentages of 'Schoolgaanden_status' per unique CBS_Buurtcode_BRP\n",
    "buurt_percentages = df_observaties.groupby('CBS_Buurtcode_BRP')['Schoolgaanden_status'].value_counts(normalize=True).unstack().fillna(0)\n",
    "\n",
    "# Reset index\n",
    "buurt_percentages = buurt_percentages.reset_index()"
   ]
  },
  {
   "cell_type": "code",
   "execution_count": 82,
   "metadata": {},
   "outputs": [],
   "source": [
    "# Reading GeoPackage file\n",
    "cbs_df = gpd.read_file('4_Data/Polygons/buurten_2023_v1.shp')\n",
    "\n",
    "# Replace every -99997 with NaN\n",
    "cbs_df = cbs_df.replace(-99997, np.nan)\n",
    "\n",
    "# From every row in 'BU_CODE' remove the first two characters\n",
    "cbs_df['BU_CODE'] = cbs_df['BU_CODE'].astype(str).str[2:]\n",
    "\n",
    "# Filter the df_pc4 to only include the relevant municipalities\n",
    "cbs_df = cbs_df[cbs_df['BU_CODE'].isin(df_observaties['CBS_Buurtcode_BRP'].unique())]\n",
    "\n",
    "# Define list of relevant municipalities\n",
    "municipalities = ['Alphen-Chaam',\n",
    "                  'Altena',\n",
    "                  'Baarle-Nassau',\n",
    "                  'Breda',\n",
    "                  'Drimmelen',\n",
    "                  'Etten-Leur',\n",
    "                  'Geertruidenberg',\n",
    "                  'Halderberge',\n",
    "                  'Oosterhout',\n",
    "                  'Zundert',\n",
    "                  'Moerdijk',\n",
    "                  'Roosendaal',\n",
    "                  'Rucphen',\n",
    "                  'Steenbergen',\n",
    "                  'Woensdrecht',\n",
    "                  'Bergen op Zoom']\n",
    "\n",
    "# Filter the df_pc4 to only include the relevant municipalities\n",
    "cbs_df = cbs_df[cbs_df['GM_NAAM'].isin(municipalities)]"
   ]
  },
  {
   "cell_type": "code",
   "execution_count": 83,
   "metadata": {},
   "outputs": [],
   "source": [
    "# Merge polygons with percentages\n",
    "gdf = cbs_df.merge(buurt_percentages[['CBS_Buurtcode_BRP', 'Vaccinated']], left_on='BU_CODE', right_on='CBS_Buurtcode_BRP', how='left')\n",
    "\n",
    "# Change proportions to percentages\n",
    "gdf['Vaccinated'] = (gdf['Vaccinated'] * 100).round(0)"
   ]
  },
  {
   "cell_type": "code",
   "execution_count": 84,
   "metadata": {},
   "outputs": [
    {
     "data": {
      "image/png": "[encoded data removed]",
      "text/plain": [
       "<Figure size 1000x1000 with 1 Axes>"
      ]
     },
     "metadata": {},
     "output_type": "display_data"
    }
   ],
   "source": [
    "# Create a unidirectional colormap (e.g., from light to dark red)\n",
    "cmap = mcolors.LinearSegmentedColormap.from_list('unidirectional', ['lightcoral', 'darkred'])\n",
    "\n",
    "# Dissolve neighborhoods into municipalities\n",
    "municipalities_gdf = gdf.dissolve(by='GM_NAAM')\n",
    "\n",
    "# Create a figure and axis with a grey background\n",
    "fig, ax = plt.subplots(1, 1, figsize=(10, 10))\n",
    "\n",
    "# Plot chloropeth map\n",
    "gdf.plot(column='Vaccinated',\n",
    "         cmap=cmap,\n",
    "         scheme='quantiles',\n",
    "         k=5,\n",
    "         legend=True,\n",
    "         ax=ax,\n",
    "         edgecolor='grey',\n",
    "         legend_kwds={'loc': 'upper left'})\n",
    "\n",
    "# Overlay municipality boundaries with black edges\n",
    "municipalities_gdf.boundary.plot(ax=ax, edgecolor='black')\n",
    "\n",
    "# Plot municipality names\n",
    "for idx, row in municipalities_gdf.iterrows():\n",
    "    plt.annotate(text=row.name, xy=(row['geometry'].centroid.x, row['geometry'].centroid.y),\n",
    "                 horizontalalignment='center', fontsize=10, fontweight='bold', color='black')\n",
    "\n",
    "# Remove axis\n",
    "ax.set_axis_off()\n",
    "\n",
    "# Add title\n",
    "plt.suptitle('Percentages gevaccineerde zuigelingen per CBS buurt', fontsize=16)\n",
    "plt.title('Op basis van 5 door \\'Natural Breaks\\' geoptimaliseerde categorieën')\n",
    "plt.tight_layout()\n",
    "plt.savefig('9_Results/Schoolgaanden/Vaccinatiepercentages_schoolgaanden_buurten.jpg', dpi=300)\n",
    "plt.show()"
   ]
  },
  {
   "cell_type": "markdown",
   "metadata": {},
   "source": [
    "## 8. Save as .pkl"
   ]
  },
  {
   "cell_type": "code",
   "execution_count": 85,
   "metadata": {},
   "outputs": [],
   "source": [
    "# Save df_observaties as .pkl file\n",
    "df_observaties.to_pickle('4_Data/Pickles/schoolgaanden_observaties.pkl')"
   ]
  },
  {
   "cell_type": "code",
   "execution_count": 86,
   "metadata": {},
   "outputs": [
    {
     "data": {
      "text/plain": [
       "Postcode                                0.000000\n",
       "Huisnummer                              0.000000\n",
       "Clientnummer                            0.000000\n",
       "B.M.R.                                  0.000000\n",
       "DKTP                                    0.000000\n",
       "DKTP-booster                            0.000000\n",
       "DTP                                     0.000000\n",
       "Hib                                     0.000000\n",
       "Pneu                                    0.000000\n",
       "Excluded                                0.000000\n",
       "Hepatitis_B                             0.000000\n",
       "MenACWY/MenC                            0.000000\n",
       "Geboortejaarmaand                       0.000000\n",
       "Tweeling                                0.093472\n",
       "Buurt_BRP                               0.000000\n",
       "CBS_Buurtcode_BRP                       0.000000\n",
       "GeboortejaarmaandBiologischeMoeder      0.319712\n",
       "LeeftijdBiologischeMoederBijGeboorte    0.319712\n",
       "Geslacht                                0.000000\n",
       "Geboorteland                            0.093472\n",
       "Schoolgaanden_status_B.M.R.             0.000000\n",
       "Schoolgaanden_status_DTP                0.000000\n",
       "Schoolgaanden_status                    0.000000\n",
       "dtype: float64"
      ]
     },
     "execution_count": 86,
     "metadata": {},
     "output_type": "execute_result"
    }
   ],
   "source": [
    "df_observaties.isna().mean()"
   ]
  }
 ],
 "metadata": {
  "kernelspec": {
   "display_name": "Python 3",
   "language": "python",
   "name": "python3"
  },
  "language_info": {
   "codemirror_mode": {
    "name": "ipython",
    "version": 3
   },
   "file_extension": ".py",
   "mimetype": "text/x-python",
   "name": "python",
   "nbconvert_exporter": "python",
   "pygments_lexer": "ipython3",
   "version": "3.12.5"
  }
 },
 "nbformat": 4,
 "nbformat_minor": 2
}
