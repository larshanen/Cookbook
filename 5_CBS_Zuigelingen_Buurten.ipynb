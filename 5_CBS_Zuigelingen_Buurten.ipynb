{
 "cells": [
  {
   "cell_type": "markdown",
   "metadata": {},
   "source": [
    "### 1. Import modules"
   ]
  },
  {
   "cell_type": "code",
   "execution_count": 1,
   "metadata": {},
   "outputs": [],
   "source": [
    "import warnings\n",
    "warnings.filterwarnings('ignore')\n",
    "\n",
    "import pandas as pd"
   ]
  },
  {
   "cell_type": "markdown",
   "metadata": {},
   "source": [
    "### 2. Import schoolgaanden to Pandas dataframe"
   ]
  },
  {
   "cell_type": "code",
   "execution_count": 2,
   "metadata": {},
   "outputs": [],
   "source": [
    "# Import pickles\n",
    "df_zuigelingen = pd.read_pickle('4_Data\\Pickles\\zuigelingen_observaties.pkl')\n",
    "\n",
    "# Save only columns PersonNr and Postcode\n",
    "df_zuigelingen_buurt = df_zuigelingen[['Clientnummer', 'BuurtCode']]"
   ]
  },
  {
   "cell_type": "code",
   "execution_count": 3,
   "metadata": {},
   "outputs": [
    {
     "name": "stdout",
     "output_type": "stream",
     "text": [
      "Clientnummer    0.0\n",
      "BuurtCode       0.0\n",
      "dtype: float64\n"
     ]
    }
   ],
   "source": [
    "# Print missingness percentages in the data\n",
    "print(df_zuigelingen_buurt.isnull().mean())"
   ]
  },
  {
   "cell_type": "markdown",
   "metadata": {},
   "source": [
    "### 3. Import CBS .csv"
   ]
  },
  {
   "cell_type": "code",
   "execution_count": 4,
   "metadata": {},
   "outputs": [],
   "source": [
    "# Reading csv to pandas dataframe\n",
    "input_file = '4_Data\\Kerncijfers_wijken_en_buurten_2022_25062024_152855.csv'\n",
    "cbs_df = pd.read_csv(input_file, delimiter=';')"
   ]
  },
  {
   "cell_type": "code",
   "execution_count": 5,
   "metadata": {},
   "outputs": [
    {
     "name": "stdout",
     "output_type": "stream",
     "text": [
      "Clientnummer                                                                                           0.000000\n",
      "Bevolking/Aantal inwoners (aantal)                                                                     0.000000\n",
      "Bevolking/Burgerlijke staat/Gehuwd (aantal)                                                            0.000000\n",
      "Bevolking/Burgerlijke staat/Gescheiden (aantal)                                                        0.000000\n",
      "Bevolking/Personen met een migratieachtergrond/Niet-westers/Marokko (aantal)                           0.000000\n",
      "Bevolking/Personen met een migratieachtergrond/Niet-westers/Nederlandse Antillen en Aruba (aantal)     0.000000\n",
      "Bevolking/Personen met een migratieachtergrond/Niet-westers/Suriname (aantal)                          0.000000\n",
      "Bevolking/Personen met een migratieachtergrond/Niet-westers/Turkije (aantal)                           0.000000\n",
      "Bevolking/Personen met een migratieachtergrond/Niet-westers/Overig niet-westers (aantal)               0.000000\n",
      "Opleidingsniveau/Opleidingsniveau laag  (aantal)                                                       0.408618\n",
      "Opleidingsniveau/Opleidingsniveau hoog  (aantal)                                                       0.408618\n",
      "Arbeid/Nettoarbeidsparticipatie (%)                                                                    0.872957\n",
      "Inkomen/Inkomen van personen/Gemiddeld inkomen per inkomensontvanger  (x 1 000 euro)                  66.103269\n",
      "Inkomen/Inkomen van personen/Gemiddeld inkomen per inwoner  (x 1 000 euro)                            61.552749\n",
      "Inkomen/Inkomen van personen/40% personen met laagste inkomen (%)                                      0.408618\n",
      "Inkomen/Inkomen van personen/20% personen met hoogste inkomen (%)                                      0.408618\n",
      "Inkomen/Inkomen van huishoudens/Gem. gestandaardiseerd inkomen van huish (x 1 000 euro)               86.979941\n",
      "Inkomen/Inkomen van huishoudens/40% huishoudens met laagste inkomen (%)                                1.541605\n",
      "Inkomen/Inkomen van huishoudens/20% huishoudens met hoogste inkomen (%)                                1.541605\n",
      "Inkomen/Inkomen van huishoudens/Huishoudens met een laag inkomen (%)                                   1.764487\n",
      "Inkomen/Inkomen van huishoudens/Huish. onder of rond sociaal minimum (%)                               1.764487\n",
      "Inkomen/Inkomen van huishoudens/Huishoudens tot 110% van sociaal minimum (%)                           1.764487\n",
      "Inkomen/Inkomen van huishoudens/Huishoudens tot 120% van sociaal minimum (%)                           1.764487\n",
      "Inkomen/Inkomen van huishoudens/Mediaan vermogen van particuliere huish. (x 1 000 euro)                1.541605\n",
      "Sociale zekerheid/Personen per soort uitkering; Bijstand (aantal)                                      0.111441\n",
      "Sociale zekerheid/Personen per soort uitkering; AO (aantal)                                            0.111441\n",
      "Sociale zekerheid/Personen per soort uitkering; WW (aantal)                                            0.111441\n",
      "Sociale zekerheid/Personen per soort uitkering; AOW (aantal)                                           0.111441\n",
      "Zorg/Jongeren met jeugdzorg in natura  (aantal)                                                        4.550520\n",
      "Zorg/Percentage jongeren met jeugdzorg  (%)                                                            4.550520\n",
      "Motorvoertuigen/Personenauto's/Personenauto's per huishouden (per huishouden)                          1.411590\n",
      "dtype: float64\n"
     ]
    }
   ],
   "source": [
    "# Rename Regioaanduiding/Codering (code) to CBS_Buurtcode_BRP\n",
    "cbs_df.rename(columns={'Regioaanduiding/Codering (code)': 'BuurtCode'}, inplace=True)\n",
    "\n",
    "# From CBS_Buurtcode_BRP remove first two characters if they are 'BU'\n",
    "cbs_df['BuurtCode'] = cbs_df['BuurtCode'].apply(lambda x: x[2:] if x[:2] == 'BU' else x)\n",
    "\n",
    "# Merge\n",
    "zuigelingen_buurt = pd.merge(df_zuigelingen_buurt, cbs_df, on='BuurtCode', how='left')\n",
    "\n",
    "# Drop columns postcode and geometry\n",
    "zuigelingen_buurt = zuigelingen_buurt.drop(columns=['BuurtCode', 'Wijken en buurten'])\n",
    "\n",
    "# Set Clietnummer dtype to object\n",
    "zuigelingen_buurt['Clientnummer'] = zuigelingen_buurt['Clientnummer'].astype('str')\n",
    "\n",
    "# Print the amount of NaN values per column as percentages\n",
    "print(zuigelingen_buurt.isna().sum() / len(zuigelingen_buurt) * 100)"
   ]
  },
  {
   "cell_type": "code",
   "execution_count": 6,
   "metadata": {},
   "outputs": [
    {
     "data": {
      "text/plain": [
       "5384"
      ]
     },
     "execution_count": 6,
     "metadata": {},
     "output_type": "execute_result"
    }
   ],
   "source": [
    "len(zuigelingen_buurt)"
   ]
  },
  {
   "cell_type": "markdown",
   "metadata": {},
   "source": [
    "### 4. Save .pkl's"
   ]
  },
  {
   "cell_type": "code",
   "execution_count": 7,
   "metadata": {},
   "outputs": [],
   "source": [
    "# Save as a pickle\n",
    "zuigelingen_buurt.to_pickle('4_Data\\Pickles\\zuigelingen_buurt.pkl')"
   ]
  }
 ],
 "metadata": {
  "kernelspec": {
   "display_name": "Python 3",
   "language": "python",
   "name": "python3"
  },
  "language_info": {
   "codemirror_mode": {
    "name": "ipython",
    "version": 3
   },
   "file_extension": ".py",
   "mimetype": "text/x-python",
   "name": "python",
   "nbconvert_exporter": "python",
   "pygments_lexer": "ipython3",
   "version": "3.12.5"
  }
 },
 "nbformat": 4,
 "nbformat_minor": 2
}
