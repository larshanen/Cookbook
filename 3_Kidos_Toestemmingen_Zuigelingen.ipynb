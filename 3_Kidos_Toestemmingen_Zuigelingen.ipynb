{
 "cells": [
  {
   "cell_type": "markdown",
   "metadata": {},
   "source": [
    "### 1. Import modules"
   ]
  },
  {
   "cell_type": "code",
   "execution_count": 1,
   "metadata": {},
   "outputs": [],
   "source": [
    "import warnings\n",
    "warnings.filterwarnings('ignore')\n",
    "\n",
    "import pyodbc\n",
    "import pandas as pd\n",
    "import numpy as np"
   ]
  },
  {
   "cell_type": "markdown",
   "metadata": {},
   "source": [
    "### 2. Import data to Pandas dataframe (Kidos_Toestemmingen)"
   ]
  },
  {
   "cell_type": "code",
   "execution_count": 2,
   "metadata": {},
   "outputs": [],
   "source": [
    "# Import pickles\n",
    "df_zuigelingen = pd.read_pickle('4_Data\\Pickles\\zuigelingen_observaties.pkl')"
   ]
  },
  {
   "cell_type": "code",
   "execution_count": 3,
   "metadata": {},
   "outputs": [],
   "source": [
    "# Set to True or False depending on whether you want to import new data\n",
    "NEWIMPORT = False\n",
    "\n",
    "if NEWIMPORT:\n",
    "    # Replace server name if source changes\n",
    "    server = 'AZ-ODB0\\ODBWB'\n",
    "    database = 'OnderzoeksDB_WB'\n",
    "\n",
    "    # Create a connection string\n",
    "    connection_string = f'DRIVER={{SQL Server}};SERVER={server};DATABASE={database}'\n",
    "\n",
    "    # Establish connection\n",
    "    connection = pyodbc.connect(connection_string)\n",
    "\n",
    "    # Define columns to select\n",
    "    selected_columns = ['FK_CLIENT_ID',\n",
    "                        'TOESTEMMINGSVRAAG',\n",
    "                        'ANTWOORD',\n",
    "                        'BEGINDATUM']\n",
    "\n",
    "    # Define a list of Clientnummers to include\n",
    "    included_clientnummers = df_zuigelingen['Clientnummer'].unique()\n",
    "    print(len(included_clientnummers))\n",
    "\n",
    "    # Create SQL query string with specific columns and inclusion criteria\n",
    "    query = f'SELECT {', '.join(selected_columns)} FROM Kidos_TOESTEMMINGEN WHERE FK_CLIENT_ID IN ({', '.join(included_clientnummers)})'\n",
    "\n",
    "    # Execute the query and fetch the data into a Pandas DataFrame\n",
    "    df_toestemmingen_og = pd.read_sql(query, connection)\n",
    "\n",
    "    # Close the connection\n",
    "    connection.close()\n",
    "\n",
    "    # Save df_contactmomenten_og as a pickle\n",
    "    df_toestemmingen_og.to_pickle('4_Data\\Pickles\\\\toestemmingen_zuigelingen_og.pkl')\n",
    "else:\n",
    "    # Load the pickle\n",
    "    df_toestemmingen_og = pd.read_pickle('4_Data\\Pickles\\\\toestemmingen_zuigelingen_og.pkl')"
   ]
  },
  {
   "cell_type": "markdown",
   "metadata": {},
   "source": [
    "### 3. Process"
   ]
  },
  {
   "cell_type": "code",
   "execution_count": 4,
   "metadata": {},
   "outputs": [],
   "source": [
    "# Store copy of unique records of df_og in df\n",
    "df_toestemmingen = df_toestemmingen_og.drop_duplicates()"
   ]
  },
  {
   "cell_type": "code",
   "execution_count": 5,
   "metadata": {},
   "outputs": [
    {
     "name": "stdout",
     "output_type": "stream",
     "text": [
      "The amount of relations in the df_contactmomenten is: 26238, the amount of unique client ID's is: 8295\n"
     ]
    }
   ],
   "source": [
    "print(f'The amount of relations in the df_contactmomenten is: {len(df_toestemmingen)}, the amount of unique client ID\\'s is: {len(df_toestemmingen['FK_CLIENT_ID'].unique())}')"
   ]
  },
  {
   "cell_type": "code",
   "execution_count": 6,
   "metadata": {},
   "outputs": [],
   "source": [
    "# Remove all rows where Observatie_waarde != 'Toestemming gegevensuitwisseling RVP'\n",
    "toestemmingen_rvp = df_toestemmingen[df_toestemmingen['TOESTEMMINGSVRAAG'] == 'Toestemming gegevensuitwisseling RVP']\n",
    "\n",
    "# Get most recent 'toestemmingen'\n",
    "zuigelingen_toestemmingen_rvp = toestemmingen_rvp.groupby('FK_CLIENT_ID')['BEGINDATUM'].idxmax()\n",
    "\n",
    "# Get all the indices (.values) from the df\n",
    "most_recent = toestemmingen_rvp.loc[zuigelingen_toestemmingen_rvp.values]\n",
    "\n",
    "# Select only constant variables, observaties will be added later\n",
    "zuigelingen_toestemmingen = most_recent[['FK_CLIENT_ID', 'ANTWOORD']]\n",
    "\n",
    "# In column ANTWOORD replace 'wel toestemming' with 1 and 'geen toestemming' with 0\n",
    "zuigelingen_toestemmingen['ANTWOORD'] = np.where(zuigelingen_toestemmingen['ANTWOORD'] == 'wel toestemming', 1, 0)\n",
    "\n",
    "# Get the ID's and ANTWOORD and rename the columns\n",
    "zuigelingen_toestemmingen = zuigelingen_toestemmingen[['FK_CLIENT_ID', 'ANTWOORD']]\n",
    "zuigelingen_toestemmingen.columns = ['Clientnummer', 'Toestemming']"
   ]
  },
  {
   "cell_type": "code",
   "execution_count": 7,
   "metadata": {},
   "outputs": [
    {
     "name": "stdout",
     "output_type": "stream",
     "text": [
      "The amount of relations in the df_contactmomenten is: 7683, the amount of unique client ID's is: 7683\n"
     ]
    }
   ],
   "source": [
    "print(f'The amount of relations in the df_contactmomenten is: {len(zuigelingen_toestemmingen)}, the amount of unique client ID\\'s is: {len(zuigelingen_toestemmingen['Clientnummer'].unique())}')"
   ]
  },
  {
   "cell_type": "markdown",
   "metadata": {},
   "source": [
    "### 4. Save as .pkl"
   ]
  },
  {
   "cell_type": "code",
   "execution_count": 8,
   "metadata": {},
   "outputs": [],
   "source": [
    "# Save zuigelingen_toestemmingen as a pickle\n",
    "zuigelingen_toestemmingen.to_pickle('4_Data\\Pickles\\zuigelingen_toestemmingen.pkl')"
   ]
  }
 ],
 "metadata": {
  "kernelspec": {
   "display_name": "Python 3",
   "language": "python",
   "name": "python3"
  },
  "language_info": {
   "codemirror_mode": {
    "name": "ipython",
    "version": 3
   },
   "file_extension": ".py",
   "mimetype": "text/x-python",
   "name": "python",
   "nbconvert_exporter": "python",
   "pygments_lexer": "ipython3",
   "version": "3.12.5"
  }
 },
 "nbformat": 4,
 "nbformat_minor": 2
}
