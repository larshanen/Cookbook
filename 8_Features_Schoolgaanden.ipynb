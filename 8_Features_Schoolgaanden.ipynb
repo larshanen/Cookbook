{
 "cells": [
  {
   "cell_type": "markdown",
   "metadata": {},
   "source": [
    "### 1. Import modules"
   ]
  },
  {
   "cell_type": "code",
   "execution_count": 1,
   "metadata": {},
   "outputs": [],
   "source": [
    "import warnings\n",
    "warnings.filterwarnings('ignore')\n",
    "\n",
    "import pandas as pd\n",
    "import numpy as np\n",
    "import re\n",
    "import pickle\n",
    "import matplotlib.pyplot as plt\n",
    "from matplotlib.ticker import FuncFormatter\n",
    "from sklearn.experimental import enable_iterative_imputer\n",
    "from sklearn.impute import IterativeImputer\n",
    "from sklearn.ensemble import RandomForestRegressor\n",
    "from sklearn.preprocessing import RobustScaler"
   ]
  },
  {
   "cell_type": "code",
   "execution_count": 2,
   "metadata": {},
   "outputs": [],
   "source": [
    "# True on 'instances' means sample 10% of the data, to speed up the script\n",
    "TEST_instances = False\n",
    "\n",
    "# True on 'iterations' means run the script for (only) 3 iterations instead of 10\n",
    "TEST_iterations = False"
   ]
  },
  {
   "cell_type": "markdown",
   "metadata": {},
   "source": [
    "### 2. Merge .pkl's"
   ]
  },
  {
   "cell_type": "code",
   "execution_count": 3,
   "metadata": {},
   "outputs": [],
   "source": [
    "# schoolgaanden\n",
    "schoolgaanden = pd.read_pickle('4_Data\\Pickles\\schoolgaanden.pkl')"
   ]
  },
  {
   "cell_type": "code",
   "execution_count": 4,
   "metadata": {},
   "outputs": [],
   "source": [
    "# Replace all types of whitespace characters with an underscore and delete all special characters\n",
    "schoolgaanden.columns = schoolgaanden.columns.str.replace(r'\\s+', '_', regex=True)\n",
    "schoolgaanden.columns = schoolgaanden.columns.str.replace(r'\\W+', '', regex=True)"
   ]
  },
  {
   "cell_type": "code",
   "execution_count": null,
   "metadata": {},
   "outputs": [],
   "source": [
    "for column in schoolgaanden.columns:\n",
    "    print(f'\\'{column}\\',')"
   ]
  },
  {
   "cell_type": "code",
   "execution_count": 6,
   "metadata": {},
   "outputs": [],
   "source": [
    "# # Loop over every column name in a df\n",
    "# def column_cleaner(df):\n",
    "#     for column in df.columns:\n",
    "#         ## Remove categories\n",
    "#         # Get position of last capital letter by iterating backwards\n",
    "#         pos = 0\n",
    "#         for i in range(len(column)-1, 0, -1):\n",
    "#             if column[i].isupper() and (column[i-1].islower() or column[i-1] == '_'):\n",
    "#                 pos = i\n",
    "#                 break\n",
    "#         # If there is a capital letter\n",
    "#         if pos != 0 and column[-1] != '_':\n",
    "#             # Remove everything after the before capital letter\n",
    "#             df.rename(columns={column: column[pos:]}, inplace=True)\n",
    "#         elif pos != 0 and column[-1] == '_':\n",
    "#             df.rename(columns={column: column[pos:] + '%'}, inplace=True)\n",
    "#     return df\n",
    "\n",
    "# # Manually set some other column names\n",
    "# def column_editor(df):\n",
    "#     df.rename(columns={'Inkomen_van_huishoudens40_huishoudens_met_laagste_inkomen_%': 'Huishoudens_laagste_landelijke_40%_huishoudensinkomens_%'}, inplace=True)\n",
    "#     df.rename(columns={'Inkomen_van_huishoudens20_huishoudens_met_hoogste_inkomen_%': 'Huishoudens_hoogste_landelijke_20%_huishoudensinkomens_%'}, inplace=True)\n",
    "#     df.rename(columns={'Huishoudens_tot_110_van_sociaal_minimum_%': 'Huishoudens_tot_110%_van_sociaal_minimum_%'}, inplace=True)\n",
    "#     df.rename(columns={'Huishoudens_tot_120_van_sociaal_minimum_%': 'Huishoudens_tot_120%_van_sociaal_minimum_%'}, inplace=True)\n",
    "#     df.rename(columns={'Personenautos_per_huishouden_per_huishouden': 'Personenautos_per_huishouden'}, inplace=True)\n",
    "#     df.rename(columns={'stedelijkheid_1.0': 'zeer_sterk_stedelijk'}, inplace=True)\n",
    "#     df.rename(columns={'stedelijkheid_2.0': 'sterk_stedelijk'}, inplace=True)\n",
    "#     df.rename(columns={'stedelijkheid_3.0': 'matig_stedelijk'}, inplace=True)\n",
    "#     df.rename(columns={'stedelijkheid_4.0': 'weinig_stedelijk'}, inplace=True)\n",
    "#     df.rename(columns={'stedelijkheid_5.0': 'niet_stedelijk'}, inplace=True)\n",
    "#     return df\n",
    "\n",
    "# overzicht = schoolgaanden.copy()\n",
    "# overzicht = column_cleaner(overzicht)\n",
    "# overzicht = column_editor(overzicht)\n",
    "# overzicht = pd.DataFrame(overzicht.isna().mean().round(2), columns=['Proporties ontbrekende waarden'])\n",
    "# overzicht.to_csv('schoolgaanden_overzicht.csv')"
   ]
  },
  {
   "cell_type": "markdown",
   "metadata": {},
   "source": [
    "### 3. Engineer features"
   ]
  },
  {
   "cell_type": "markdown",
   "metadata": {},
   "source": [
    "#### 3.1 Continuous numerical"
   ]
  },
  {
   "cell_type": "markdown",
   "metadata": {},
   "source": [
    "##### 3.1.1 Direct features"
   ]
  },
  {
   "cell_type": "code",
   "execution_count": 7,
   "metadata": {},
   "outputs": [],
   "source": [
    "# Get columns that need no further transformation\n",
    "X_schoolgaanden_numericals = schoolgaanden[[\n",
    "    # 'Postcode',                               # Useless\n",
    "    # 'Huisnummer',                             # Useless\n",
    "    # 'Clientnummer',                           # Useless \n",
    "    'BMR',                                      # Drop after missing value imputation\n",
    "    # 'DKTP',                                   # Related to target\n",
    "    # 'DKTPbooster',                            # Related to target\n",
    "    'DTP',                                      # Drop after missing value imputation\n",
    "    # 'Hib',                                    # Related to target\n",
    "    # 'Pneu',                                   # Related to target\n",
    "    # 'Excluded',                               # Related to target\n",
    "    # 'Hepatitis_B',                            # Related to target\n",
    "    # 'MenACWYMenC',                            # Related to target\n",
    "    # 'Geboortejaarmaand',                      # We construct age from this\n",
    "    # 'Tweeling',                               # Boolean\n",
    "    # 'Buurt_BRP',                              # Useless\n",
    "    # 'CBS_Buurtcode_BRP',                      # Useless\n",
    "    # 'GeboortejaarmaandBiologischeMoeder',     # We construct age from this\n",
    "    # 'LeeftijdBiologischeMoederBijGeboorte',   # We construct age from this\n",
    "    # 'Geslacht',                               # Boolean\n",
    "    # 'Geboorteland',                           # Categorical\n",
    "    # 'Schoolgaanden_status_BMR',               # Related to target\n",
    "    # 'Schoolgaanden_status_DTP',               # Related to target\n",
    "    # 'Schoolgaanden_status',                   # Related to target\n",
    "    # 'Toestemming',                            # Boolean\n",
    "    'aantal_inwoners',\n",
    "    'aantal_mannen',\n",
    "    'aantal_vrouwen',\n",
    "    'aantal_inwoners_0_tot_15_jaar',\n",
    "    'aantal_inwoners_15_tot_25_jaar',\n",
    "    'aantal_inwoners_25_tot_45_jaar',\n",
    "    'aantal_inwoners_45_tot_65_jaar',\n",
    "    # 'aantal_inwoners_65_jaar_en_ouder',       # nth column in category\n",
    "    'percentage_geb_nederland_herkomst_nederland',            # Ordinal, but many categories\n",
    "    # 'percentage_geb_nederland_herkomst_overig_europa',        # Ordinal\n",
    "    # 'percentage_geb_nederland_herkomst_buiten_europa',        # Ordinal\n",
    "    # 'percentage_geb_buiten_nederland_herkomst_europa',        # Ordinal\n",
    "    # 'percentage_geb_buiten_nederland_herkmst_buiten_europa',  # Ordinal\n",
    "    'aantal_part_huishoudens',\n",
    "    'aantal_eenpersoonshuishoudens',\n",
    "    'aantal_meerpersoonshuishoudens_zonder_kind',\n",
    "    'aantal_eenouderhuishoudens',\n",
    "    'aantal_tweeouderhuishoudens',\n",
    "    # 'gemiddelde_huishoudensgrootte',          # nth column in category\n",
    "    'aantal_woningen',\n",
    "    # 'aantal_woningen_bouwjaar_voor_1945',     # Deemed insignificant\n",
    "    # 'aantal_woningen_bouwjaar_45_tot_65',     # Deemed insignificant\n",
    "    # 'aantal_woningen_bouwjaar_65_tot_75',     # Deemed insignificant\n",
    "    # 'aantal_woningen_bouwjaar_75_tot_85',     # Deemed insignificant\n",
    "    # 'aantal_woningen_bouwjaar_85_tot_95',     # Deemed insignificant\n",
    "    # 'aantal_woningen_bouwjaar_95_tot_05',     # Deemed insignificant\n",
    "    # 'aantal_woningen_bouwjaar_05_tot_15',     # Deemed insignificant\n",
    "    # 'aantal_woningen_bouwjaar_15_en_later',   # Deemed insignificant\n",
    "    'aantal_meergezins_woningen',\n",
    "    # 'percentage_koopwoningen',                # nth column in category\n",
    "    'percentage_huurwoningen',                # Ordinal, but many categories\n",
    "    'aantal_huurwoningen_in_bezit_woningcorporaties',\n",
    "    'aantal_niet_bewoonde_woningen',\n",
    "    'gemiddelde_woz_waarde_woning',\n",
    "    'aantal_personen_met_uitkering_onder_aowlft',\n",
    "    # 'omgevingsadressendichtheid',             # Deemed insignificant\n",
    "    # 'stedelijkheid',                          # Ordinal\n",
    "    'BevolkingAantal_inwoners_aantal',\n",
    "    'BevolkingBurgerlijke_staatGehuwd_aantal',\n",
    "    'BevolkingBurgerlijke_staatGescheiden_aantal',\n",
    "    'BevolkingPersonen_met_een_migratieachtergrondNietwestersMarokko_aantal',\n",
    "    'BevolkingPersonen_met_een_migratieachtergrondNietwestersNederlandse_Antillen_en_Aruba_aantal',\n",
    "    'BevolkingPersonen_met_een_migratieachtergrondNietwestersSuriname_aantal',\n",
    "    'BevolkingPersonen_met_een_migratieachtergrondNietwestersTurkije_aantal',\n",
    "    'BevolkingPersonen_met_een_migratieachtergrondNietwestersOverig_nietwesters_aantal',\n",
    "    'OpleidingsniveauOpleidingsniveau_laag_aantal',\n",
    "    'OpleidingsniveauOpleidingsniveau_hoog_aantal',\n",
    "    'ArbeidNettoarbeidsparticipatie_',\n",
    "    'InkomenInkomen_van_personenGemiddeld_inkomen_per_inkomensontvanger_x_1_000_euro',\n",
    "    'InkomenInkomen_van_personenGemiddeld_inkomen_per_inwoner_x_1_000_euro',\n",
    "    # 'InkomenInkomen_van_personen40_personen_met_laagste_inkomen_',                # Deemed insignificant\n",
    "    # 'InkomenInkomen_van_personen20_personen_met_hoogste_inkomen_',                # Deemed insignificant\n",
    "    'InkomenInkomen_van_huishoudensGem_gestandaardiseerd_inkomen_van_huish_x_1_000_euro',\n",
    "    'InkomenInkomen_van_huishoudens40_huishoudens_met_laagste_inkomen_',\n",
    "    'InkomenInkomen_van_huishoudens20_huishoudens_met_hoogste_inkomen_',\n",
    "    'InkomenInkomen_van_huishoudensHuishoudens_met_een_laag_inkomen_',\n",
    "    'InkomenInkomen_van_huishoudensHuish_onder_of_rond_sociaal_minimum_',\n",
    "    'InkomenInkomen_van_huishoudensHuishoudens_tot_110_van_sociaal_minimum_',\n",
    "    'InkomenInkomen_van_huishoudensHuishoudens_tot_120_van_sociaal_minimum_',\n",
    "    'InkomenInkomen_van_huishoudensMediaan_vermogen_van_particuliere_huish_x_1_000_euro',\n",
    "    'Sociale_zekerheidPersonen_per_soort_uitkering_Bijstand_aantal',\n",
    "    'Sociale_zekerheidPersonen_per_soort_uitkering_AO_aantal',\n",
    "    'Sociale_zekerheidPersonen_per_soort_uitkering_WW_aantal',\n",
    "    'Sociale_zekerheidPersonen_per_soort_uitkering_AOW_aantal',\n",
    "    'ZorgJongeren_met_jeugdzorg_in_natura_aantal',\n",
    "    'ZorgPercentage_jongeren_met_jeugdzorg_',\n",
    "    'MotorvoertuigenPersonenautosPersonenautos_per_huishouden_per_huishouden',\n",
    "    'Siblings',\n",
    "    # 'Geboortejaarmaand_relatie_ouder1',       # We construct age from this\n",
    "    # 'Geboorteland_relatie_ouder1',            # Categorical\n",
    "    # 'Geslacht_relatie_ouder1',                # Boolean\n",
    "    # 'Geboortejaarmaand_relatie_ouder2',       # We construct age from this\n",
    "    # 'Geboorteland_relatie_ouder2',            # Categorical\n",
    "    # 'Geslacht_relatie_ouder2',                # Boolean\n",
    "    # 'Gevaccineerd_ouder1',                    # Boolean\n",
    "    # 'Gevaccineerd_ouder2',                    # Boolean\n",
    "    # 'Geboorteland_cat',                       # Categorical\n",
    "    # 'Geboorteland_relatie_ouder1_cat',        # Categorical\n",
    "    # 'Geboorteland_relatie_ouder2_cat',        # Categorical\n",
    "    # 'Geboorteland_cat3',                      # Categorical\n",
    "    # 'Geboorteland_relatie_ouder1_cat3',       # Categorical\n",
    "    # 'Geboorteland_relatie_ouder2_cat3',       # Categorical\n",
    "    # 'CBS_indeling'                            # Categorical\n",
    "]]"
   ]
  },
  {
   "cell_type": "code",
   "execution_count": 8,
   "metadata": {},
   "outputs": [],
   "source": [
    "# Convert all columns that are of dtype object to float64, if error proceed with next column\n",
    "for col in X_schoolgaanden_numericals.columns:\n",
    "    if X_schoolgaanden_numericals[col].dtype == 'object':\n",
    "        try:\n",
    "            X_schoolgaanden_numericals[col] = X_schoolgaanden_numericals[col].str.replace(',', '.').astype('float64')\n",
    "        except:\n",
    "            continue"
   ]
  },
  {
   "cell_type": "code",
   "execution_count": 9,
   "metadata": {},
   "outputs": [],
   "source": [
    "# Transform absolute numbers to relative numbers\n",
    "X_schoolgaanden_numericals['aandeel_mannen'] = X_schoolgaanden_numericals['aantal_mannen'] / X_schoolgaanden_numericals['aantal_inwoners']\n",
    "X_schoolgaanden_numericals['aandeel_vrouwen'] = X_schoolgaanden_numericals['aantal_vrouwen'] / X_schoolgaanden_numericals['aantal_inwoners']\n",
    "X_schoolgaanden_numericals['aandeel_inwoners_0_tot_15_jaar'] = X_schoolgaanden_numericals['aantal_inwoners_0_tot_15_jaar'] / X_schoolgaanden_numericals['aantal_inwoners']\n",
    "X_schoolgaanden_numericals['aandeel_inwoners_15_tot_25_jaar'] = X_schoolgaanden_numericals['aantal_inwoners_15_tot_25_jaar'] / X_schoolgaanden_numericals['aantal_inwoners']\n",
    "X_schoolgaanden_numericals['aandeel_inwoners_25_tot_45_jaar'] = X_schoolgaanden_numericals['aantal_inwoners_25_tot_45_jaar'] / X_schoolgaanden_numericals['aantal_inwoners']\n",
    "X_schoolgaanden_numericals['aandeel_inwoners_45_tot_65_jaar'] = X_schoolgaanden_numericals['aantal_inwoners_45_tot_65_jaar'] / X_schoolgaanden_numericals['aantal_inwoners']\n",
    "# X_schoolgaanden_numericals['aandeel_inwoners_65_jaar_en_ouder'] = X_schoolgaanden_numericals['aantal_inwoners_65_jaar_en_ouder'] / X_schoolgaanden_numericals['aantal_inwoners']\n",
    "\n",
    "X_schoolgaanden_numericals['BevolkingBurgerlijke_staatGehuwd_aandeel'] = X_schoolgaanden_numericals['BevolkingBurgerlijke_staatGehuwd_aantal'] / X_schoolgaanden_numericals['BevolkingAantal_inwoners_aantal']\n",
    "X_schoolgaanden_numericals['BevolkingBurgerlijke_staatGescheiden_aandeel'] = X_schoolgaanden_numericals['BevolkingBurgerlijke_staatGescheiden_aantal'] / X_schoolgaanden_numericals['BevolkingAantal_inwoners_aantal']\n",
    "X_schoolgaanden_numericals['BevolkingPersonen_met_een_migratieachtergrondNietwestersMarokko_aandeel'] = X_schoolgaanden_numericals['BevolkingPersonen_met_een_migratieachtergrondNietwestersMarokko_aantal'] / X_schoolgaanden_numericals['BevolkingAantal_inwoners_aantal']\n",
    "X_schoolgaanden_numericals['BevolkingPersonen_met_een_migratieachtergrondNietwestersNederlandse_Antillen_en_Aruba_aandeel'] = X_schoolgaanden_numericals['BevolkingPersonen_met_een_migratieachtergrondNietwestersNederlandse_Antillen_en_Aruba_aantal'] / X_schoolgaanden_numericals['BevolkingAantal_inwoners_aantal']\n",
    "X_schoolgaanden_numericals['BevolkingPersonen_met_een_migratieachtergrondNietwestersSuriname_aandeel'] = X_schoolgaanden_numericals['BevolkingPersonen_met_een_migratieachtergrondNietwestersSuriname_aantal'] / X_schoolgaanden_numericals['BevolkingAantal_inwoners_aantal']\n",
    "X_schoolgaanden_numericals['BevolkingPersonen_met_een_migratieachtergrondNietwestersTurkije_aandeel'] = X_schoolgaanden_numericals['BevolkingPersonen_met_een_migratieachtergrondNietwestersTurkije_aantal'] / X_schoolgaanden_numericals['BevolkingAantal_inwoners_aantal']\n",
    "X_schoolgaanden_numericals['BevolkingPersonen_met_een_migratieachtergrondNietwestersOverig_nietwesters_aandeel'] = X_schoolgaanden_numericals['BevolkingPersonen_met_een_migratieachtergrondNietwestersOverig_nietwesters_aantal'] / X_schoolgaanden_numericals['BevolkingAantal_inwoners_aantal']\n",
    "X_schoolgaanden_numericals['OpleidingsniveauOpleidingsniveau_laag_aandeel'] = X_schoolgaanden_numericals['OpleidingsniveauOpleidingsniveau_laag_aantal'] / X_schoolgaanden_numericals['BevolkingAantal_inwoners_aantal']\n",
    "X_schoolgaanden_numericals['OpleidingsniveauOpleidingsniveau_hoog_aandeel'] = X_schoolgaanden_numericals['OpleidingsniveauOpleidingsniveau_hoog_aantal'] / X_schoolgaanden_numericals['BevolkingAantal_inwoners_aantal']\n",
    "X_schoolgaanden_numericals['Sociale_zekerheidPersonen_per_soort_uitkering_Bijstand_aandeel'] = X_schoolgaanden_numericals['Sociale_zekerheidPersonen_per_soort_uitkering_Bijstand_aantal'] / X_schoolgaanden_numericals['BevolkingAantal_inwoners_aantal']\n",
    "X_schoolgaanden_numericals['Sociale_zekerheidPersonen_per_soort_uitkering_AO_aandeel'] = X_schoolgaanden_numericals['Sociale_zekerheidPersonen_per_soort_uitkering_AO_aantal'] / X_schoolgaanden_numericals['BevolkingAantal_inwoners_aantal']\n",
    "X_schoolgaanden_numericals['Sociale_zekerheidPersonen_per_soort_uitkering_WW_aandeel'] = X_schoolgaanden_numericals['Sociale_zekerheidPersonen_per_soort_uitkering_WW_aantal'] / X_schoolgaanden_numericals['BevolkingAantal_inwoners_aantal']\n",
    "X_schoolgaanden_numericals['Sociale_zekerheidPersonen_per_soort_uitkering_AOW_aandeel'] = X_schoolgaanden_numericals['Sociale_zekerheidPersonen_per_soort_uitkering_AOW_aantal'] / X_schoolgaanden_numericals['BevolkingAantal_inwoners_aantal']\n",
    "X_schoolgaanden_numericals['ZorgJongeren_met_jeugdzorg_in_natura_aandeel'] = X_schoolgaanden_numericals['ZorgJongeren_met_jeugdzorg_in_natura_aantal'] / X_schoolgaanden_numericals['BevolkingAantal_inwoners_aantal']\n",
    "\n",
    "X_schoolgaanden_numericals['aandeel_eenpersoonshuishoudens'] = X_schoolgaanden_numericals['aantal_eenpersoonshuishoudens'] / X_schoolgaanden_numericals['aantal_part_huishoudens']\n",
    "X_schoolgaanden_numericals['aandeel_meerpersoonshuishoudens_zonder_kind'] = X_schoolgaanden_numericals['aantal_meerpersoonshuishoudens_zonder_kind'] / X_schoolgaanden_numericals['aantal_part_huishoudens']\n",
    "X_schoolgaanden_numericals['aandeel_eenouderhuishoudens'] = X_schoolgaanden_numericals['aantal_eenouderhuishoudens'] / X_schoolgaanden_numericals['aantal_part_huishoudens']\n",
    "X_schoolgaanden_numericals['aandeel_tweeouderhuishoudens'] = X_schoolgaanden_numericals['aantal_tweeouderhuishoudens'] / X_schoolgaanden_numericals['aantal_part_huishoudens']\n",
    "\n",
    "X_schoolgaanden_numericals['aandeel_personen_met_uitkering_onder_aowlft'] = X_schoolgaanden_numericals['aantal_personen_met_uitkering_onder_aowlft'] / X_schoolgaanden_numericals['aantal_inwoners']\n",
    "\n",
    "X_schoolgaanden_numericals['aandeel_meergezins_woningen'] = X_schoolgaanden_numericals['aantal_meergezins_woningen'] / X_schoolgaanden_numericals['aantal_woningen']\n",
    "X_schoolgaanden_numericals['aandeel_huurwoningen_in_bezit_woningcorporaties'] = X_schoolgaanden_numericals['aantal_huurwoningen_in_bezit_woningcorporaties'] / X_schoolgaanden_numericals['aantal_woningen']\n",
    "X_schoolgaanden_numericals['aandeel_niet_bewoonde_woningen'] = X_schoolgaanden_numericals['aantal_niet_bewoonde_woningen'] / X_schoolgaanden_numericals['aantal_woningen']\n",
    "\n",
    "# Drop all columns that are not needed anymore\n",
    "X_schoolgaanden_numericals = X_schoolgaanden_numericals.drop(columns=['aantal_mannen',\n",
    "                                            'aantal_vrouwen',\n",
    "                                            'aantal_inwoners_0_tot_15_jaar',\n",
    "                                            'aantal_inwoners_15_tot_25_jaar',\n",
    "                                            'aantal_inwoners_25_tot_45_jaar',\n",
    "                                            'aantal_inwoners_45_tot_65_jaar',\n",
    "                                            # 'aantal_inwoners_65_jaar_en_ouder',\n",
    "                                            'BevolkingAantal_inwoners_aantal',\n",
    "                                            'BevolkingBurgerlijke_staatGehuwd_aantal',\n",
    "                                            'BevolkingBurgerlijke_staatGescheiden_aantal',\n",
    "                                            'BevolkingPersonen_met_een_migratieachtergrondNietwestersMarokko_aantal',\n",
    "                                            'BevolkingPersonen_met_een_migratieachtergrondNietwestersNederlandse_Antillen_en_Aruba_aantal',\n",
    "                                            'BevolkingPersonen_met_een_migratieachtergrondNietwestersSuriname_aantal',\n",
    "                                            'BevolkingPersonen_met_een_migratieachtergrondNietwestersTurkije_aantal',\n",
    "                                            'BevolkingPersonen_met_een_migratieachtergrondNietwestersOverig_nietwesters_aantal',\n",
    "                                            'OpleidingsniveauOpleidingsniveau_laag_aantal',\n",
    "                                            'OpleidingsniveauOpleidingsniveau_hoog_aantal',\n",
    "                                            'Sociale_zekerheidPersonen_per_soort_uitkering_Bijstand_aantal',\n",
    "                                            'Sociale_zekerheidPersonen_per_soort_uitkering_AO_aantal',\n",
    "                                            'Sociale_zekerheidPersonen_per_soort_uitkering_WW_aantal',\n",
    "                                            'Sociale_zekerheidPersonen_per_soort_uitkering_AOW_aantal',\n",
    "                                            'ZorgJongeren_met_jeugdzorg_in_natura_aantal',\n",
    "                                            'aantal_inwoners',\n",
    "                                            'aantal_eenpersoonshuishoudens',\n",
    "                                            'aantal_meerpersoonshuishoudens_zonder_kind',\n",
    "                                            'aantal_eenouderhuishoudens',\n",
    "                                            'aantal_tweeouderhuishoudens',\n",
    "                                            'aantal_part_huishoudens',\n",
    "                                            'aantal_personen_met_uitkering_onder_aowlft',\n",
    "                                            'aantal_meergezins_woningen',\n",
    "                                            'aantal_huurwoningen_in_bezit_woningcorporaties',\n",
    "                                            'aantal_niet_bewoonde_woningen',\n",
    "                                            'aantal_woningen'])"
   ]
  },
  {
   "cell_type": "markdown",
   "metadata": {},
   "source": [
    "##### 3.1.2 Age features"
   ]
  },
  {
   "cell_type": "code",
   "execution_count": 10,
   "metadata": {},
   "outputs": [],
   "source": [
    "# Assuming schoolgaanden is your DataFrame\n",
    "schoolgaanden['Geboortejaarmaand_relatie_ouder1'] = pd.to_datetime(schoolgaanden['Geboortejaarmaand_relatie_ouder1']).dt.to_period('M')\n",
    "schoolgaanden['Geboortejaarmaand_relatie_ouder2'] = pd.to_datetime(schoolgaanden['Geboortejaarmaand_relatie_ouder2']).dt.to_period('M')\n",
    "\n",
    "# Convert NaT to NaN\n",
    "schoolgaanden['Geboortejaarmaand'] = schoolgaanden['Geboortejaarmaand'].fillna(pd.NaT)\n",
    "schoolgaanden['Geboortejaarmaand_relatie_ouder1'] = schoolgaanden['Geboortejaarmaand_relatie_ouder1'].fillna(pd.NaT)\n",
    "schoolgaanden['Geboortejaarmaand_relatie_ouder2'] = schoolgaanden['Geboortejaarmaand_relatie_ouder2'].fillna(pd.NaT)\n",
    "\n",
    "# Construct age features\n",
    "X_schoolgaanden_numericals['Leeftijd_moeder'] = (schoolgaanden['Geboortejaarmaand'] - schoolgaanden['Geboortejaarmaand_relatie_ouder1']).apply(lambda x: x.n if pd.notnull(x) else x)/12\n",
    "X_schoolgaanden_numericals['Leeftijd_ouder2'] = (schoolgaanden['Geboortejaarmaand'] - schoolgaanden['Geboortejaarmaand_relatie_ouder2']).apply(lambda x: x.n if pd.notnull(x) else x)/12\n",
    "\n",
    "# Convert NaT to NaN\n",
    "X_schoolgaanden_numericals['Leeftijd_moeder'] = X_schoolgaanden_numericals['Leeftijd_moeder'].fillna(np.nan)\n",
    "X_schoolgaanden_numericals['Leeftijd_ouder2'] = X_schoolgaanden_numericals['Leeftijd_ouder2'].fillna(np.nan)"
   ]
  },
  {
   "cell_type": "code",
   "execution_count": null,
   "metadata": {},
   "outputs": [],
   "source": [
    "# Plot the distribtuion of X_schoolgaanden_numericals['Leeftijd_moeder'] and X_schoolgaanden_numericals['Leeftijd_ouder2'], excluding NaN values\n",
    "plt.hist(X_schoolgaanden_numericals['Leeftijd_moeder'].dropna(), bins=50, alpha=0.5, label='Leeftijd_moeder')\n",
    "plt.hist(X_schoolgaanden_numericals['Leeftijd_ouder2'].dropna(), bins=50, alpha=0.5, label='Leeftijd_ouder2')\n",
    "\n",
    "# Print the min and max values of the age features\n",
    "print(f\"Min leeftijd moeder: {round(X_schoolgaanden_numericals['Leeftijd_moeder'].min(),2)}, Max leeftijd moeder: {round(X_schoolgaanden_numericals['Leeftijd_moeder'].max(),2)}\")\n",
    "print(f\"Min leeftijd Ouder2: {round(X_schoolgaanden_numericals['Leeftijd_ouder2'].min(),2)}, Max leeftijd Ouder2: {round(X_schoolgaanden_numericals['Leeftijd_ouder2'].max(),2)}\")"
   ]
  },
  {
   "cell_type": "markdown",
   "metadata": {},
   "source": [
    "#### 3.2 Categorical features"
   ]
  },
  {
   "cell_type": "code",
   "execution_count": 12,
   "metadata": {},
   "outputs": [],
   "source": [
    "# Get categorical columns\n",
    "X_schoolgaanden_categoricals = schoolgaanden[[\n",
    "    # 'Geboorteland',                       # Lies in CBS_indeling, too sparse\n",
    "    # 'Geboorteland_relatie_ouder1',        # Lies in CBS_indeling, too sparse\n",
    "    # 'Geboorteland_relatie_ouder2',        # Lies in CBS_indeling, too sparse\n",
    "    # 'Geboorteland_cat',                   # Lies in CBS_indeling, too sparse\n",
    "    # 'Geboorteland_relatie_ouder1_cat',    # Lies in CBS_indeling, too sparse\n",
    "    # 'Geboorteland_relatie_ouder2_cat',    # Lies in CBS_indeling, too sparse\n",
    "    # 'Geboorteland_cat3',                  # Lies in CBS_indeling, too sparse\n",
    "    # 'Geboorteland_relatie_ouder1_cat3',   # Lies in CBS_indeling, too sparse\n",
    "    # 'Geboorteland_relatie_ouder2_cat3',   # Lies in CBS_indeling, too sparse\n",
    "    # 'percentage_geb_nederland_herkomst_nederland',                # Ordinal, but too many categories\n",
    "    'percentage_geb_nederland_herkomst_overig_europa',            # Ordinal\n",
    "    'percentage_geb_nederland_herkomst_buiten_europa',            # Ordinal\n",
    "    'percentage_geb_buiten_nederland_herkomst_europa',            # Ordinal\n",
    "    'percentage_geb_buiten_nederland_herkmst_buiten_europa',      # Ordinal\n",
    "    # 'percentage_huurwoningen',                                    # Ordinal, but too many categories\n",
    "    'stedelijkheid',                                              # Ordinal\n",
    "    'CBS_indeling',\n",
    "    'Toestemming'\n",
    "    ]]"
   ]
  },
  {
   "cell_type": "code",
   "execution_count": 13,
   "metadata": {},
   "outputs": [],
   "source": [
    "# Create dummy variables\n",
    "X_schoolgaanden_categoricals = pd.get_dummies(X_schoolgaanden_categoricals, columns=X_schoolgaanden_categoricals.columns, dummy_na=True, drop_first=False)"
   ]
  },
  {
   "cell_type": "code",
   "execution_count": null,
   "metadata": {},
   "outputs": [],
   "source": [
    "X_schoolgaanden_categoricals"
   ]
  },
  {
   "cell_type": "markdown",
   "metadata": {},
   "source": [
    "#### 3.3 Boolean features"
   ]
  },
  {
   "cell_type": "code",
   "execution_count": 15,
   "metadata": {},
   "outputs": [],
   "source": [
    "# Get boolean columns\n",
    "X_schoolgaanden_booleans = schoolgaanden[[\n",
    "    'Tweeling',\n",
    "    'Geslacht',\n",
    "    'Geslacht_relatie_ouder1',\n",
    "    'Geslacht_relatie_ouder2',\n",
    "    'Gevaccineerd_ouder1',\n",
    "    'Gevaccineerd_ouder2'\n",
    "    ]]"
   ]
  },
  {
   "cell_type": "code",
   "execution_count": null,
   "metadata": {},
   "outputs": [],
   "source": [
    "X_schoolgaanden_booleans"
   ]
  },
  {
   "cell_type": "code",
   "execution_count": null,
   "metadata": {},
   "outputs": [],
   "source": [
    "# Specify boolean mapping\n",
    "def boolean_mapper(df):\n",
    "    bool_mapping = {'Ja': True, 'Nee': False,\n",
    "                    'Vaccinated': True, 'Not Vaccinated': False,\n",
    "                    'Mannelijk': True, 'Vrouwelijk': False,\n",
    "                    'mannelijk': True, 'vrouwelijk': False,\n",
    "                    1: True, 0: False}\n",
    "    def convert_to_bool(column):\n",
    "        return bool_mapping.get(column, np.NaN)\n",
    "\n",
    "    for col in df.columns:\n",
    "        df[col] = df[col].apply(convert_to_bool)\n",
    "    return df\n",
    "\n",
    "# Apply boolean mapping\n",
    "boolean_mapper(X_schoolgaanden_booleans)"
   ]
  },
  {
   "cell_type": "code",
   "execution_count": 18,
   "metadata": {},
   "outputs": [],
   "source": [
    "# Change column names\n",
    "X_schoolgaanden_booleans.columns = X_schoolgaanden_booleans.columns.str.replace('Geslacht', 'Geslacht=mannelijk')"
   ]
  },
  {
   "cell_type": "code",
   "execution_count": 19,
   "metadata": {},
   "outputs": [],
   "source": [
    "# Save all one-hot coded column names\n",
    "one_hot_columns = list(X_schoolgaanden_categoricals.columns) + list(X_schoolgaanden_booleans.columns)"
   ]
  },
  {
   "cell_type": "markdown",
   "metadata": {},
   "source": [
    "#### 3.4 Target feature"
   ]
  },
  {
   "cell_type": "code",
   "execution_count": 20,
   "metadata": {},
   "outputs": [],
   "source": [
    "# Store the target variable\n",
    "y_schoolgaanden = schoolgaanden['Schoolgaanden_status']"
   ]
  },
  {
   "cell_type": "code",
   "execution_count": 21,
   "metadata": {},
   "outputs": [],
   "source": [
    "# Specify mappings\n",
    "target_mapping = {'Not Vaccinated': 0,\n",
    "                  'Vaccinated': 1}\n",
    "\n",
    "# Apply the mapping to the Series\n",
    "y_schoolgaanden = y_schoolgaanden.map(target_mapping)"
   ]
  },
  {
   "cell_type": "code",
   "execution_count": null,
   "metadata": {},
   "outputs": [],
   "source": [
    "# Count unique values of y_schoolgaanden\n",
    "np.unique(y_schoolgaanden, return_counts=True)"
   ]
  },
  {
   "cell_type": "markdown",
   "metadata": {},
   "source": [
    "### 4. Feature selection"
   ]
  },
  {
   "cell_type": "code",
   "execution_count": null,
   "metadata": {},
   "outputs": [],
   "source": [
    "# Print the percentage of missing values per column\n",
    "print(f'The percentage of missing values per column is:')\n",
    "for col in X_schoolgaanden_numericals.columns:\n",
    "    print(f'{col:<100}: {round(X_schoolgaanden_numericals[col].isnull().mean(), 2)}')"
   ]
  },
  {
   "cell_type": "code",
   "execution_count": null,
   "metadata": {},
   "outputs": [],
   "source": [
    "# Print the percentage of missing values per column\n",
    "print(f'The percentage of missing values per column is:')\n",
    "for col in X_schoolgaanden_categoricals.columns:\n",
    "    print(f'{col:<100}: {round(X_schoolgaanden_categoricals[col].isnull().mean(), 2)}')"
   ]
  },
  {
   "cell_type": "code",
   "execution_count": null,
   "metadata": {},
   "outputs": [],
   "source": [
    "# Print the percentage of missing values per column\n",
    "print(f'The percentage of missing values per column is:')\n",
    "for col in X_schoolgaanden_booleans.columns:\n",
    "    print(f'{col:<100}: {round(X_schoolgaanden_booleans[col].isnull().mean(), 2)}')"
   ]
  },
  {
   "cell_type": "markdown",
   "metadata": {},
   "source": [
    "### 5. Merge and drop features"
   ]
  },
  {
   "cell_type": "code",
   "execution_count": 26,
   "metadata": {},
   "outputs": [],
   "source": [
    "# Merge all dataframes\n",
    "X_schoolgaanden = pd.concat([X_schoolgaanden_numericals, X_schoolgaanden_categoricals, X_schoolgaanden_booleans], axis=1)\n",
    "\n",
    "# Drop sex columns from booleans, as they have large amounts of missing values and were mostly important for their vaccination statuses\n",
    "X_schoolgaanden = X_schoolgaanden.drop(columns=['Geslacht=mannelijk_relatie_ouder1', 'Geslacht=mannelijk_relatie_ouder2'])"
   ]
  },
  {
   "cell_type": "markdown",
   "metadata": {},
   "source": [
    "### 6. Split subsets"
   ]
  },
  {
   "cell_type": "code",
   "execution_count": null,
   "metadata": {},
   "outputs": [],
   "source": [
    "# Split subset of X_schoolgaanden_numericals\n",
    "X_schoolgaanden_notvaccinated = X_schoolgaanden[y_schoolgaanden == 0]\n",
    "\n",
    "# Make copy of X_schoolgaanden\n",
    "X_schoolgaanden_reduced = X_schoolgaanden.copy()\n",
    "\n",
    "# Delete columns from X_schoolgaanden that have >50% missings in X_schoolgaanden_notvaccinated\n",
    "for col in X_schoolgaanden.columns:\n",
    "    if col in X_schoolgaanden_notvaccinated.columns:\n",
    "        if X_schoolgaanden_notvaccinated[col].isnull().mean() > 0.5:\n",
    "            X_schoolgaanden_reduced = X_schoolgaanden_reduced.drop(columns=col)\n",
    "\n",
    "# Make list of strings with column names in X_schoolgaanden containing 'nan'\n",
    "nan_columns = [col for col in X_schoolgaanden.columns if 'nan' in col]\n",
    "\n",
    "# Loop over nan_columns in X_schoolgaanden_reduced and calculate if >50% is 'True'\n",
    "for col in nan_columns:\n",
    "    col_variable = col.split('_nan')[0]\n",
    "    if col_variable != 'Toestemming':\n",
    "        if (1 - X_schoolgaanden_notvaccinated[col].value_counts(normalize=True)[False]) > 0.5:\n",
    "            X_schoolgaanden_reduced = X_schoolgaanden_reduced.drop(columns=[col for col in X_schoolgaanden_reduced.columns if col_variable in col])\n",
    "\n",
    "# Show which columns got dropped\n",
    "print(f'The columns that were dropped from X_schoolgaanden are:')\n",
    "for col in X_schoolgaanden.columns:\n",
    "    if col not in X_schoolgaanden_reduced.columns:\n",
    "        print(f'    {col}')"
   ]
  },
  {
   "cell_type": "code",
   "execution_count": 28,
   "metadata": {},
   "outputs": [],
   "source": [
    "# Randomly sample 10% of the data\n",
    "if TEST_instances:\n",
    "    X_schoolgaanden_reduced = X_schoolgaanden_reduced.sample(frac=0.03, random_state=42)\n",
    "    y_schoolgaanden = y_schoolgaanden.loc[X_schoolgaanden_reduced.index]"
   ]
  },
  {
   "cell_type": "markdown",
   "metadata": {},
   "source": [
    "### 7. Missing value imputation"
   ]
  },
  {
   "cell_type": "code",
   "execution_count": 29,
   "metadata": {},
   "outputs": [],
   "source": [
    "# Initialize the IterativeImputer\n",
    "if TEST_iterations:\n",
    "    imputer = IterativeImputer(random_state=42, estimator=RandomForestRegressor(random_state=42), max_iter=3)\n",
    "else:\n",
    "    imputer = IterativeImputer(random_state=42, estimator=RandomForestRegressor(random_state=42), max_iter=5)"
   ]
  },
  {
   "cell_type": "code",
   "execution_count": null,
   "metadata": {},
   "outputs": [],
   "source": [
    "# Print the percentages of missing values per column\n",
    "print(f'The percentage of missing values per column is:')\n",
    "for col in X_schoolgaanden_reduced.columns:\n",
    "    print(f'{col:<100}: {round(X_schoolgaanden_reduced[col].isnull().mean(), 2)}')"
   ]
  },
  {
   "cell_type": "code",
   "execution_count": null,
   "metadata": {},
   "outputs": [],
   "source": [
    "# Fit the imputer on the data\n",
    "imputer.fit(X_schoolgaanden_reduced)\n",
    "\n",
    "# Transform the data\n",
    "X_schoolgaanden_imputed = pd.DataFrame(imputer.transform(X_schoolgaanden_reduced), columns=X_schoolgaanden_reduced.columns)"
   ]
  },
  {
   "cell_type": "code",
   "execution_count": null,
   "metadata": {},
   "outputs": [],
   "source": [
    "# Get the top 10 missing value columns\n",
    "missing_values = X_schoolgaanden_reduced.isnull().sum().sort_values(ascending=False).head(10).index\n",
    "\n",
    "# Create a 5x2 subplot frame\n",
    "fig, axes = plt.subplots(nrows=5, ncols=2, figsize=(15, 10))\n",
    "\n",
    "# Flatten the axes array for easy iteration\n",
    "axes = axes.flatten()\n",
    "\n",
    "# Define custom colors\n",
    "color_before = 'blue'\n",
    "color_after = 'salmon'\n",
    "\n",
    "# Define a formatter function to round to two decimals\n",
    "formatter = FuncFormatter(lambda x, _: f'{x:.2f}')\n",
    "\n",
    "# Plot the histograms and bar charts\n",
    "for i, column in enumerate(missing_values):\n",
    "    if X_schoolgaanden_reduced[column].dtype == 'float64':\n",
    "        X_schoolgaanden_reduced[column].plot.hist(ax=axes[i], bins=30, alpha=0.7, label='Voor imputatie', color=color_before)\n",
    "        X_schoolgaanden_imputed[column].plot.hist(ax=axes[i], bins=30, alpha=0.7, label='Na imputatie', color=color_after)\n",
    "    else:\n",
    "        X_schoolgaanden_reduced[column].value_counts().plot.bar(ax=axes[i], alpha=0.7, label='Voor imputatie', color=color_before)\n",
    "        X_schoolgaanden_imputed[column].value_counts().plot.bar(ax=axes[i], alpha=0.7, label='Na imputatie', color=color_after)\n",
    "    \n",
    "    axes[i].set_xlabel(column)\n",
    "    axes[i].set_ylabel('Frequentie')\n",
    "    axes[i].xaxis.set_major_formatter(formatter)  # Apply the formatter to the x-axis\n",
    "\n",
    "# Collect handles and labels from the first subplot\n",
    "handles, labels = axes[0].get_legend_handles_labels()\n",
    "\n",
    "# Create a single legend for the entire figure\n",
    "fig.legend(handles, labels, loc='upper center', ncol=2)\n",
    "\n",
    "# Adjust layout\n",
    "plt.tight_layout(rect=[0, 0, 1, 0.95])  # Adjust rect to make space for the legend\n",
    "plt.show()"
   ]
  },
  {
   "cell_type": "markdown",
   "metadata": {},
   "source": [
    "### 8. Drop features related to target"
   ]
  },
  {
   "cell_type": "code",
   "execution_count": 149,
   "metadata": {},
   "outputs": [],
   "source": [
    "# List of columns to drop\n",
    "columns_to_drop = ['BMR', 'DTP']\n",
    "\n",
    "# Filter out columns that are not in the DataFrame\n",
    "columns_to_drop = [col for col in columns_to_drop if col in X_schoolgaanden_imputed.columns]\n",
    "\n",
    "# Drop the specified columns from the DataFrames\n",
    "X_schoolgaanden = X_schoolgaanden_imputed.drop(columns=columns_to_drop)"
   ]
  },
  {
   "cell_type": "markdown",
   "metadata": {},
   "source": [
    "### 9. Round boolean columns to 0 or 1"
   ]
  },
  {
   "cell_type": "code",
   "execution_count": 150,
   "metadata": {},
   "outputs": [],
   "source": [
    "# Round values within 'bools' columns to 0 or 1 if they exist\n",
    "for col in one_hot_columns:\n",
    "    if col in X_schoolgaanden.columns:\n",
    "        X_schoolgaanden[col] = X_schoolgaanden[col].round().astype(bool)"
   ]
  },
  {
   "cell_type": "markdown",
   "metadata": {},
   "source": [
    "### 10. Save .pkl's"
   ]
  },
  {
   "cell_type": "code",
   "execution_count": 151,
   "metadata": {},
   "outputs": [],
   "source": [
    "# Save original features\n",
    "X_schoolgaanden.to_pickle('4_Data/Pickles/X_schoolgaanden.pkl')\n",
    "\n",
    "# Save subs\n",
    "X_schoolgaanden_notvaccinated = X_schoolgaanden.loc[y_schoolgaanden == 0]\n",
    "X_schoolgaanden_vaccinated = X_schoolgaanden.loc[y_schoolgaanden == 1]\n",
    "\n",
    "# Save\n",
    "X_schoolgaanden_notvaccinated.to_pickle('4_Data/Pickles/X_schoolgaanden_notvaccinated.pkl')\n",
    "X_schoolgaanden_vaccinated.to_pickle('4_Data/Pickles/X_schoolgaanden_vaccinated.pkl')"
   ]
  },
  {
   "cell_type": "code",
   "execution_count": 152,
   "metadata": {},
   "outputs": [],
   "source": [
    "# Save scaler for numerical subsets\n",
    "scaler = RobustScaler()\n",
    "\n",
    "# Save y_schoolgaanden\n",
    "np.save('4_Data\\Arrays\\y_schoolgaanden.npy', y_schoolgaanden)\n",
    "\n",
    "# Save columns of dtype float of X_schoolgaanden\n",
    "X_schoolgaanden_notvaccinated_numericals = X_schoolgaanden_notvaccinated.select_dtypes(include='float64')\n",
    "X_schoolgaanden_notvaccinated_numericals = pd.DataFrame(scaler.fit_transform(X_schoolgaanden_notvaccinated_numericals), columns=X_schoolgaanden_notvaccinated_numericals.columns)\n",
    "X_schoolgaanden_notvaccinated_numericals.to_pickle('4_Data/Pickles/X_schoolgaanden_notvaccinated_numericals.pkl')\n",
    "\n",
    "# Save columns of dtype bool of X_schoolgaanden\n",
    "X_schoolgaanden_notvaccinated_booleans = X_schoolgaanden_notvaccinated.select_dtypes(exclude='float64')\n",
    "X_schoolgaanden_notvaccinated_booleans.to_pickle('4_Data/Pickles/X_schoolgaanden_notvaccinated_booleans.pkl')"
   ]
  }
 ],
 "metadata": {
  "kernelspec": {
   "display_name": "Python 3",
   "language": "python",
   "name": "python3"
  },
  "language_info": {
   "codemirror_mode": {
    "name": "ipython",
    "version": 3
   },
   "file_extension": ".py",
   "mimetype": "text/x-python",
   "name": "python",
   "nbconvert_exporter": "python",
   "pygments_lexer": "ipython3",
   "version": "3.12.5"
  }
 },
 "nbformat": 4,
 "nbformat_minor": 2
}
