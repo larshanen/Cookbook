{
 "cells": [
  {
   "cell_type": "markdown",
   "metadata": {},
   "source": [
    "### 1. Import modules"
   ]
  },
  {
   "cell_type": "code",
   "execution_count": 1,
   "metadata": {},
   "outputs": [],
   "source": [
    "import warnings\n",
    "warnings.filterwarnings('ignore')\n",
    "\n",
    "import pandas as pd\n",
    "import numpy as np\n",
    "import pickle\n",
    "import matplotlib.pyplot as plt\n",
    "import umap\n",
    "import umap.plot"
   ]
  },
  {
   "cell_type": "markdown",
   "metadata": {},
   "source": [
    "### 2. Merge .pkl's"
   ]
  },
  {
   "cell_type": "code",
   "execution_count": 2,
   "metadata": {},
   "outputs": [],
   "source": [
    "# Load data\n",
    "X_schoolgaanden_numericals = pd.read_pickle('../4_Data/Pickles/X_schoolgaanden_notvaccinated_numericals.pkl')\n",
    "X_schoolgaanden_booleans = pd.read_pickle('../4_Data/Pickles/X_schoolgaanden_notvaccinated_booleans.pkl')"
   ]
  },
  {
   "cell_type": "code",
   "execution_count": 3,
   "metadata": {},
   "outputs": [
    {
     "data": {
      "text/plain": [
       "percentage_geb_nederland_herkomst_nederland                                                      float64\n",
       "percentage_huurwoningen                                                                          float64\n",
       "gemiddelde_woz_waarde_woning                                                                     float64\n",
       "ArbeidNettoarbeidsparticipatie_                                                                  float64\n",
       "InkomenInkomen_van_personenGemiddeld_inkomen_per_inwoner_x_1_000_euro                            float64\n",
       "InkomenInkomen_van_huishoudens40_huishoudens_met_laagste_inkomen_                                float64\n",
       "InkomenInkomen_van_huishoudens20_huishoudens_met_hoogste_inkomen_                                float64\n",
       "InkomenInkomen_van_huishoudensHuishoudens_met_een_laag_inkomen_                                  float64\n",
       "InkomenInkomen_van_huishoudensHuish_onder_of_rond_sociaal_minimum_                               float64\n",
       "InkomenInkomen_van_huishoudensHuishoudens_tot_110_van_sociaal_minimum_                           float64\n",
       "InkomenInkomen_van_huishoudensHuishoudens_tot_120_van_sociaal_minimum_                           float64\n",
       "InkomenInkomen_van_huishoudensMediaan_vermogen_van_particuliere_huish_x_1_000_euro               float64\n",
       "ZorgPercentage_jongeren_met_jeugdzorg_                                                           float64\n",
       "MotorvoertuigenPersonenautosPersonenautos_per_huishouden_per_huishouden                          float64\n",
       "Siblings                                                                                         float64\n",
       "aandeel_mannen                                                                                   float64\n",
       "aandeel_vrouwen                                                                                  float64\n",
       "aandeel_inwoners_0_tot_15_jaar                                                                   float64\n",
       "aandeel_inwoners_15_tot_25_jaar                                                                  float64\n",
       "aandeel_inwoners_25_tot_45_jaar                                                                  float64\n",
       "aandeel_inwoners_45_tot_65_jaar                                                                  float64\n",
       "BevolkingBurgerlijke_staatGehuwd_aandeel                                                         float64\n",
       "BevolkingBurgerlijke_staatGescheiden_aandeel                                                     float64\n",
       "BevolkingPersonen_met_een_migratieachtergrondNietwestersMarokko_aandeel                          float64\n",
       "BevolkingPersonen_met_een_migratieachtergrondNietwestersNederlandse_Antillen_en_Aruba_aandeel    float64\n",
       "BevolkingPersonen_met_een_migratieachtergrondNietwestersSuriname_aandeel                         float64\n",
       "BevolkingPersonen_met_een_migratieachtergrondNietwestersTurkije_aandeel                          float64\n",
       "BevolkingPersonen_met_een_migratieachtergrondNietwestersOverig_nietwesters_aandeel               float64\n",
       "OpleidingsniveauOpleidingsniveau_laag_aandeel                                                    float64\n",
       "OpleidingsniveauOpleidingsniveau_hoog_aandeel                                                    float64\n",
       "Sociale_zekerheidPersonen_per_soort_uitkering_Bijstand_aandeel                                   float64\n",
       "Sociale_zekerheidPersonen_per_soort_uitkering_AO_aandeel                                         float64\n",
       "Sociale_zekerheidPersonen_per_soort_uitkering_WW_aandeel                                         float64\n",
       "Sociale_zekerheidPersonen_per_soort_uitkering_AOW_aandeel                                        float64\n",
       "ZorgJongeren_met_jeugdzorg_in_natura_aandeel                                                     float64\n",
       "aandeel_eenpersoonshuishoudens                                                                   float64\n",
       "aandeel_meerpersoonshuishoudens_zonder_kind                                                      float64\n",
       "aandeel_eenouderhuishoudens                                                                      float64\n",
       "aandeel_tweeouderhuishoudens                                                                     float64\n",
       "aandeel_personen_met_uitkering_onder_aowlft                                                      float64\n",
       "aandeel_meergezins_woningen                                                                      float64\n",
       "aandeel_huurwoningen_in_bezit_woningcorporaties                                                  float64\n",
       "aandeel_niet_bewoonde_woningen                                                                   float64\n",
       "Leeftijd_moeder                                                                                  float64\n",
       "Leeftijd_ouder2                                                                                  float64\n",
       "dtype: object"
      ]
     },
     "execution_count": 3,
     "metadata": {},
     "output_type": "execute_result"
    }
   ],
   "source": [
    "X_schoolgaanden_numericals.dtypes"
   ]
  },
  {
   "cell_type": "code",
   "execution_count": 4,
   "metadata": {},
   "outputs": [
    {
     "data": {
      "text/plain": [
       "percentage_geb_nederland_herkomst_overig_europa_0.0           bool\n",
       "percentage_geb_nederland_herkomst_overig_europa_10.0          bool\n",
       "percentage_geb_nederland_herkomst_overig_europa_nan           bool\n",
       "percentage_geb_nederland_herkomst_buiten_europa_0.0           bool\n",
       "percentage_geb_nederland_herkomst_buiten_europa_10.0          bool\n",
       "percentage_geb_nederland_herkomst_buiten_europa_20.0          bool\n",
       "percentage_geb_nederland_herkomst_buiten_europa_nan           bool\n",
       "percentage_geb_buiten_nederland_herkomst_europa_0.0           bool\n",
       "percentage_geb_buiten_nederland_herkomst_europa_10.0          bool\n",
       "percentage_geb_buiten_nederland_herkomst_europa_20.0          bool\n",
       "percentage_geb_buiten_nederland_herkomst_europa_30.0          bool\n",
       "percentage_geb_buiten_nederland_herkomst_europa_40.0          bool\n",
       "percentage_geb_buiten_nederland_herkomst_europa_nan           bool\n",
       "percentage_geb_buiten_nederland_herkmst_buiten_europa_0.0     bool\n",
       "percentage_geb_buiten_nederland_herkmst_buiten_europa_10.0    bool\n",
       "percentage_geb_buiten_nederland_herkmst_buiten_europa_20.0    bool\n",
       "percentage_geb_buiten_nederland_herkmst_buiten_europa_30.0    bool\n",
       "percentage_geb_buiten_nederland_herkmst_buiten_europa_nan     bool\n",
       "stedelijkheid_1.0                                             bool\n",
       "stedelijkheid_2.0                                             bool\n",
       "stedelijkheid_3.0                                             bool\n",
       "stedelijkheid_4.0                                             bool\n",
       "stedelijkheid_5.0                                             bool\n",
       "stedelijkheid_nan                                             bool\n",
       "Toestemming_0.0                                               bool\n",
       "Toestemming_1.0                                               bool\n",
       "Toestemming_nan                                               bool\n",
       "Geslacht=mannelijk                                            bool\n",
       "Gevaccineerd_ouder1                                           bool\n",
       "Gevaccineerd_ouder2                                           bool\n",
       "dtype: object"
      ]
     },
     "execution_count": 4,
     "metadata": {},
     "output_type": "execute_result"
    }
   ],
   "source": [
    "X_schoolgaanden_booleans.dtypes"
   ]
  },
  {
   "cell_type": "markdown",
   "metadata": {},
   "source": [
    "### 3. UMAP - Visualization of numerical space"
   ]
  },
  {
   "cell_type": "markdown",
   "metadata": {},
   "source": [
    "#### 3.2 Model"
   ]
  },
  {
   "cell_type": "code",
   "execution_count": 5,
   "metadata": {},
   "outputs": [],
   "source": [
    "# Save mappers\n",
    "numeric_mapper1 = umap.UMAP(metric='euclidean', n_neighbors=100, min_dist=0.1, n_components=15, random_state=42).fit(X_schoolgaanden_numericals)\n",
    "numeric_mapper2 = umap.UMAP(metric='euclidean', n_neighbors=100, min_dist=0.1, n_components=15, random_state=43).fit(X_schoolgaanden_numericals)"
   ]
  },
  {
   "cell_type": "markdown",
   "metadata": {},
   "source": [
    "### 4. UMAP - Visualization of boolean space"
   ]
  },
  {
   "cell_type": "markdown",
   "metadata": {},
   "source": [
    "#### 4.2 Model"
   ]
  },
  {
   "cell_type": "code",
   "execution_count": 6,
   "metadata": {},
   "outputs": [],
   "source": [
    "# Save mappers\n",
    "boolean_mapper1 = umap.UMAP(metric='dice', n_neighbors=100, min_dist=0.1, n_components=15, random_state=42).fit(X_schoolgaanden_booleans)\n",
    "boolean_mapper2 = umap.UMAP(metric='dice', n_neighbors=100, min_dist=0.1, n_components=15, random_state=43).fit(X_schoolgaanden_booleans)"
   ]
  },
  {
   "cell_type": "markdown",
   "metadata": {},
   "source": [
    "### 5. Combine UMAP models"
   ]
  },
  {
   "cell_type": "code",
   "execution_count": 7,
   "metadata": {},
   "outputs": [],
   "source": [
    "# Plot\n",
    "intersection_mapper1 = numeric_mapper1 * boolean_mapper1\n",
    "intersection_mapper2 = numeric_mapper2 * boolean_mapper2"
   ]
  },
  {
   "cell_type": "code",
   "execution_count": 8,
   "metadata": {},
   "outputs": [],
   "source": [
    "intersection_embedding1 = intersection_mapper1.embedding_\n",
    "intersection_embedding2 = intersection_mapper2.embedding_"
   ]
  },
  {
   "cell_type": "code",
   "execution_count": 9,
   "metadata": {},
   "outputs": [],
   "source": [
    "# Plot\n",
    "union_mapper1 = numeric_mapper1 + boolean_mapper1\n",
    "union_mapper2 = numeric_mapper2 + boolean_mapper2"
   ]
  },
  {
   "cell_type": "code",
   "execution_count": 10,
   "metadata": {},
   "outputs": [],
   "source": [
    "union_embedding1 = union_mapper1.embedding_\n",
    "union_embedding2 = union_mapper2.embedding_"
   ]
  },
  {
   "cell_type": "markdown",
   "metadata": {},
   "source": [
    "### 6. Save as arrays"
   ]
  },
  {
   "cell_type": "code",
   "execution_count": 11,
   "metadata": {},
   "outputs": [],
   "source": [
    "# Save embeddings\n",
    "np.save('../4_Data/Arrays/X_schoolgaanden_notvaccinated_UMAP15_intersection1.npy', intersection_embedding1)\n",
    "np.save('../4_Data/Arrays/X_schoolgaanden_notvaccinated_UMAP15_intersection2.npy', intersection_embedding2)\n",
    "np.save('../4_Data/Arrays/X_schoolgaanden_notvaccinated_UMAP15_union1.npy', union_embedding1)\n",
    "np.save('../4_Data/Arrays/X_schoolgaanden_notvaccinated_UMAP15_union2.npy', union_embedding2)"
   ]
  }
 ],
 "metadata": {
  "kernelspec": {
   "display_name": "Python 3",
   "language": "python",
   "name": "python3"
  },
  "language_info": {
   "codemirror_mode": {
    "name": "ipython",
    "version": 3
   },
   "file_extension": ".py",
   "mimetype": "text/x-python",
   "name": "python",
   "nbconvert_exporter": "python",
   "pygments_lexer": "ipython3",
   "version": "3.12.5"
  }
 },
 "nbformat": 4,
 "nbformat_minor": 2
}
